{
 "cells": [
  {
   "cell_type": "markdown",
   "id": "873f80d0",
   "metadata": {},
   "source": [
    "# Crossbill and Squirrel observations in Scotland"
   ]
  },
  {
   "cell_type": "markdown",
   "id": "50830ad1",
   "metadata": {},
   "source": [
    "The Scottish Crossbill *(Loxia scotica)* is a finch that inhabits the Scots pine forests in the Scottish Highlands. The crossbill is the only endemic bird to the UK, meaning it's found nowhere else in the world. \n",
    "\n",
    "The beak of Crossbills' are adapted for taking seeds from the cones of pine, spruce and larch. They love the seeds of the Scots pine, and forests are managed to make sure the trees are producing plentiful cones. They spend most of their time at the top of pine trees. \n",
    "<br>\n",
    "<div>\n",
    "<img src=\"crossbill.jpeg\" width=\"500\"/>\n",
    "</div>\n",
    "\n",
    "The population has estimated to be at around 1500 adult birds, however they do face the problem of nest predation from an equally cute and equally red furry fiend. \n",
    "\n",
    "<br>\n",
    "\n",
    "<div>\n",
    "<img src=\"squirrel.jpeg\" width=\"500\"/>\n",
    "</div>\n",
    "\n",
    "### The red squirrel *(Sciurus vulgaris)*\n",
    "\n",
    "Whilst we don't often see red squirrels in the UK anymore, especially in England, they are actually the native species. The grey squirrel were introduced to the UK in the 1800s, and have pushed the red squirrel population north. It is thought that without conservation support, red squirrels could become extinct in as little as 10 years. "
   ]
  },
  {
   "cell_type": "markdown",
   "id": "1661dc43",
   "metadata": {},
   "source": [
    "## Crossbill distribution changes from 19XX to 20XX"
   ]
  },
  {
   "cell_type": "markdown",
   "id": "b9856afa",
   "metadata": {},
   "source": [
    "Ting's data goes here"
   ]
  },
  {
   "cell_type": "code",
   "execution_count": 5,
   "id": "3e3dd9a8",
   "metadata": {},
   "outputs": [],
   "source": [
    "sdata = pd.read_csv('squirrel.csv')"
   ]
  },
  {
   "cell_type": "code",
   "execution_count": 6,
   "id": "4a0abb23",
   "metadata": {},
   "outputs": [
    {
     "data": {
      "text/html": [
       "<div>\n",
       "<style scoped>\n",
       "    .dataframe tbody tr th:only-of-type {\n",
       "        vertical-align: middle;\n",
       "    }\n",
       "\n",
       "    .dataframe tbody tr th {\n",
       "        vertical-align: top;\n",
       "    }\n",
       "\n",
       "    .dataframe thead th {\n",
       "        text-align: right;\n",
       "    }\n",
       "</style>\n",
       "<table border=\"1\" class=\"dataframe\">\n",
       "  <thead>\n",
       "    <tr style=\"text-align: right;\">\n",
       "      <th></th>\n",
       "      <th>species</th>\n",
       "      <th>stateProvince</th>\n",
       "      <th>occurrenceStatus</th>\n",
       "      <th>individualCount</th>\n",
       "      <th>publishingOrgKey</th>\n",
       "      <th>decimalLatitude</th>\n",
       "      <th>decimalLongitude</th>\n",
       "      <th>coordinateUncertaintyInMeters</th>\n",
       "      <th>eventDate</th>\n",
       "      <th>day</th>\n",
       "      <th>month</th>\n",
       "      <th>year</th>\n",
       "    </tr>\n",
       "  </thead>\n",
       "  <tbody>\n",
       "    <tr>\n",
       "      <th>0</th>\n",
       "      <td>Sciurus carolinensis</td>\n",
       "      <td>Scotland</td>\n",
       "      <td>PRESENT</td>\n",
       "      <td>1.0</td>\n",
       "      <td>d98506d8-5ab1-4a26-9ef1-766bdb54304f</td>\n",
       "      <td>57.040759</td>\n",
       "      <td>-2.454805</td>\n",
       "      <td>707.1</td>\n",
       "      <td>22/02/2008 00:00</td>\n",
       "      <td>22</td>\n",
       "      <td>2</td>\n",
       "      <td>2008</td>\n",
       "    </tr>\n",
       "    <tr>\n",
       "      <th>1</th>\n",
       "      <td>Sciurus vulgaris</td>\n",
       "      <td>Scotland</td>\n",
       "      <td>PRESENT</td>\n",
       "      <td>1.0</td>\n",
       "      <td>d98506d8-5ab1-4a26-9ef1-766bdb54304f</td>\n",
       "      <td>55.186290</td>\n",
       "      <td>-3.045949</td>\n",
       "      <td>707.1</td>\n",
       "      <td>07/05/2014 00:00</td>\n",
       "      <td>7</td>\n",
       "      <td>5</td>\n",
       "      <td>2014</td>\n",
       "    </tr>\n",
       "    <tr>\n",
       "      <th>2</th>\n",
       "      <td>Sciurus carolinensis</td>\n",
       "      <td>Scotland</td>\n",
       "      <td>PRESENT</td>\n",
       "      <td>1.0</td>\n",
       "      <td>d98506d8-5ab1-4a26-9ef1-766bdb54304f</td>\n",
       "      <td>57.132417</td>\n",
       "      <td>-2.175075</td>\n",
       "      <td>0.7</td>\n",
       "      <td>16/03/2019 00:00</td>\n",
       "      <td>16</td>\n",
       "      <td>3</td>\n",
       "      <td>2019</td>\n",
       "    </tr>\n",
       "    <tr>\n",
       "      <th>3</th>\n",
       "      <td>Sciurus vulgaris</td>\n",
       "      <td>Scotland</td>\n",
       "      <td>PRESENT</td>\n",
       "      <td>1.0</td>\n",
       "      <td>d98506d8-5ab1-4a26-9ef1-766bdb54304f</td>\n",
       "      <td>56.781948</td>\n",
       "      <td>-3.864949</td>\n",
       "      <td>70.7</td>\n",
       "      <td>19/11/2013 00:00</td>\n",
       "      <td>19</td>\n",
       "      <td>11</td>\n",
       "      <td>2013</td>\n",
       "    </tr>\n",
       "    <tr>\n",
       "      <th>4</th>\n",
       "      <td>Sciurus carolinensis</td>\n",
       "      <td>Scotland</td>\n",
       "      <td>PRESENT</td>\n",
       "      <td>1.0</td>\n",
       "      <td>d98506d8-5ab1-4a26-9ef1-766bdb54304f</td>\n",
       "      <td>55.517059</td>\n",
       "      <td>-2.551879</td>\n",
       "      <td>70.7</td>\n",
       "      <td>18/05/2018 00:00</td>\n",
       "      <td>18</td>\n",
       "      <td>5</td>\n",
       "      <td>2018</td>\n",
       "    </tr>\n",
       "  </tbody>\n",
       "</table>\n",
       "</div>"
      ],
      "text/plain": [
       "                species stateProvince occurrenceStatus  individualCount  \\\n",
       "0  Sciurus carolinensis      Scotland          PRESENT              1.0   \n",
       "1      Sciurus vulgaris      Scotland          PRESENT              1.0   \n",
       "2  Sciurus carolinensis      Scotland          PRESENT              1.0   \n",
       "3      Sciurus vulgaris      Scotland          PRESENT              1.0   \n",
       "4  Sciurus carolinensis      Scotland          PRESENT              1.0   \n",
       "\n",
       "                       publishingOrgKey  decimalLatitude  decimalLongitude  \\\n",
       "0  d98506d8-5ab1-4a26-9ef1-766bdb54304f        57.040759         -2.454805   \n",
       "1  d98506d8-5ab1-4a26-9ef1-766bdb54304f        55.186290         -3.045949   \n",
       "2  d98506d8-5ab1-4a26-9ef1-766bdb54304f        57.132417         -2.175075   \n",
       "3  d98506d8-5ab1-4a26-9ef1-766bdb54304f        56.781948         -3.864949   \n",
       "4  d98506d8-5ab1-4a26-9ef1-766bdb54304f        55.517059         -2.551879   \n",
       "\n",
       "   coordinateUncertaintyInMeters         eventDate  day  month  year  \n",
       "0                          707.1  22/02/2008 00:00   22      2  2008  \n",
       "1                          707.1  07/05/2014 00:00    7      5  2014  \n",
       "2                            0.7  16/03/2019 00:00   16      3  2019  \n",
       "3                           70.7  19/11/2013 00:00   19     11  2013  \n",
       "4                           70.7  18/05/2018 00:00   18      5  2018  "
      ]
     },
     "execution_count": 6,
     "metadata": {},
     "output_type": "execute_result"
    }
   ],
   "source": [
    "sdata.head()"
   ]
  },
  {
   "cell_type": "markdown",
   "id": "ac392232",
   "metadata": {},
   "source": [
    "#### Image references:\n",
    "Red squirrel: https://upload.wikimedia.org/wikipedia/commons/thumb/1/1c/Squirrel_posing.jpg/1200px-Squirrel_posing.jpg\n",
    "Crossbill: https://ichef.bbci.co.uk/news/976/cpsprodpb/0EF1/production/_99052830_scottishcrossbill.jpg\n"
   ]
  },
  {
   "cell_type": "code",
   "execution_count": null,
   "id": "6b7dd076",
   "metadata": {},
   "outputs": [],
   "source": []
  }
 ],
 "metadata": {
  "kernelspec": {
   "display_name": "Python 3 (ipykernel)",
   "language": "python",
   "name": "python3"
  },
  "language_info": {
   "codemirror_mode": {
    "name": "ipython",
    "version": 3
   },
   "file_extension": ".py",
   "mimetype": "text/x-python",
   "name": "python",
   "nbconvert_exporter": "python",
   "pygments_lexer": "ipython3",
   "version": "3.9.15"
  }
 },
 "nbformat": 4,
 "nbformat_minor": 5
}
