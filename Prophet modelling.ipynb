{
 "cells": [
  {
   "cell_type": "code",
   "execution_count": 528,
   "id": "c55b2d52",
   "metadata": {},
   "outputs": [],
   "source": [
    "import pandas as pd\n",
    "import seaborn as sns\n",
    "import matplotlib.pyplot as plt\n",
    "import numpy as np\n"
   ]
  },
  {
   "cell_type": "code",
   "execution_count": 529,
   "id": "11d5a883",
   "metadata": {},
   "outputs": [
    {
     "name": "stdout",
     "output_type": "stream",
     "text": [
      "\u001b[33mDEPRECATION: Configuring installation scheme with distutils config files is deprecated and will no longer work in the near future. If you are using a Homebrew or Linuxbrew Python, please see discussion at https://github.com/Homebrew/homebrew-core/issues/76621\u001b[0m\u001b[33m\n",
      "\u001b[0mRequirement already satisfied: statsmodels in /opt/homebrew/lib/python3.9/site-packages (0.13.5)\n",
      "Requirement already satisfied: numpy>=1.17 in /Users/louisejones/Library/Python/3.9/lib/python/site-packages (from statsmodels) (1.23.5)\n",
      "Requirement already satisfied: patsy>=0.5.2 in /opt/homebrew/lib/python3.9/site-packages (from statsmodels) (0.5.3)\n",
      "Requirement already satisfied: packaging>=21.3 in /opt/homebrew/lib/python3.9/site-packages (from statsmodels) (21.3)\n",
      "Requirement already satisfied: pandas>=0.25 in /opt/homebrew/lib/python3.9/site-packages (from statsmodels) (1.4.1)\n",
      "Requirement already satisfied: scipy>=1.3 in /opt/homebrew/lib/python3.9/site-packages (from statsmodels) (1.9.3)\n",
      "Requirement already satisfied: pyparsing!=3.0.5,>=2.0.2 in /opt/homebrew/lib/python3.9/site-packages (from packaging>=21.3->statsmodels) (3.0.9)\n",
      "Requirement already satisfied: python-dateutil>=2.8.1 in /Users/louisejones/Library/Python/3.9/lib/python/site-packages (from pandas>=0.25->statsmodels) (2.8.2)\n",
      "Requirement already satisfied: pytz>=2020.1 in /Users/louisejones/Library/Python/3.9/lib/python/site-packages (from pandas>=0.25->statsmodels) (2022.6)\n",
      "Requirement already satisfied: six in /opt/homebrew/lib/python3.9/site-packages (from patsy>=0.5.2->statsmodels) (1.16.0)\n",
      "\u001b[33mDEPRECATION: Configuring installation scheme with distutils config files is deprecated and will no longer work in the near future. If you are using a Homebrew or Linuxbrew Python, please see discussion at https://github.com/Homebrew/homebrew-core/issues/76621\u001b[0m\u001b[33m\n",
      "\u001b[0m"
     ]
    }
   ],
   "source": [
    "!pip install statsmodels"
   ]
  },
  {
   "cell_type": "code",
   "execution_count": 530,
   "id": "48b95333",
   "metadata": {},
   "outputs": [],
   "source": [
    "import statsmodels.api as sm"
   ]
  },
  {
   "cell_type": "code",
   "execution_count": 531,
   "id": "30f4f07d",
   "metadata": {},
   "outputs": [
    {
     "name": "stdout",
     "output_type": "stream",
     "text": [
      "\u001b[33mDEPRECATION: Configuring installation scheme with distutils config files is deprecated and will no longer work in the near future. If you are using a Homebrew or Linuxbrew Python, please see discussion at https://github.com/Homebrew/homebrew-core/issues/76621\u001b[0m\u001b[33m\n",
      "\u001b[0mRequirement already satisfied: fbprophet in /opt/homebrew/lib/python3.9/site-packages (0.7.1)\n",
      "Requirement already satisfied: Cython>=0.22 in /opt/homebrew/lib/python3.9/site-packages (from fbprophet) (0.29.33)\n",
      "Requirement already satisfied: cmdstanpy==0.9.5 in /opt/homebrew/lib/python3.9/site-packages (from fbprophet) (0.9.5)\n",
      "Requirement already satisfied: pystan>=2.14 in /opt/homebrew/lib/python3.9/site-packages (from fbprophet) (2.19.1.1)\n",
      "Requirement already satisfied: numpy>=1.15.4 in /Users/louisejones/Library/Python/3.9/lib/python/site-packages (from fbprophet) (1.23.5)\n",
      "Requirement already satisfied: pandas>=1.0.4 in /opt/homebrew/lib/python3.9/site-packages (from fbprophet) (1.4.1)\n",
      "Requirement already satisfied: matplotlib>=2.0.0 in /opt/homebrew/lib/python3.9/site-packages (from fbprophet) (3.6.2)\n",
      "Requirement already satisfied: LunarCalendar>=0.0.9 in /opt/homebrew/lib/python3.9/site-packages (from fbprophet) (0.0.9)\n",
      "Requirement already satisfied: convertdate>=2.1.2 in /opt/homebrew/lib/python3.9/site-packages (from fbprophet) (2.4.0)\n",
      "Requirement already satisfied: holidays>=0.10.2 in /opt/homebrew/lib/python3.9/site-packages (from fbprophet) (0.21)\n",
      "Requirement already satisfied: setuptools-git>=1.2 in /opt/homebrew/lib/python3.9/site-packages (from fbprophet) (1.2)\n",
      "Requirement already satisfied: python-dateutil>=2.8.0 in /Users/louisejones/Library/Python/3.9/lib/python/site-packages (from fbprophet) (2.8.2)\n",
      "Requirement already satisfied: tqdm>=4.36.1 in /Users/louisejones/Library/Python/3.9/lib/python/site-packages (from fbprophet) (4.64.1)\n",
      "Requirement already satisfied: pymeeus<=1,>=0.3.13 in /opt/homebrew/lib/python3.9/site-packages (from convertdate>=2.1.2->fbprophet) (0.5.12)\n",
      "Requirement already satisfied: hijri-converter in /opt/homebrew/lib/python3.9/site-packages (from holidays>=0.10.2->fbprophet) (2.2.4)\n",
      "Requirement already satisfied: korean-lunar-calendar in /opt/homebrew/lib/python3.9/site-packages (from holidays>=0.10.2->fbprophet) (0.3.1)\n",
      "Requirement already satisfied: ephem>=3.7.5.3 in /opt/homebrew/lib/python3.9/site-packages (from LunarCalendar>=0.0.9->fbprophet) (4.1.4)\n",
      "Requirement already satisfied: pytz in /Users/louisejones/Library/Python/3.9/lib/python/site-packages (from LunarCalendar>=0.0.9->fbprophet) (2022.6)\n",
      "Requirement already satisfied: packaging>=20.0 in /opt/homebrew/lib/python3.9/site-packages (from matplotlib>=2.0.0->fbprophet) (21.3)\n",
      "Requirement already satisfied: pillow>=6.2.0 in /opt/homebrew/lib/python3.9/site-packages (from matplotlib>=2.0.0->fbprophet) (9.3.0)\n",
      "Requirement already satisfied: pyparsing>=2.2.1 in /opt/homebrew/lib/python3.9/site-packages (from matplotlib>=2.0.0->fbprophet) (3.0.9)\n",
      "Requirement already satisfied: cycler>=0.10 in /opt/homebrew/lib/python3.9/site-packages (from matplotlib>=2.0.0->fbprophet) (0.11.0)\n",
      "Requirement already satisfied: contourpy>=1.0.1 in /opt/homebrew/lib/python3.9/site-packages (from matplotlib>=2.0.0->fbprophet) (1.0.6)\n",
      "Requirement already satisfied: kiwisolver>=1.0.1 in /opt/homebrew/lib/python3.9/site-packages (from matplotlib>=2.0.0->fbprophet) (1.4.4)\n",
      "Requirement already satisfied: fonttools>=4.22.0 in /opt/homebrew/lib/python3.9/site-packages (from matplotlib>=2.0.0->fbprophet) (4.38.0)\n",
      "Requirement already satisfied: six>=1.5 in /opt/homebrew/lib/python3.9/site-packages (from python-dateutil>=2.8.0->fbprophet) (1.16.0)\n",
      "\u001b[33mDEPRECATION: Configuring installation scheme with distutils config files is deprecated and will no longer work in the near future. If you are using a Homebrew or Linuxbrew Python, please see discussion at https://github.com/Homebrew/homebrew-core/issues/76621\u001b[0m\u001b[33m\n",
      "\u001b[0m"
     ]
    }
   ],
   "source": [
    "!pip install fbprophet"
   ]
  },
  {
   "cell_type": "code",
   "execution_count": 532,
   "id": "75a884ca",
   "metadata": {},
   "outputs": [],
   "source": [
    "from fbprophet import Prophet"
   ]
  },
  {
   "cell_type": "code",
   "execution_count": 533,
   "id": "25d237e3",
   "metadata": {},
   "outputs": [],
   "source": [
    "df = pd.read_csv('data/squirrel.csv')\n",
    "rf = pd.read_csv('data/rainfall.csv')\n",
    "rsquir = pd.DataFrame(df[df['species'] == 'Sciurus vulgaris' ])"
   ]
  },
  {
   "cell_type": "code",
   "execution_count": 534,
   "id": "0ce568b8",
   "metadata": {},
   "outputs": [],
   "source": [
    "rsquir['year_parsed'] = pd.to_datetime(rsquir['year'], format = '%Y')\n"
   ]
  },
  {
   "cell_type": "code",
   "execution_count": 535,
   "id": "0d7e0e9f",
   "metadata": {},
   "outputs": [],
   "source": [
    "rsquir2 = pd.DataFrame(rsquir.groupby('year_parsed')['individualCount'].sum())\n",
    "rsquir = rsquir[rsquir[\"year_parsed\"].dt.year > 1990]\n",
    "rsquir = rsquir[rsquir[\"year_parsed\"].dt.year < 2020]"
   ]
  },
  {
   "cell_type": "code",
   "execution_count": 536,
   "id": "38ce3f45",
   "metadata": {},
   "outputs": [],
   "source": [
    "rsquir['year_parsed'] = rsquir['year_parsed'].dt.strftime('%Y')"
   ]
  },
  {
   "cell_type": "code",
   "execution_count": 537,
   "id": "12407c97",
   "metadata": {},
   "outputs": [
    {
     "data": {
      "text/html": [
       "<div>\n",
       "<style scoped>\n",
       "    .dataframe tbody tr th:only-of-type {\n",
       "        vertical-align: middle;\n",
       "    }\n",
       "\n",
       "    .dataframe tbody tr th {\n",
       "        vertical-align: top;\n",
       "    }\n",
       "\n",
       "    .dataframe thead th {\n",
       "        text-align: right;\n",
       "    }\n",
       "</style>\n",
       "<table border=\"1\" class=\"dataframe\">\n",
       "  <thead>\n",
       "    <tr style=\"text-align: right;\">\n",
       "      <th></th>\n",
       "      <th>year</th>\n",
       "      <th>individualCount</th>\n",
       "    </tr>\n",
       "  </thead>\n",
       "  <tbody>\n",
       "    <tr>\n",
       "      <th>0</th>\n",
       "      <td>1991</td>\n",
       "      <td>311.0</td>\n",
       "    </tr>\n",
       "    <tr>\n",
       "      <th>1</th>\n",
       "      <td>1992</td>\n",
       "      <td>142.0</td>\n",
       "    </tr>\n",
       "    <tr>\n",
       "      <th>2</th>\n",
       "      <td>1993</td>\n",
       "      <td>324.0</td>\n",
       "    </tr>\n",
       "    <tr>\n",
       "      <th>3</th>\n",
       "      <td>1994</td>\n",
       "      <td>1091.0</td>\n",
       "    </tr>\n",
       "    <tr>\n",
       "      <th>4</th>\n",
       "      <td>1995</td>\n",
       "      <td>602.0</td>\n",
       "    </tr>\n",
       "    <tr>\n",
       "      <th>5</th>\n",
       "      <td>1996</td>\n",
       "      <td>937.0</td>\n",
       "    </tr>\n",
       "    <tr>\n",
       "      <th>6</th>\n",
       "      <td>1997</td>\n",
       "      <td>1358.0</td>\n",
       "    </tr>\n",
       "    <tr>\n",
       "      <th>7</th>\n",
       "      <td>1998</td>\n",
       "      <td>1016.0</td>\n",
       "    </tr>\n",
       "    <tr>\n",
       "      <th>8</th>\n",
       "      <td>1999</td>\n",
       "      <td>633.0</td>\n",
       "    </tr>\n",
       "    <tr>\n",
       "      <th>9</th>\n",
       "      <td>2000</td>\n",
       "      <td>817.0</td>\n",
       "    </tr>\n",
       "    <tr>\n",
       "      <th>10</th>\n",
       "      <td>2001</td>\n",
       "      <td>227.0</td>\n",
       "    </tr>\n",
       "    <tr>\n",
       "      <th>11</th>\n",
       "      <td>2002</td>\n",
       "      <td>475.0</td>\n",
       "    </tr>\n",
       "    <tr>\n",
       "      <th>12</th>\n",
       "      <td>2003</td>\n",
       "      <td>460.0</td>\n",
       "    </tr>\n",
       "    <tr>\n",
       "      <th>13</th>\n",
       "      <td>2004</td>\n",
       "      <td>747.0</td>\n",
       "    </tr>\n",
       "    <tr>\n",
       "      <th>14</th>\n",
       "      <td>2005</td>\n",
       "      <td>1976.0</td>\n",
       "    </tr>\n",
       "    <tr>\n",
       "      <th>15</th>\n",
       "      <td>2006</td>\n",
       "      <td>3917.0</td>\n",
       "    </tr>\n",
       "    <tr>\n",
       "      <th>16</th>\n",
       "      <td>2007</td>\n",
       "      <td>6256.0</td>\n",
       "    </tr>\n",
       "    <tr>\n",
       "      <th>17</th>\n",
       "      <td>2008</td>\n",
       "      <td>4481.0</td>\n",
       "    </tr>\n",
       "    <tr>\n",
       "      <th>18</th>\n",
       "      <td>2009</td>\n",
       "      <td>3133.0</td>\n",
       "    </tr>\n",
       "    <tr>\n",
       "      <th>19</th>\n",
       "      <td>2010</td>\n",
       "      <td>4894.0</td>\n",
       "    </tr>\n",
       "    <tr>\n",
       "      <th>20</th>\n",
       "      <td>2011</td>\n",
       "      <td>4937.0</td>\n",
       "    </tr>\n",
       "    <tr>\n",
       "      <th>21</th>\n",
       "      <td>2012</td>\n",
       "      <td>5483.0</td>\n",
       "    </tr>\n",
       "    <tr>\n",
       "      <th>22</th>\n",
       "      <td>2013</td>\n",
       "      <td>4359.0</td>\n",
       "    </tr>\n",
       "    <tr>\n",
       "      <th>23</th>\n",
       "      <td>2014</td>\n",
       "      <td>4835.0</td>\n",
       "    </tr>\n",
       "    <tr>\n",
       "      <th>24</th>\n",
       "      <td>2015</td>\n",
       "      <td>6652.0</td>\n",
       "    </tr>\n",
       "    <tr>\n",
       "      <th>25</th>\n",
       "      <td>2016</td>\n",
       "      <td>5975.0</td>\n",
       "    </tr>\n",
       "    <tr>\n",
       "      <th>26</th>\n",
       "      <td>2017</td>\n",
       "      <td>7302.0</td>\n",
       "    </tr>\n",
       "    <tr>\n",
       "      <th>27</th>\n",
       "      <td>2018</td>\n",
       "      <td>10862.0</td>\n",
       "    </tr>\n",
       "    <tr>\n",
       "      <th>28</th>\n",
       "      <td>2019</td>\n",
       "      <td>11680.0</td>\n",
       "    </tr>\n",
       "  </tbody>\n",
       "</table>\n",
       "</div>"
      ],
      "text/plain": [
       "    year  individualCount\n",
       "0   1991            311.0\n",
       "1   1992            142.0\n",
       "2   1993            324.0\n",
       "3   1994           1091.0\n",
       "4   1995            602.0\n",
       "5   1996            937.0\n",
       "6   1997           1358.0\n",
       "7   1998           1016.0\n",
       "8   1999            633.0\n",
       "9   2000            817.0\n",
       "10  2001            227.0\n",
       "11  2002            475.0\n",
       "12  2003            460.0\n",
       "13  2004            747.0\n",
       "14  2005           1976.0\n",
       "15  2006           3917.0\n",
       "16  2007           6256.0\n",
       "17  2008           4481.0\n",
       "18  2009           3133.0\n",
       "19  2010           4894.0\n",
       "20  2011           4937.0\n",
       "21  2012           5483.0\n",
       "22  2013           4359.0\n",
       "23  2014           4835.0\n",
       "24  2015           6652.0\n",
       "25  2016           5975.0\n",
       "26  2017           7302.0\n",
       "27  2018          10862.0\n",
       "28  2019          11680.0"
      ]
     },
     "execution_count": 537,
     "metadata": {},
     "output_type": "execute_result"
    }
   ],
   "source": [
    "df = pd.DataFrame(rsquir.groupby('year')[\"individualCount\"].sum())\n",
    "df.reset_index()"
   ]
  },
  {
   "cell_type": "code",
   "execution_count": 538,
   "id": "a38e00a9",
   "metadata": {},
   "outputs": [
    {
     "data": {
      "text/plain": [
       "[Text(0.5, 0, 'Year'), Text(0, 0.5, 'No. of Red Squirrels observed')]"
      ]
     },
     "execution_count": 538,
     "metadata": {},
     "output_type": "execute_result"
    },
    {
     "data": {
      "image/png": "[encoded data removed]",
      "text/plain": [
       "<Figure size 432x288 with 1 Axes>"
      ]
     },
     "metadata": {
      "needs_background": "light"
     },
     "output_type": "display_data"
    }
   ],
   "source": [
    "ax = sns.lineplot(x = \"year\", y = \"individualCount\", data=df)\n",
    "ax.set(xlabel = \"Year\", ylabel=\"No. of Red Squirrels observed\")"
   ]
  },
  {
   "cell_type": "code",
   "execution_count": 539,
   "id": "57578d19",
   "metadata": {},
   "outputs": [],
   "source": [
    "df.head()\n",
    "df.reset_index(inplace = True)"
   ]
  },
  {
   "cell_type": "code",
   "execution_count": 540,
   "id": "8a325207",
   "metadata": {},
   "outputs": [],
   "source": [
    "df = df.rename(columns={\"year\": \"ds\", \"individualCount\":\"y\"})"
   ]
  },
  {
   "cell_type": "code",
   "execution_count": 541,
   "id": "d63305d0",
   "metadata": {},
   "outputs": [
    {
     "data": {
      "text/plain": [
       "ds      int64\n",
       "y     float64\n",
       "dtype: object"
      ]
     },
     "execution_count": 541,
     "metadata": {},
     "output_type": "execute_result"
    }
   ],
   "source": [
    "df.dtypes"
   ]
  },
  {
   "cell_type": "code",
   "execution_count": 542,
   "id": "4346fec8",
   "metadata": {},
   "outputs": [],
   "source": [
    "df['ds'] = pd.to_datetime(df['ds'], format = '%Y')"
   ]
  },
  {
   "cell_type": "code",
   "execution_count": 543,
   "id": "806dc7bb",
   "metadata": {},
   "outputs": [],
   "source": [
    "df['ds'] = df['ds'].dt.strftime('%Y')"
   ]
  },
  {
   "cell_type": "code",
   "execution_count": 544,
   "id": "e2fe69f5",
   "metadata": {},
   "outputs": [
    {
     "data": {
      "text/html": [
       "<div>\n",
       "<style scoped>\n",
       "    .dataframe tbody tr th:only-of-type {\n",
       "        vertical-align: middle;\n",
       "    }\n",
       "\n",
       "    .dataframe tbody tr th {\n",
       "        vertical-align: top;\n",
       "    }\n",
       "\n",
       "    .dataframe thead th {\n",
       "        text-align: right;\n",
       "    }\n",
       "</style>\n",
       "<table border=\"1\" class=\"dataframe\">\n",
       "  <thead>\n",
       "    <tr style=\"text-align: right;\">\n",
       "      <th></th>\n",
       "      <th>ds</th>\n",
       "      <th>y</th>\n",
       "    </tr>\n",
       "  </thead>\n",
       "  <tbody>\n",
       "    <tr>\n",
       "      <th>0</th>\n",
       "      <td>1991</td>\n",
       "      <td>311.0</td>\n",
       "    </tr>\n",
       "    <tr>\n",
       "      <th>1</th>\n",
       "      <td>1992</td>\n",
       "      <td>142.0</td>\n",
       "    </tr>\n",
       "    <tr>\n",
       "      <th>2</th>\n",
       "      <td>1993</td>\n",
       "      <td>324.0</td>\n",
       "    </tr>\n",
       "    <tr>\n",
       "      <th>3</th>\n",
       "      <td>1994</td>\n",
       "      <td>1091.0</td>\n",
       "    </tr>\n",
       "    <tr>\n",
       "      <th>4</th>\n",
       "      <td>1995</td>\n",
       "      <td>602.0</td>\n",
       "    </tr>\n",
       "  </tbody>\n",
       "</table>\n",
       "</div>"
      ],
      "text/plain": [
       "     ds       y\n",
       "0  1991   311.0\n",
       "1  1992   142.0\n",
       "2  1993   324.0\n",
       "3  1994  1091.0\n",
       "4  1995   602.0"
      ]
     },
     "execution_count": 544,
     "metadata": {},
     "output_type": "execute_result"
    }
   ],
   "source": [
    "df.head()"
   ]
  },
  {
   "cell_type": "code",
   "execution_count": 545,
   "id": "0bf18bc7",
   "metadata": {},
   "outputs": [
    {
     "data": {
      "text/plain": [
       "dtype('O')"
      ]
     },
     "execution_count": 545,
     "metadata": {},
     "output_type": "execute_result"
    }
   ],
   "source": [
    "df['ds'].dtypes"
   ]
  },
  {
   "cell_type": "code",
   "execution_count": 546,
   "id": "4fb78a17",
   "metadata": {},
   "outputs": [
    {
     "data": {
      "text/html": [
       "<div>\n",
       "<style scoped>\n",
       "    .dataframe tbody tr th:only-of-type {\n",
       "        vertical-align: middle;\n",
       "    }\n",
       "\n",
       "    .dataframe tbody tr th {\n",
       "        vertical-align: top;\n",
       "    }\n",
       "\n",
       "    .dataframe thead th {\n",
       "        text-align: right;\n",
       "    }\n",
       "</style>\n",
       "<table border=\"1\" class=\"dataframe\">\n",
       "  <thead>\n",
       "    <tr style=\"text-align: right;\">\n",
       "      <th></th>\n",
       "      <th>year</th>\n",
       "      <th>jan</th>\n",
       "      <th>feb</th>\n",
       "      <th>mar</th>\n",
       "      <th>apr</th>\n",
       "      <th>may</th>\n",
       "      <th>jun</th>\n",
       "      <th>jul</th>\n",
       "      <th>aug</th>\n",
       "      <th>sep</th>\n",
       "      <th>oct</th>\n",
       "      <th>nov</th>\n",
       "      <th>dec</th>\n",
       "      <th>win</th>\n",
       "      <th>spr</th>\n",
       "      <th>sum</th>\n",
       "      <th>aut</th>\n",
       "      <th>ann</th>\n",
       "    </tr>\n",
       "  </thead>\n",
       "  <tbody>\n",
       "    <tr>\n",
       "      <th>0</th>\n",
       "      <td>1836</td>\n",
       "      <td>163.7</td>\n",
       "      <td>95.9</td>\n",
       "      <td>146.2</td>\n",
       "      <td>92.0</td>\n",
       "      <td>16.6</td>\n",
       "      <td>87.7</td>\n",
       "      <td>150.4</td>\n",
       "      <td>89.1</td>\n",
       "      <td>157.7</td>\n",
       "      <td>156.6</td>\n",
       "      <td>169.7</td>\n",
       "      <td>178.6</td>\n",
       "      <td>---</td>\n",
       "      <td>254.8</td>\n",
       "      <td>327.2</td>\n",
       "      <td>484.0</td>\n",
       "      <td>1504.1</td>\n",
       "    </tr>\n",
       "    <tr>\n",
       "      <th>1</th>\n",
       "      <td>1837</td>\n",
       "      <td>68.1</td>\n",
       "      <td>136.5</td>\n",
       "      <td>49.3</td>\n",
       "      <td>69.7</td>\n",
       "      <td>51.1</td>\n",
       "      <td>74.5</td>\n",
       "      <td>120.6</td>\n",
       "      <td>104.2</td>\n",
       "      <td>79.5</td>\n",
       "      <td>128.8</td>\n",
       "      <td>136.1</td>\n",
       "      <td>117.0</td>\n",
       "      <td>383.2</td>\n",
       "      <td>170.1</td>\n",
       "      <td>299.2</td>\n",
       "      <td>344.4</td>\n",
       "      <td>1135.3</td>\n",
       "    </tr>\n",
       "    <tr>\n",
       "      <th>2</th>\n",
       "      <td>1838</td>\n",
       "      <td>49.0</td>\n",
       "      <td>45.3</td>\n",
       "      <td>105.7</td>\n",
       "      <td>71.6</td>\n",
       "      <td>63.8</td>\n",
       "      <td>155.8</td>\n",
       "      <td>114.8</td>\n",
       "      <td>129.7</td>\n",
       "      <td>99.6</td>\n",
       "      <td>113.5</td>\n",
       "      <td>119.0</td>\n",
       "      <td>105.4</td>\n",
       "      <td>211.3</td>\n",
       "      <td>241.1</td>\n",
       "      <td>400.3</td>\n",
       "      <td>332.1</td>\n",
       "      <td>1173.3</td>\n",
       "    </tr>\n",
       "    <tr>\n",
       "      <th>3</th>\n",
       "      <td>1839</td>\n",
       "      <td>113.8</td>\n",
       "      <td>90.5</td>\n",
       "      <td>112.0</td>\n",
       "      <td>39.5</td>\n",
       "      <td>57.4</td>\n",
       "      <td>72.0</td>\n",
       "      <td>87.7</td>\n",
       "      <td>85.8</td>\n",
       "      <td>186.8</td>\n",
       "      <td>125.3</td>\n",
       "      <td>97.9</td>\n",
       "      <td>129.9</td>\n",
       "      <td>309.8</td>\n",
       "      <td>208.9</td>\n",
       "      <td>245.5</td>\n",
       "      <td>410.0</td>\n",
       "      <td>1198.7</td>\n",
       "    </tr>\n",
       "    <tr>\n",
       "      <th>4</th>\n",
       "      <td>1840</td>\n",
       "      <td>169.9</td>\n",
       "      <td>77.1</td>\n",
       "      <td>23.4</td>\n",
       "      <td>32.7</td>\n",
       "      <td>105.3</td>\n",
       "      <td>95.6</td>\n",
       "      <td>101.5</td>\n",
       "      <td>93.7</td>\n",
       "      <td>149.8</td>\n",
       "      <td>101.5</td>\n",
       "      <td>110.6</td>\n",
       "      <td>71.2</td>\n",
       "      <td>376.9</td>\n",
       "      <td>161.4</td>\n",
       "      <td>290.8</td>\n",
       "      <td>361.9</td>\n",
       "      <td>1132.3</td>\n",
       "    </tr>\n",
       "  </tbody>\n",
       "</table>\n",
       "</div>"
      ],
      "text/plain": [
       "   year    jan    feb    mar   apr    may    jun    jul    aug    sep    oct  \\\n",
       "0  1836  163.7   95.9  146.2  92.0   16.6   87.7  150.4   89.1  157.7  156.6   \n",
       "1  1837   68.1  136.5   49.3  69.7   51.1   74.5  120.6  104.2   79.5  128.8   \n",
       "2  1838   49.0   45.3  105.7  71.6   63.8  155.8  114.8  129.7   99.6  113.5   \n",
       "3  1839  113.8   90.5  112.0  39.5   57.4   72.0   87.7   85.8  186.8  125.3   \n",
       "4  1840  169.9   77.1   23.4  32.7  105.3   95.6  101.5   93.7  149.8  101.5   \n",
       "\n",
       "     nov    dec    win    spr    sum    aut     ann  \n",
       "0  169.7  178.6    ---  254.8  327.2  484.0  1504.1  \n",
       "1  136.1  117.0  383.2  170.1  299.2  344.4  1135.3  \n",
       "2  119.0  105.4  211.3  241.1  400.3  332.1  1173.3  \n",
       "3   97.9  129.9  309.8  208.9  245.5  410.0  1198.7  \n",
       "4  110.6   71.2  376.9  161.4  290.8  361.9  1132.3  "
      ]
     },
     "execution_count": 546,
     "metadata": {},
     "output_type": "execute_result"
    }
   ],
   "source": [
    "rf.head()"
   ]
  },
  {
   "cell_type": "code",
   "execution_count": 547,
   "id": "3e72f5d6",
   "metadata": {},
   "outputs": [],
   "source": [
    "rfann = pd.DataFrame(rf[rf[\"year\"] >= 2000])"
   ]
  },
  {
   "cell_type": "code",
   "execution_count": 548,
   "id": "ad12a0c3",
   "metadata": {},
   "outputs": [],
   "source": [
    "rfann = rfann.drop(\"jan\", axis=1)\n",
    "rfann = rfann.drop(\"feb\", axis=1)\n",
    "rfann = rfann.drop(\"mar\", axis=1)\n",
    "rfann = rfann.drop(\"apr\", axis=1)\n",
    "rfann = rfann.drop(\"may\", axis=1)\n",
    "rfann = rfann.drop(\"jun\", axis=1)\n",
    "rfann = rfann.drop(\"jul\", axis=1)\n",
    "rfann = rfann.drop(\"aug\", axis=1)\n",
    "rfann = rfann.drop(\"sep\", axis=1)\n",
    "rfann = rfann.drop(\"oct\", axis=1)\n",
    "rfann = rfann.drop(\"nov\", axis=1)\n",
    "rfann = rfann.drop(\"dec\", axis=1)"
   ]
  },
  {
   "cell_type": "code",
   "execution_count": 549,
   "id": "52240f6a",
   "metadata": {},
   "outputs": [
    {
     "data": {
      "text/html": [
       "<div>\n",
       "<style scoped>\n",
       "    .dataframe tbody tr th:only-of-type {\n",
       "        vertical-align: middle;\n",
       "    }\n",
       "\n",
       "    .dataframe tbody tr th {\n",
       "        vertical-align: top;\n",
       "    }\n",
       "\n",
       "    .dataframe thead th {\n",
       "        text-align: right;\n",
       "    }\n",
       "</style>\n",
       "<table border=\"1\" class=\"dataframe\">\n",
       "  <thead>\n",
       "    <tr style=\"text-align: right;\">\n",
       "      <th></th>\n",
       "      <th>year</th>\n",
       "      <th>win</th>\n",
       "      <th>spr</th>\n",
       "      <th>sum</th>\n",
       "      <th>aut</th>\n",
       "      <th>ann</th>\n",
       "    </tr>\n",
       "  </thead>\n",
       "  <tbody>\n",
       "    <tr>\n",
       "      <th>164</th>\n",
       "      <td>2000</td>\n",
       "      <td>669.9</td>\n",
       "      <td>297.8</td>\n",
       "      <td>247.6</td>\n",
       "      <td>565.1</td>\n",
       "      <td>1700.3</td>\n",
       "    </tr>\n",
       "    <tr>\n",
       "      <th>165</th>\n",
       "      <td>2001</td>\n",
       "      <td>384.4</td>\n",
       "      <td>196.1</td>\n",
       "      <td>303.0</td>\n",
       "      <td>499.1</td>\n",
       "      <td>1308.1</td>\n",
       "    </tr>\n",
       "    <tr>\n",
       "      <th>166</th>\n",
       "      <td>2002</td>\n",
       "      <td>571.9</td>\n",
       "      <td>326.6</td>\n",
       "      <td>353.8</td>\n",
       "      <td>410.4</td>\n",
       "      <td>1620.7</td>\n",
       "    </tr>\n",
       "    <tr>\n",
       "      <th>167</th>\n",
       "      <td>2003</td>\n",
       "      <td>306.8</td>\n",
       "      <td>280.5</td>\n",
       "      <td>202.2</td>\n",
       "      <td>324.4</td>\n",
       "      <td>1207.2</td>\n",
       "    </tr>\n",
       "    <tr>\n",
       "      <th>168</th>\n",
       "      <td>2004</td>\n",
       "      <td>483.3</td>\n",
       "      <td>283.5</td>\n",
       "      <td>396.2</td>\n",
       "      <td>500.1</td>\n",
       "      <td>1687.9</td>\n",
       "    </tr>\n",
       "  </tbody>\n",
       "</table>\n",
       "</div>"
      ],
      "text/plain": [
       "     year    win    spr    sum    aut     ann\n",
       "164  2000  669.9  297.8  247.6  565.1  1700.3\n",
       "165  2001  384.4  196.1  303.0  499.1  1308.1\n",
       "166  2002  571.9  326.6  353.8  410.4  1620.7\n",
       "167  2003  306.8  280.5  202.2  324.4  1207.2\n",
       "168  2004  483.3  283.5  396.2  500.1  1687.9"
      ]
     },
     "execution_count": 549,
     "metadata": {},
     "output_type": "execute_result"
    }
   ],
   "source": [
    "rfann.head()"
   ]
  },
  {
   "cell_type": "code",
   "execution_count": 550,
   "id": "ed588606",
   "metadata": {},
   "outputs": [],
   "source": [
    "rfann['year'] = pd.to_datetime(rfann['year'], format = '%Y')"
   ]
  },
  {
   "cell_type": "code",
   "execution_count": 551,
   "id": "0533b0ee",
   "metadata": {},
   "outputs": [],
   "source": [
    "rfann['year'] = rfann['year'].dt.strftime('%Y')"
   ]
  },
  {
   "cell_type": "code",
   "execution_count": 552,
   "id": "c07df4bb",
   "metadata": {},
   "outputs": [
    {
     "data": {
      "text/html": [
       "<div>\n",
       "<style scoped>\n",
       "    .dataframe tbody tr th:only-of-type {\n",
       "        vertical-align: middle;\n",
       "    }\n",
       "\n",
       "    .dataframe tbody tr th {\n",
       "        vertical-align: top;\n",
       "    }\n",
       "\n",
       "    .dataframe thead th {\n",
       "        text-align: right;\n",
       "    }\n",
       "</style>\n",
       "<table border=\"1\" class=\"dataframe\">\n",
       "  <thead>\n",
       "    <tr style=\"text-align: right;\">\n",
       "      <th></th>\n",
       "      <th>year</th>\n",
       "      <th>win</th>\n",
       "      <th>spr</th>\n",
       "      <th>sum</th>\n",
       "      <th>aut</th>\n",
       "      <th>ann</th>\n",
       "    </tr>\n",
       "  </thead>\n",
       "  <tbody>\n",
       "    <tr>\n",
       "      <th>164</th>\n",
       "      <td>2000</td>\n",
       "      <td>669.9</td>\n",
       "      <td>297.8</td>\n",
       "      <td>247.6</td>\n",
       "      <td>565.1</td>\n",
       "      <td>1700.3</td>\n",
       "    </tr>\n",
       "    <tr>\n",
       "      <th>165</th>\n",
       "      <td>2001</td>\n",
       "      <td>384.4</td>\n",
       "      <td>196.1</td>\n",
       "      <td>303.0</td>\n",
       "      <td>499.1</td>\n",
       "      <td>1308.1</td>\n",
       "    </tr>\n",
       "    <tr>\n",
       "      <th>166</th>\n",
       "      <td>2002</td>\n",
       "      <td>571.9</td>\n",
       "      <td>326.6</td>\n",
       "      <td>353.8</td>\n",
       "      <td>410.4</td>\n",
       "      <td>1620.7</td>\n",
       "    </tr>\n",
       "    <tr>\n",
       "      <th>167</th>\n",
       "      <td>2003</td>\n",
       "      <td>306.8</td>\n",
       "      <td>280.5</td>\n",
       "      <td>202.2</td>\n",
       "      <td>324.4</td>\n",
       "      <td>1207.2</td>\n",
       "    </tr>\n",
       "    <tr>\n",
       "      <th>168</th>\n",
       "      <td>2004</td>\n",
       "      <td>483.3</td>\n",
       "      <td>283.5</td>\n",
       "      <td>396.2</td>\n",
       "      <td>500.1</td>\n",
       "      <td>1687.9</td>\n",
       "    </tr>\n",
       "  </tbody>\n",
       "</table>\n",
       "</div>"
      ],
      "text/plain": [
       "     year    win    spr    sum    aut     ann\n",
       "164  2000  669.9  297.8  247.6  565.1  1700.3\n",
       "165  2001  384.4  196.1  303.0  499.1  1308.1\n",
       "166  2002  571.9  326.6  353.8  410.4  1620.7\n",
       "167  2003  306.8  280.5  202.2  324.4  1207.2\n",
       "168  2004  483.3  283.5  396.2  500.1  1687.9"
      ]
     },
     "execution_count": 552,
     "metadata": {},
     "output_type": "execute_result"
    }
   ],
   "source": [
    "rfann.head()"
   ]
  },
  {
   "cell_type": "code",
   "execution_count": 553,
   "id": "a69ec1ac",
   "metadata": {},
   "outputs": [],
   "source": [
    "rfann = rfann.rename(columns={\"year\": \"ds\"})"
   ]
  },
  {
   "cell_type": "code",
   "execution_count": 554,
   "id": "c74a06f3",
   "metadata": {},
   "outputs": [
    {
     "data": {
      "text/plain": [
       "ds      object\n",
       "win     object\n",
       "spr    float64\n",
       "sum    float64\n",
       "aut    float64\n",
       "ann    float64\n",
       "dtype: object"
      ]
     },
     "execution_count": 554,
     "metadata": {},
     "output_type": "execute_result"
    }
   ],
   "source": [
    "rfann.dtypes"
   ]
  },
  {
   "cell_type": "code",
   "execution_count": 555,
   "id": "16952b73",
   "metadata": {},
   "outputs": [],
   "source": [
    "df2 = df.merge(rfann, on = \"ds\", how=\"right\")"
   ]
  },
  {
   "cell_type": "code",
   "execution_count": 556,
   "id": "1bc9858a",
   "metadata": {},
   "outputs": [
    {
     "data": {
      "text/html": [
       "<div>\n",
       "<style scoped>\n",
       "    .dataframe tbody tr th:only-of-type {\n",
       "        vertical-align: middle;\n",
       "    }\n",
       "\n",
       "    .dataframe tbody tr th {\n",
       "        vertical-align: top;\n",
       "    }\n",
       "\n",
       "    .dataframe thead th {\n",
       "        text-align: right;\n",
       "    }\n",
       "</style>\n",
       "<table border=\"1\" class=\"dataframe\">\n",
       "  <thead>\n",
       "    <tr style=\"text-align: right;\">\n",
       "      <th></th>\n",
       "      <th>ds</th>\n",
       "      <th>y</th>\n",
       "      <th>win</th>\n",
       "      <th>spr</th>\n",
       "      <th>sum</th>\n",
       "      <th>aut</th>\n",
       "      <th>ann</th>\n",
       "    </tr>\n",
       "  </thead>\n",
       "  <tbody>\n",
       "    <tr>\n",
       "      <th>0</th>\n",
       "      <td>2000</td>\n",
       "      <td>817.0</td>\n",
       "      <td>669.9</td>\n",
       "      <td>297.8</td>\n",
       "      <td>247.6</td>\n",
       "      <td>565.1</td>\n",
       "      <td>1700.3</td>\n",
       "    </tr>\n",
       "    <tr>\n",
       "      <th>1</th>\n",
       "      <td>2001</td>\n",
       "      <td>227.0</td>\n",
       "      <td>384.4</td>\n",
       "      <td>196.1</td>\n",
       "      <td>303.0</td>\n",
       "      <td>499.1</td>\n",
       "      <td>1308.1</td>\n",
       "    </tr>\n",
       "    <tr>\n",
       "      <th>2</th>\n",
       "      <td>2002</td>\n",
       "      <td>475.0</td>\n",
       "      <td>571.9</td>\n",
       "      <td>326.6</td>\n",
       "      <td>353.8</td>\n",
       "      <td>410.4</td>\n",
       "      <td>1620.7</td>\n",
       "    </tr>\n",
       "    <tr>\n",
       "      <th>3</th>\n",
       "      <td>2003</td>\n",
       "      <td>460.0</td>\n",
       "      <td>306.8</td>\n",
       "      <td>280.5</td>\n",
       "      <td>202.2</td>\n",
       "      <td>324.4</td>\n",
       "      <td>1207.2</td>\n",
       "    </tr>\n",
       "    <tr>\n",
       "      <th>4</th>\n",
       "      <td>2004</td>\n",
       "      <td>747.0</td>\n",
       "      <td>483.3</td>\n",
       "      <td>283.5</td>\n",
       "      <td>396.2</td>\n",
       "      <td>500.1</td>\n",
       "      <td>1687.9</td>\n",
       "    </tr>\n",
       "  </tbody>\n",
       "</table>\n",
       "</div>"
      ],
      "text/plain": [
       "     ds      y    win    spr    sum    aut     ann\n",
       "0  2000  817.0  669.9  297.8  247.6  565.1  1700.3\n",
       "1  2001  227.0  384.4  196.1  303.0  499.1  1308.1\n",
       "2  2002  475.0  571.9  326.6  353.8  410.4  1620.7\n",
       "3  2003  460.0  306.8  280.5  202.2  324.4  1207.2\n",
       "4  2004  747.0  483.3  283.5  396.2  500.1  1687.9"
      ]
     },
     "execution_count": 556,
     "metadata": {},
     "output_type": "execute_result"
    }
   ],
   "source": [
    "df2.head()"
   ]
  },
  {
   "cell_type": "code",
   "execution_count": 557,
   "id": "558b487f",
   "metadata": {},
   "outputs": [],
   "source": [
    "#df2 = df2.drop('ann_x', axis=1)"
   ]
  },
  {
   "cell_type": "code",
   "execution_count": 558,
   "id": "9294e3d8",
   "metadata": {},
   "outputs": [
    {
     "data": {
      "text/html": [
       "<div>\n",
       "<style scoped>\n",
       "    .dataframe tbody tr th:only-of-type {\n",
       "        vertical-align: middle;\n",
       "    }\n",
       "\n",
       "    .dataframe tbody tr th {\n",
       "        vertical-align: top;\n",
       "    }\n",
       "\n",
       "    .dataframe thead th {\n",
       "        text-align: right;\n",
       "    }\n",
       "</style>\n",
       "<table border=\"1\" class=\"dataframe\">\n",
       "  <thead>\n",
       "    <tr style=\"text-align: right;\">\n",
       "      <th></th>\n",
       "      <th>ds</th>\n",
       "      <th>y</th>\n",
       "      <th>win</th>\n",
       "      <th>spr</th>\n",
       "      <th>sum</th>\n",
       "      <th>aut</th>\n",
       "      <th>ann</th>\n",
       "    </tr>\n",
       "  </thead>\n",
       "  <tbody>\n",
       "    <tr>\n",
       "      <th>0</th>\n",
       "      <td>2000</td>\n",
       "      <td>817.0</td>\n",
       "      <td>669.9</td>\n",
       "      <td>297.8</td>\n",
       "      <td>247.6</td>\n",
       "      <td>565.1</td>\n",
       "      <td>1700.3</td>\n",
       "    </tr>\n",
       "    <tr>\n",
       "      <th>1</th>\n",
       "      <td>2001</td>\n",
       "      <td>227.0</td>\n",
       "      <td>384.4</td>\n",
       "      <td>196.1</td>\n",
       "      <td>303.0</td>\n",
       "      <td>499.1</td>\n",
       "      <td>1308.1</td>\n",
       "    </tr>\n",
       "    <tr>\n",
       "      <th>2</th>\n",
       "      <td>2002</td>\n",
       "      <td>475.0</td>\n",
       "      <td>571.9</td>\n",
       "      <td>326.6</td>\n",
       "      <td>353.8</td>\n",
       "      <td>410.4</td>\n",
       "      <td>1620.7</td>\n",
       "    </tr>\n",
       "    <tr>\n",
       "      <th>3</th>\n",
       "      <td>2003</td>\n",
       "      <td>460.0</td>\n",
       "      <td>306.8</td>\n",
       "      <td>280.5</td>\n",
       "      <td>202.2</td>\n",
       "      <td>324.4</td>\n",
       "      <td>1207.2</td>\n",
       "    </tr>\n",
       "    <tr>\n",
       "      <th>4</th>\n",
       "      <td>2004</td>\n",
       "      <td>747.0</td>\n",
       "      <td>483.3</td>\n",
       "      <td>283.5</td>\n",
       "      <td>396.2</td>\n",
       "      <td>500.1</td>\n",
       "      <td>1687.9</td>\n",
       "    </tr>\n",
       "    <tr>\n",
       "      <th>5</th>\n",
       "      <td>2005</td>\n",
       "      <td>1976.0</td>\n",
       "      <td>541.5</td>\n",
       "      <td>350.6</td>\n",
       "      <td>287.3</td>\n",
       "      <td>494.3</td>\n",
       "      <td>1578.8</td>\n",
       "    </tr>\n",
       "    <tr>\n",
       "      <th>6</th>\n",
       "      <td>2006</td>\n",
       "      <td>3917.0</td>\n",
       "      <td>291</td>\n",
       "      <td>362.4</td>\n",
       "      <td>242.3</td>\n",
       "      <td>584.2</td>\n",
       "      <td>1644.0</td>\n",
       "    </tr>\n",
       "    <tr>\n",
       "      <th>7</th>\n",
       "      <td>2007</td>\n",
       "      <td>6256.0</td>\n",
       "      <td>633</td>\n",
       "      <td>322.0</td>\n",
       "      <td>382.2</td>\n",
       "      <td>357.6</td>\n",
       "      <td>1575.8</td>\n",
       "    </tr>\n",
       "    <tr>\n",
       "      <th>8</th>\n",
       "      <td>2008</td>\n",
       "      <td>4481.0</td>\n",
       "      <td>577.1</td>\n",
       "      <td>289.2</td>\n",
       "      <td>370.3</td>\n",
       "      <td>488.6</td>\n",
       "      <td>1717.8</td>\n",
       "    </tr>\n",
       "    <tr>\n",
       "      <th>9</th>\n",
       "      <td>2009</td>\n",
       "      <td>3133.0</td>\n",
       "      <td>383.4</td>\n",
       "      <td>349.5</td>\n",
       "      <td>425.7</td>\n",
       "      <td>554.2</td>\n",
       "      <td>1678.7</td>\n",
       "    </tr>\n",
       "    <tr>\n",
       "      <th>10</th>\n",
       "      <td>2010</td>\n",
       "      <td>4894.0</td>\n",
       "      <td>275.3</td>\n",
       "      <td>236.2</td>\n",
       "      <td>306.6</td>\n",
       "      <td>465.4</td>\n",
       "      <td>1244.2</td>\n",
       "    </tr>\n",
       "    <tr>\n",
       "      <th>11</th>\n",
       "      <td>2011</td>\n",
       "      <td>4937.0</td>\n",
       "      <td>362.3</td>\n",
       "      <td>369.9</td>\n",
       "      <td>360.9</td>\n",
       "      <td>569.4</td>\n",
       "      <td>1862.7</td>\n",
       "    </tr>\n",
       "    <tr>\n",
       "      <th>12</th>\n",
       "      <td>2012</td>\n",
       "      <td>5483.0</td>\n",
       "      <td>549.5</td>\n",
       "      <td>254.6</td>\n",
       "      <td>386.4</td>\n",
       "      <td>455.6</td>\n",
       "      <td>1596.2</td>\n",
       "    </tr>\n",
       "    <tr>\n",
       "      <th>13</th>\n",
       "      <td>2013</td>\n",
       "      <td>4359.0</td>\n",
       "      <td>441.1</td>\n",
       "      <td>285.3</td>\n",
       "      <td>229.6</td>\n",
       "      <td>419.2</td>\n",
       "      <td>1458.0</td>\n",
       "    </tr>\n",
       "    <tr>\n",
       "      <th>14</th>\n",
       "      <td>2014</td>\n",
       "      <td>4835.0</td>\n",
       "      <td>731.6</td>\n",
       "      <td>321.6</td>\n",
       "      <td>341.2</td>\n",
       "      <td>423.4</td>\n",
       "      <td>1739.7</td>\n",
       "    </tr>\n",
       "    <tr>\n",
       "      <th>15</th>\n",
       "      <td>2015</td>\n",
       "      <td>6652.0</td>\n",
       "      <td>590.6</td>\n",
       "      <td>400.5</td>\n",
       "      <td>359.8</td>\n",
       "      <td>382.1</td>\n",
       "      <td>1840.1</td>\n",
       "    </tr>\n",
       "    <tr>\n",
       "      <th>16</th>\n",
       "      <td>2016</td>\n",
       "      <td>5975.0</td>\n",
       "      <td>739.3</td>\n",
       "      <td>261.3</td>\n",
       "      <td>345.1</td>\n",
       "      <td>321.2</td>\n",
       "      <td>1488.4</td>\n",
       "    </tr>\n",
       "    <tr>\n",
       "      <th>17</th>\n",
       "      <td>2017</td>\n",
       "      <td>7302.0</td>\n",
       "      <td>387.5</td>\n",
       "      <td>243.7</td>\n",
       "      <td>409.4</td>\n",
       "      <td>482.3</td>\n",
       "      <td>1522.9</td>\n",
       "    </tr>\n",
       "    <tr>\n",
       "      <th>18</th>\n",
       "      <td>2018</td>\n",
       "      <td>10862.0</td>\n",
       "      <td>426.2</td>\n",
       "      <td>232.5</td>\n",
       "      <td>252.2</td>\n",
       "      <td>498.7</td>\n",
       "      <td>1395.4</td>\n",
       "    </tr>\n",
       "    <tr>\n",
       "      <th>19</th>\n",
       "      <td>2019</td>\n",
       "      <td>11680.0</td>\n",
       "      <td>342.3</td>\n",
       "      <td>336.0</td>\n",
       "      <td>439.4</td>\n",
       "      <td>382.6</td>\n",
       "      <td>1558.9</td>\n",
       "    </tr>\n",
       "    <tr>\n",
       "      <th>20</th>\n",
       "      <td>2020</td>\n",
       "      <td>NaN</td>\n",
       "      <td>669.7</td>\n",
       "      <td>227.5</td>\n",
       "      <td>370.0</td>\n",
       "      <td>527.5</td>\n",
       "      <td>1800.9</td>\n",
       "    </tr>\n",
       "    <tr>\n",
       "      <th>21</th>\n",
       "      <td>2021</td>\n",
       "      <td>NaN</td>\n",
       "      <td>478.3</td>\n",
       "      <td>294.8</td>\n",
       "      <td>197.3</td>\n",
       "      <td>482.5</td>\n",
       "      <td>1390.0</td>\n",
       "    </tr>\n",
       "    <tr>\n",
       "      <th>22</th>\n",
       "      <td>2022</td>\n",
       "      <td>NaN</td>\n",
       "      <td>458.8</td>\n",
       "      <td>265.9</td>\n",
       "      <td>239.4</td>\n",
       "      <td>530.1</td>\n",
       "      <td>1497.8</td>\n",
       "    </tr>\n",
       "    <tr>\n",
       "      <th>23</th>\n",
       "      <td>2023</td>\n",
       "      <td>NaN</td>\n",
       "      <td>NaN</td>\n",
       "      <td>NaN</td>\n",
       "      <td>NaN</td>\n",
       "      <td>NaN</td>\n",
       "      <td>NaN</td>\n",
       "    </tr>\n",
       "  </tbody>\n",
       "</table>\n",
       "</div>"
      ],
      "text/plain": [
       "      ds        y    win    spr    sum    aut     ann\n",
       "0   2000    817.0  669.9  297.8  247.6  565.1  1700.3\n",
       "1   2001    227.0  384.4  196.1  303.0  499.1  1308.1\n",
       "2   2002    475.0  571.9  326.6  353.8  410.4  1620.7\n",
       "3   2003    460.0  306.8  280.5  202.2  324.4  1207.2\n",
       "4   2004    747.0  483.3  283.5  396.2  500.1  1687.9\n",
       "5   2005   1976.0  541.5  350.6  287.3  494.3  1578.8\n",
       "6   2006   3917.0    291  362.4  242.3  584.2  1644.0\n",
       "7   2007   6256.0    633  322.0  382.2  357.6  1575.8\n",
       "8   2008   4481.0  577.1  289.2  370.3  488.6  1717.8\n",
       "9   2009   3133.0  383.4  349.5  425.7  554.2  1678.7\n",
       "10  2010   4894.0  275.3  236.2  306.6  465.4  1244.2\n",
       "11  2011   4937.0  362.3  369.9  360.9  569.4  1862.7\n",
       "12  2012   5483.0  549.5  254.6  386.4  455.6  1596.2\n",
       "13  2013   4359.0  441.1  285.3  229.6  419.2  1458.0\n",
       "14  2014   4835.0  731.6  321.6  341.2  423.4  1739.7\n",
       "15  2015   6652.0  590.6  400.5  359.8  382.1  1840.1\n",
       "16  2016   5975.0  739.3  261.3  345.1  321.2  1488.4\n",
       "17  2017   7302.0  387.5  243.7  409.4  482.3  1522.9\n",
       "18  2018  10862.0  426.2  232.5  252.2  498.7  1395.4\n",
       "19  2019  11680.0  342.3  336.0  439.4  382.6  1558.9\n",
       "20  2020      NaN  669.7  227.5  370.0  527.5  1800.9\n",
       "21  2021      NaN  478.3  294.8  197.3  482.5  1390.0\n",
       "22  2022      NaN  458.8  265.9  239.4  530.1  1497.8\n",
       "23  2023      NaN    NaN    NaN    NaN    NaN     NaN"
      ]
     },
     "execution_count": 558,
     "metadata": {},
     "output_type": "execute_result"
    }
   ],
   "source": [
    "df2.dropna(how=\"all\")"
   ]
  },
  {
   "cell_type": "code",
   "execution_count": 559,
   "id": "cf539ee1",
   "metadata": {},
   "outputs": [
    {
     "data": {
      "text/html": [
       "<div>\n",
       "<style scoped>\n",
       "    .dataframe tbody tr th:only-of-type {\n",
       "        vertical-align: middle;\n",
       "    }\n",
       "\n",
       "    .dataframe tbody tr th {\n",
       "        vertical-align: top;\n",
       "    }\n",
       "\n",
       "    .dataframe thead th {\n",
       "        text-align: right;\n",
       "    }\n",
       "</style>\n",
       "<table border=\"1\" class=\"dataframe\">\n",
       "  <thead>\n",
       "    <tr style=\"text-align: right;\">\n",
       "      <th></th>\n",
       "      <th>ds</th>\n",
       "      <th>y</th>\n",
       "      <th>win</th>\n",
       "      <th>spr</th>\n",
       "      <th>sum</th>\n",
       "      <th>aut</th>\n",
       "      <th>ann</th>\n",
       "    </tr>\n",
       "  </thead>\n",
       "  <tbody>\n",
       "    <tr>\n",
       "      <th>0</th>\n",
       "      <td>2000</td>\n",
       "      <td>817.0</td>\n",
       "      <td>669.9</td>\n",
       "      <td>297.8</td>\n",
       "      <td>247.6</td>\n",
       "      <td>565.1</td>\n",
       "      <td>1700.3</td>\n",
       "    </tr>\n",
       "    <tr>\n",
       "      <th>1</th>\n",
       "      <td>2001</td>\n",
       "      <td>227.0</td>\n",
       "      <td>384.4</td>\n",
       "      <td>196.1</td>\n",
       "      <td>303.0</td>\n",
       "      <td>499.1</td>\n",
       "      <td>1308.1</td>\n",
       "    </tr>\n",
       "    <tr>\n",
       "      <th>2</th>\n",
       "      <td>2002</td>\n",
       "      <td>475.0</td>\n",
       "      <td>571.9</td>\n",
       "      <td>326.6</td>\n",
       "      <td>353.8</td>\n",
       "      <td>410.4</td>\n",
       "      <td>1620.7</td>\n",
       "    </tr>\n",
       "    <tr>\n",
       "      <th>3</th>\n",
       "      <td>2003</td>\n",
       "      <td>460.0</td>\n",
       "      <td>306.8</td>\n",
       "      <td>280.5</td>\n",
       "      <td>202.2</td>\n",
       "      <td>324.4</td>\n",
       "      <td>1207.2</td>\n",
       "    </tr>\n",
       "    <tr>\n",
       "      <th>4</th>\n",
       "      <td>2004</td>\n",
       "      <td>747.0</td>\n",
       "      <td>483.3</td>\n",
       "      <td>283.5</td>\n",
       "      <td>396.2</td>\n",
       "      <td>500.1</td>\n",
       "      <td>1687.9</td>\n",
       "    </tr>\n",
       "    <tr>\n",
       "      <th>5</th>\n",
       "      <td>2005</td>\n",
       "      <td>1976.0</td>\n",
       "      <td>541.5</td>\n",
       "      <td>350.6</td>\n",
       "      <td>287.3</td>\n",
       "      <td>494.3</td>\n",
       "      <td>1578.8</td>\n",
       "    </tr>\n",
       "    <tr>\n",
       "      <th>6</th>\n",
       "      <td>2006</td>\n",
       "      <td>3917.0</td>\n",
       "      <td>291</td>\n",
       "      <td>362.4</td>\n",
       "      <td>242.3</td>\n",
       "      <td>584.2</td>\n",
       "      <td>1644.0</td>\n",
       "    </tr>\n",
       "    <tr>\n",
       "      <th>7</th>\n",
       "      <td>2007</td>\n",
       "      <td>6256.0</td>\n",
       "      <td>633</td>\n",
       "      <td>322.0</td>\n",
       "      <td>382.2</td>\n",
       "      <td>357.6</td>\n",
       "      <td>1575.8</td>\n",
       "    </tr>\n",
       "    <tr>\n",
       "      <th>8</th>\n",
       "      <td>2008</td>\n",
       "      <td>4481.0</td>\n",
       "      <td>577.1</td>\n",
       "      <td>289.2</td>\n",
       "      <td>370.3</td>\n",
       "      <td>488.6</td>\n",
       "      <td>1717.8</td>\n",
       "    </tr>\n",
       "    <tr>\n",
       "      <th>9</th>\n",
       "      <td>2009</td>\n",
       "      <td>3133.0</td>\n",
       "      <td>383.4</td>\n",
       "      <td>349.5</td>\n",
       "      <td>425.7</td>\n",
       "      <td>554.2</td>\n",
       "      <td>1678.7</td>\n",
       "    </tr>\n",
       "    <tr>\n",
       "      <th>10</th>\n",
       "      <td>2010</td>\n",
       "      <td>4894.0</td>\n",
       "      <td>275.3</td>\n",
       "      <td>236.2</td>\n",
       "      <td>306.6</td>\n",
       "      <td>465.4</td>\n",
       "      <td>1244.2</td>\n",
       "    </tr>\n",
       "    <tr>\n",
       "      <th>11</th>\n",
       "      <td>2011</td>\n",
       "      <td>4937.0</td>\n",
       "      <td>362.3</td>\n",
       "      <td>369.9</td>\n",
       "      <td>360.9</td>\n",
       "      <td>569.4</td>\n",
       "      <td>1862.7</td>\n",
       "    </tr>\n",
       "    <tr>\n",
       "      <th>12</th>\n",
       "      <td>2012</td>\n",
       "      <td>5483.0</td>\n",
       "      <td>549.5</td>\n",
       "      <td>254.6</td>\n",
       "      <td>386.4</td>\n",
       "      <td>455.6</td>\n",
       "      <td>1596.2</td>\n",
       "    </tr>\n",
       "    <tr>\n",
       "      <th>13</th>\n",
       "      <td>2013</td>\n",
       "      <td>4359.0</td>\n",
       "      <td>441.1</td>\n",
       "      <td>285.3</td>\n",
       "      <td>229.6</td>\n",
       "      <td>419.2</td>\n",
       "      <td>1458.0</td>\n",
       "    </tr>\n",
       "    <tr>\n",
       "      <th>14</th>\n",
       "      <td>2014</td>\n",
       "      <td>4835.0</td>\n",
       "      <td>731.6</td>\n",
       "      <td>321.6</td>\n",
       "      <td>341.2</td>\n",
       "      <td>423.4</td>\n",
       "      <td>1739.7</td>\n",
       "    </tr>\n",
       "    <tr>\n",
       "      <th>15</th>\n",
       "      <td>2015</td>\n",
       "      <td>6652.0</td>\n",
       "      <td>590.6</td>\n",
       "      <td>400.5</td>\n",
       "      <td>359.8</td>\n",
       "      <td>382.1</td>\n",
       "      <td>1840.1</td>\n",
       "    </tr>\n",
       "    <tr>\n",
       "      <th>16</th>\n",
       "      <td>2016</td>\n",
       "      <td>5975.0</td>\n",
       "      <td>739.3</td>\n",
       "      <td>261.3</td>\n",
       "      <td>345.1</td>\n",
       "      <td>321.2</td>\n",
       "      <td>1488.4</td>\n",
       "    </tr>\n",
       "    <tr>\n",
       "      <th>17</th>\n",
       "      <td>2017</td>\n",
       "      <td>7302.0</td>\n",
       "      <td>387.5</td>\n",
       "      <td>243.7</td>\n",
       "      <td>409.4</td>\n",
       "      <td>482.3</td>\n",
       "      <td>1522.9</td>\n",
       "    </tr>\n",
       "    <tr>\n",
       "      <th>18</th>\n",
       "      <td>2018</td>\n",
       "      <td>10862.0</td>\n",
       "      <td>426.2</td>\n",
       "      <td>232.5</td>\n",
       "      <td>252.2</td>\n",
       "      <td>498.7</td>\n",
       "      <td>1395.4</td>\n",
       "    </tr>\n",
       "    <tr>\n",
       "      <th>19</th>\n",
       "      <td>2019</td>\n",
       "      <td>11680.0</td>\n",
       "      <td>342.3</td>\n",
       "      <td>336.0</td>\n",
       "      <td>439.4</td>\n",
       "      <td>382.6</td>\n",
       "      <td>1558.9</td>\n",
       "    </tr>\n",
       "  </tbody>\n",
       "</table>\n",
       "</div>"
      ],
      "text/plain": [
       "      ds        y    win    spr    sum    aut     ann\n",
       "0   2000    817.0  669.9  297.8  247.6  565.1  1700.3\n",
       "1   2001    227.0  384.4  196.1  303.0  499.1  1308.1\n",
       "2   2002    475.0  571.9  326.6  353.8  410.4  1620.7\n",
       "3   2003    460.0  306.8  280.5  202.2  324.4  1207.2\n",
       "4   2004    747.0  483.3  283.5  396.2  500.1  1687.9\n",
       "5   2005   1976.0  541.5  350.6  287.3  494.3  1578.8\n",
       "6   2006   3917.0    291  362.4  242.3  584.2  1644.0\n",
       "7   2007   6256.0    633  322.0  382.2  357.6  1575.8\n",
       "8   2008   4481.0  577.1  289.2  370.3  488.6  1717.8\n",
       "9   2009   3133.0  383.4  349.5  425.7  554.2  1678.7\n",
       "10  2010   4894.0  275.3  236.2  306.6  465.4  1244.2\n",
       "11  2011   4937.0  362.3  369.9  360.9  569.4  1862.7\n",
       "12  2012   5483.0  549.5  254.6  386.4  455.6  1596.2\n",
       "13  2013   4359.0  441.1  285.3  229.6  419.2  1458.0\n",
       "14  2014   4835.0  731.6  321.6  341.2  423.4  1739.7\n",
       "15  2015   6652.0  590.6  400.5  359.8  382.1  1840.1\n",
       "16  2016   5975.0  739.3  261.3  345.1  321.2  1488.4\n",
       "17  2017   7302.0  387.5  243.7  409.4  482.3  1522.9\n",
       "18  2018  10862.0  426.2  232.5  252.2  498.7  1395.4\n",
       "19  2019  11680.0  342.3  336.0  439.4  382.6  1558.9"
      ]
     },
     "execution_count": 559,
     "metadata": {},
     "output_type": "execute_result"
    }
   ],
   "source": [
    "df2 = df2.dropna(axis = 0)\n",
    "df2"
   ]
  },
  {
   "cell_type": "markdown",
   "id": "84332072",
   "metadata": {},
   "source": [
    "# Prophet model"
   ]
  },
  {
   "cell_type": "code",
   "execution_count": 560,
   "id": "ca8a1f1e",
   "metadata": {},
   "outputs": [],
   "source": [
    "m = Prophet()"
   ]
  },
  {
   "cell_type": "code",
   "execution_count": 561,
   "id": "b6542364",
   "metadata": {},
   "outputs": [],
   "source": [
    "#m.add_regressor('ann_y')"
   ]
  },
  {
   "cell_type": "code",
   "execution_count": 562,
   "id": "b9a9e016",
   "metadata": {},
   "outputs": [
    {
     "name": "stderr",
     "output_type": "stream",
     "text": [
      "INFO:fbprophet:Disabling weekly seasonality. Run prophet with weekly_seasonality=True to override this.\n",
      "INFO:fbprophet:Disabling daily seasonality. Run prophet with daily_seasonality=True to override this.\n",
      "/opt/homebrew/lib/python3.9/site-packages/fbprophet/forecaster.py:891: FutureWarning:\n",
      "\n",
      "The frame.append method is deprecated and will be removed from pandas in a future version. Use pandas.concat instead.\n",
      "\n",
      "INFO:fbprophet:n_changepoints greater than number of observations. Using 15.\n"
     ]
    },
    {
     "name": "stdout",
     "output_type": "stream",
     "text": [
      "\n",
      "Initial log joint probability = -55.9535\n",
      "Iteration  1. Log joint probability =    13.6113. Improved by 69.5648.\n",
      "Iteration  2. Log joint probability =    26.3504. Improved by 12.739.\n",
      "Iteration  3. Log joint probability =    28.0933. Improved by 1.74296.\n",
      "Iteration  4. Log joint probability =     31.418. Improved by 3.32472.\n",
      "Iteration  5. Log joint probability =    32.3032. Improved by 0.885183.\n",
      "Iteration  6. Log joint probability =    32.4594. Improved by 0.156187.\n",
      "Iteration  7. Log joint probability =    32.7048. Improved by 0.245338.\n",
      "Iteration  8. Log joint probability =    32.7605. Improved by 0.0557476.\n",
      "Iteration  9. Log joint probability =    32.8079. Improved by 0.0473701.\n",
      "Iteration 10. Log joint probability =    32.8904. Improved by 0.0825018.\n",
      "Iteration 11. Log joint probability =    32.9234. Improved by 0.0330657.\n",
      "Iteration 12. Log joint probability =    32.9482. Improved by 0.0247619.\n",
      "Iteration 13. Log joint probability =     32.971. Improved by 0.0227527.\n",
      "Iteration 14. Log join"
     ]
    },
    {
     "data": {
      "text/plain": [
       "<fbprophet.forecaster.Prophet at 0x280bcddf0>"
      ]
     },
     "execution_count": 562,
     "metadata": {},
     "output_type": "execute_result"
    },
    {
     "name": "stdout",
     "output_type": "stream",
     "text": [
      "t probability =    32.9802. Improved by 0.00926937.\n",
      "Iteration 15. Log joint probability =    33.1086. Improved by 0.128372.\n",
      "Iteration 16. Log joint probability =    33.3106. Improved by 0.202035.\n",
      "Iteration 17. Log joint probability =    33.3689. Improved by 0.0582761.\n",
      "Iteration 18. Log joint probability =    33.4229. Improved by 0.0539811.\n",
      "Iteration 19. Log joint probability =    33.4257. Improved by 0.0028347.\n",
      "Iteration 20. Log joint probability =    33.4295. Improved by 0.0038135.\n",
      "Iteration 21. Log joint probability =     33.444. Improved by 0.0144854.\n",
      "Iteration 22. Log joint probability =    33.4449. Improved by 0.000858916.\n",
      "Iteration 23. Log joint probability =    33.4508. Improved by 0.0059034.\n",
      "Iteration 24. Log joint probability =    33.4517. Improved by 0.000965028.\n",
      "Iteration 25. Log joint probability =    33.4562. Improved by 0.00447319.\n",
      "Iteration 26. Log joint probability =    33.4572. Improved by 0.000985076.\n",
      "Iteration 27. Log joint probability =    33.4575. Improved by 0.000264037.\n",
      "Iteration 28. Log joint probability =    33.4581. Improved by 0.000672071.\n",
      "Iteration 29. Log joint probability =    33.4582. Improved by 3.82084e-05.\n",
      "Iteration 30. Log joint probability =    33.4582. Improved by 5.83271e-05.\n",
      "Iteration 31. Log joint probability =    33.4586. Improved by 0.000383232.\n",
      "Iteration 32. Log joint probability =    33.4587. Improved by 7.31155e-05.\n",
      "Iteration 33. Log joint probability =    33.4589. Improved by 0.000210106.\n",
      "Iteration 34. Log joint probability =     33.459. Improved by 9.89146e-05.\n",
      "Iteration 35. Log joint probability =     33.459. Improved by 2.36793e-05.\n",
      "Iteration 36. Log joint probability =    33.4591. Improved by 3.64948e-05.\n",
      "Iteration 37. Log joint probability =    33.4591. Improved by 1.05247e-05.\n",
      "Iteration 38. Log joint probability =    33.4591. Improved by 2.83415e-05.\n",
      "Iteration 39. Log joint probability =    33.4591. Improved by 8.36795e-06.\n",
      "Iteration 40. Log joint probability =    33.4591. Improved by 1.76479e-06.\n",
      "Iteration 41. Log joint probability =    33.4591. Improved by 8.02086e-06.\n",
      "Iteration 42. Log joint probability =    33.4591. Improved by 3.22921e-06.\n",
      "Iteration 43. Log joint probability =    33.4591. Improved by 1.31113e-06.\n",
      "Iteration 44. Log joint probability =    33.4591. Improved by 3.2838e-07.\n",
      "Iteration 45. Log joint probability =    33.4591. Improved by 7.68414e-08.\n",
      "Iteration 46. Log joint probability =    33.4591. Improved by 5.75091e-07.\n",
      "Iteration 47. Log joint probability =    33.4591. Improved by 3.80332e-07.\n",
      "Iteration 48. Log joint probability =    33.4591. Improved by 3.49001e-07.\n",
      "Iteration 49. Log joint probability =    33.4591. Improved by 3.21523e-09.\n"
     ]
    }
   ],
   "source": [
    "m.fit(df2)"
   ]
  },
  {
   "cell_type": "code",
   "execution_count": 685,
   "id": "9ef1c435",
   "metadata": {},
   "outputs": [],
   "source": [
    "future = m.make_future_dataframe(periods = 2, freq = \"YS\")"
   ]
  },
  {
   "cell_type": "code",
   "execution_count": 686,
   "id": "12002241",
   "metadata": {},
   "outputs": [
    {
     "data": {
      "text/html": [
       "<div>\n",
       "<style scoped>\n",
       "    .dataframe tbody tr th:only-of-type {\n",
       "        vertical-align: middle;\n",
       "    }\n",
       "\n",
       "    .dataframe tbody tr th {\n",
       "        vertical-align: top;\n",
       "    }\n",
       "\n",
       "    .dataframe thead th {\n",
       "        text-align: right;\n",
       "    }\n",
       "</style>\n",
       "<table border=\"1\" class=\"dataframe\">\n",
       "  <thead>\n",
       "    <tr style=\"text-align: right;\">\n",
       "      <th></th>\n",
       "      <th>ds</th>\n",
       "    </tr>\n",
       "  </thead>\n",
       "  <tbody>\n",
       "    <tr>\n",
       "      <th>0</th>\n",
       "      <td>2000-01-01</td>\n",
       "    </tr>\n",
       "    <tr>\n",
       "      <th>1</th>\n",
       "      <td>2001-01-01</td>\n",
       "    </tr>\n",
       "    <tr>\n",
       "      <th>2</th>\n",
       "      <td>2002-01-01</td>\n",
       "    </tr>\n",
       "    <tr>\n",
       "      <th>3</th>\n",
       "      <td>2003-01-01</td>\n",
       "    </tr>\n",
       "    <tr>\n",
       "      <th>4</th>\n",
       "      <td>2004-01-01</td>\n",
       "    </tr>\n",
       "  </tbody>\n",
       "</table>\n",
       "</div>"
      ],
      "text/plain": [
       "          ds\n",
       "0 2000-01-01\n",
       "1 2001-01-01\n",
       "2 2002-01-01\n",
       "3 2003-01-01\n",
       "4 2004-01-01"
      ]
     },
     "execution_count": 686,
     "metadata": {},
     "output_type": "execute_result"
    }
   ],
   "source": [
    "future.head()"
   ]
  },
  {
   "cell_type": "code",
   "execution_count": 565,
   "id": "92f2a133",
   "metadata": {},
   "outputs": [
    {
     "name": "stderr",
     "output_type": "stream",
     "text": [
      "/opt/homebrew/lib/python3.9/site-packages/fbprophet/forecaster.py:891: FutureWarning:\n",
      "\n",
      "The frame.append method is deprecated and will be removed from pandas in a future version. Use pandas.concat instead.\n",
      "\n",
      "/opt/homebrew/lib/python3.9/site-packages/fbprophet/forecaster.py:891: FutureWarning:\n",
      "\n",
      "The frame.append method is deprecated and will be removed from pandas in a future version. Use pandas.concat instead.\n",
      "\n"
     ]
    }
   ],
   "source": [
    "forecast = m.predict(future)"
   ]
  },
  {
   "cell_type": "code",
   "execution_count": 566,
   "id": "a463d2db",
   "metadata": {},
   "outputs": [
    {
     "data": {
      "image/png": "[encoded data removed]",
      "text/plain": [
       "<Figure size 720x432 with 1 Axes>"
      ]
     },
     "metadata": {},
     "output_type": "display_data"
    }
   ],
   "source": [
    "fig1 = m.plot(forecast)"
   ]
  },
  {
   "cell_type": "code",
   "execution_count": 567,
   "id": "ab3c1945",
   "metadata": {},
   "outputs": [
    {
     "name": "stderr",
     "output_type": "stream",
     "text": [
      "/opt/homebrew/lib/python3.9/site-packages/fbprophet/forecaster.py:891: FutureWarning:\n",
      "\n",
      "The frame.append method is deprecated and will be removed from pandas in a future version. Use pandas.concat instead.\n",
      "\n"
     ]
    },
    {
     "data": {
      "image/png": "[encoded data removed]",
      "text/plain": [
       "<Figure size 648x432 with 2 Axes>"
      ]
     },
     "metadata": {},
     "output_type": "display_data"
    }
   ],
   "source": [
    "fig2 = m.plot_components(forecast)"
   ]
  },
  {
   "cell_type": "code",
   "execution_count": 568,
   "id": "89739100",
   "metadata": {},
   "outputs": [],
   "source": [
    "nobs = 12\n",
    "train = df2[:-nobs]\n",
    "test = df2[-nobs:]"
   ]
  },
  {
   "cell_type": "code",
   "execution_count": 569,
   "id": "18366e59",
   "metadata": {},
   "outputs": [
    {
     "name": "stderr",
     "output_type": "stream",
     "text": [
      "INFO:fbprophet:Disabling weekly seasonality. Run prophet with weekly_seasonality=True to override this.\n",
      "INFO:fbprophet:Disabling daily seasonality. Run prophet with daily_seasonality=True to override this.\n",
      "/opt/homebrew/lib/python3.9/site-packages/fbprophet/forecaster.py:891: FutureWarning:\n",
      "\n",
      "The frame.append method is deprecated and will be removed from pandas in a future version. Use pandas.concat instead.\n",
      "\n",
      "INFO:fbprophet:n_changepoints greater than number of observations. Using 5.\n"
     ]
    },
    {
     "name": "stdout",
     "output_type": "stream",
     "text": [
      "\n",
      "Initial log joint probability = -67.9845\n",
      "Iteration  1. Log joint probability =    3.68511. Improved by 71.6696.\n",
      "Iteration  2. Log joint probability =    8.43719. Improved by 4.75208.\n",
      "Iteration  3. Log joint probability =    9.70408. Improved by 1.26689.\n",
      "Iteration  4. Log joint probability =    9.75357. Improved by 0.0494916.\n",
      "Iteration  5. Log joint probability =    9.77605. Improved by 0.0224794.\n",
      "Iteration  6. Log joint probability =    9.78064. Improved by 0.00459375.\n",
      "Iteration  7. Log joint probability =    9.78321. Improved by 0.00256342.\n",
      "Iteration  8. Log joint probability =    9.78398. Improved by 0.00076867.\n",
      "Iteration  9. Log joint probability =    9.78592. Improved by 0.00193888.\n",
      "Iteration 10. Log joint probability =    9.78649. Improved by 0.000570903.\n",
      "Iteration 11. Log joint probability =    9.78651. Improved by 1.94919e-05.\n",
      "Iteration 12. Log joint probability =    9.78783. Improved by 0.00131932.\n",
      "Iteration 13. Log joint probability =    9.78822. Improved by 0.000394265.\n",
      "Iteration 14. Log joint probability =    9.788"
     ]
    },
    {
     "data": {
      "text/plain": [
       "<fbprophet.forecaster.Prophet at 0x280b44460>"
      ]
     },
     "execution_count": 569,
     "metadata": {},
     "output_type": "execute_result"
    },
    {
     "name": "stdout",
     "output_type": "stream",
     "text": [
      "49. Improved by 0.000266789.\n",
      "Iteration 15. Log joint probability =    9.78853. Improved by 3.91246e-05.\n",
      "Iteration 16. Log joint probability =    9.78874. Improved by 0.00021905.\n",
      "Iteration 17. Log joint probability =    9.78875. Improved by 7.33751e-06.\n",
      "Iteration 18. Log joint probability =    9.78876. Improved by 9.87774e-06.\n",
      "Iteration 19. Log joint probability =    9.78877. Improved by 4.11246e-06.\n",
      "Iteration 20. Log joint probability =    9.78877. Improved by 3.85119e-06.\n",
      "Iteration 21. Log joint probability =     9.7888. Improved by 2.5502e-05.\n",
      "Iteration 22. Log joint probability =     9.7888. Improved by 5.48779e-06.\n",
      "Iteration 23. Log joint probability =     9.7888. Improved by 2.40215e-06.\n",
      "Iteration 24. Log joint probability =     9.7888. Improved by 4.32709e-07.\n",
      "Iteration 25. Log joint probability =    9.78881. Improved by 2.83992e-06.\n",
      "Iteration 26. Log joint probability =    9.78881. Improved by 1.53706e-07.\n",
      "Iteration 27. Log joint probability =    9.78881. Improved by 3.61663e-07.\n",
      "Iteration 28. Log joint probability =    9.78881. Improved by 1.29408e-07.\n",
      "Iteration 29. Log joint probability =    9.78881. Improved by 6.29705e-08.\n",
      "Iteration 30. Log joint probability =    9.78881. Improved by 1.03994e-07.\n",
      "Iteration 31. Log joint probability =    9.78881. Improved by 6.57464e-08.\n",
      "Iteration 32. Log joint probability =    9.78881. Improved by 1.00841e-08.\n",
      "Iteration 33. Log joint probability =    9.78881. Improved by 5.68358e-08.\n",
      "Iteration 34. Log joint probability =    9.78881. Improved by 7.7534e-09.\n"
     ]
    }
   ],
   "source": [
    "prophet = Prophet()\n",
    "prophet.fit(train)"
   ]
  },
  {
   "cell_type": "code",
   "execution_count": 570,
   "id": "4a5a3cd3",
   "metadata": {},
   "outputs": [],
   "source": [
    "futures = prophet.make_future_dataframe(periods=nobs, freq=\"YS\")"
   ]
  },
  {
   "cell_type": "code",
   "execution_count": 571,
   "id": "de0b0775",
   "metadata": {},
   "outputs": [
    {
     "name": "stderr",
     "output_type": "stream",
     "text": [
      "/opt/homebrew/lib/python3.9/site-packages/fbprophet/forecaster.py:891: FutureWarning:\n",
      "\n",
      "The frame.append method is deprecated and will be removed from pandas in a future version. Use pandas.concat instead.\n",
      "\n",
      "/opt/homebrew/lib/python3.9/site-packages/fbprophet/forecaster.py:891: FutureWarning:\n",
      "\n",
      "The frame.append method is deprecated and will be removed from pandas in a future version. Use pandas.concat instead.\n",
      "\n"
     ]
    }
   ],
   "source": [
    "forecast2 = prophet.predict(futures)"
   ]
  },
  {
   "cell_type": "code",
   "execution_count": 572,
   "id": "835b5d2f",
   "metadata": {},
   "outputs": [
    {
     "data": {
      "image/png": "[encoded data removed]",
      "text/plain": [
       "<Figure size 720x432 with 1 Axes>"
      ]
     },
     "metadata": {},
     "output_type": "display_data"
    }
   ],
   "source": [
    "fig3 = prophet.plot(forecast2)"
   ]
  },
  {
   "cell_type": "code",
   "execution_count": 573,
   "id": "d4041e7c",
   "metadata": {},
   "outputs": [
    {
     "data": {
      "text/html": [
       "<div>\n",
       "<style scoped>\n",
       "    .dataframe tbody tr th:only-of-type {\n",
       "        vertical-align: middle;\n",
       "    }\n",
       "\n",
       "    .dataframe tbody tr th {\n",
       "        vertical-align: top;\n",
       "    }\n",
       "\n",
       "    .dataframe thead th {\n",
       "        text-align: right;\n",
       "    }\n",
       "</style>\n",
       "<table border=\"1\" class=\"dataframe\">\n",
       "  <thead>\n",
       "    <tr style=\"text-align: right;\">\n",
       "      <th></th>\n",
       "      <th>ds</th>\n",
       "      <th>trend</th>\n",
       "      <th>yhat_lower</th>\n",
       "      <th>yhat_upper</th>\n",
       "      <th>trend_lower</th>\n",
       "      <th>trend_upper</th>\n",
       "      <th>additive_terms</th>\n",
       "      <th>additive_terms_lower</th>\n",
       "      <th>additive_terms_upper</th>\n",
       "      <th>yearly</th>\n",
       "      <th>yearly_lower</th>\n",
       "      <th>yearly_upper</th>\n",
       "      <th>multiplicative_terms</th>\n",
       "      <th>multiplicative_terms_lower</th>\n",
       "      <th>multiplicative_terms_upper</th>\n",
       "      <th>yhat</th>\n",
       "    </tr>\n",
       "  </thead>\n",
       "  <tbody>\n",
       "    <tr>\n",
       "      <th>0</th>\n",
       "      <td>2000-01-01</td>\n",
       "      <td>-413.436750</td>\n",
       "      <td>-1932.954816</td>\n",
       "      <td>973.119133</td>\n",
       "      <td>-413.436750</td>\n",
       "      <td>-413.436750</td>\n",
       "      <td>-54.078621</td>\n",
       "      <td>-54.078621</td>\n",
       "      <td>-54.078621</td>\n",
       "      <td>-54.078621</td>\n",
       "      <td>-54.078621</td>\n",
       "      <td>-54.078621</td>\n",
       "      <td>0.0</td>\n",
       "      <td>0.0</td>\n",
       "      <td>0.0</td>\n",
       "      <td>-467.515371</td>\n",
       "    </tr>\n",
       "    <tr>\n",
       "      <th>1</th>\n",
       "      <td>2001-01-01</td>\n",
       "      <td>323.976997</td>\n",
       "      <td>-1599.786257</td>\n",
       "      <td>1087.679359</td>\n",
       "      <td>323.976997</td>\n",
       "      <td>323.976997</td>\n",
       "      <td>-558.930535</td>\n",
       "      <td>-558.930535</td>\n",
       "      <td>-558.930535</td>\n",
       "      <td>-558.930535</td>\n",
       "      <td>-558.930535</td>\n",
       "      <td>-558.930535</td>\n",
       "      <td>0.0</td>\n",
       "      <td>0.0</td>\n",
       "      <td>0.0</td>\n",
       "      <td>-234.953537</td>\n",
       "    </tr>\n",
       "    <tr>\n",
       "      <th>2</th>\n",
       "      <td>2002-01-01</td>\n",
       "      <td>1059.375953</td>\n",
       "      <td>-696.018465</td>\n",
       "      <td>2009.789896</td>\n",
       "      <td>1059.375953</td>\n",
       "      <td>1059.375953</td>\n",
       "      <td>-382.626501</td>\n",
       "      <td>-382.626501</td>\n",
       "      <td>-382.626501</td>\n",
       "      <td>-382.626501</td>\n",
       "      <td>-382.626501</td>\n",
       "      <td>-382.626501</td>\n",
       "      <td>0.0</td>\n",
       "      <td>0.0</td>\n",
       "      <td>0.0</td>\n",
       "      <td>676.749452</td>\n",
       "    </tr>\n",
       "    <tr>\n",
       "      <th>3</th>\n",
       "      <td>2003-01-01</td>\n",
       "      <td>1794.774908</td>\n",
       "      <td>162.720990</td>\n",
       "      <td>2945.688225</td>\n",
       "      <td>1794.774908</td>\n",
       "      <td>1794.774908</td>\n",
       "      <td>-214.274067</td>\n",
       "      <td>-214.274067</td>\n",
       "      <td>-214.274067</td>\n",
       "      <td>-214.274067</td>\n",
       "      <td>-214.274067</td>\n",
       "      <td>-214.274067</td>\n",
       "      <td>0.0</td>\n",
       "      <td>0.0</td>\n",
       "      <td>0.0</td>\n",
       "      <td>1580.500842</td>\n",
       "    </tr>\n",
       "    <tr>\n",
       "      <th>4</th>\n",
       "      <td>2004-01-01</td>\n",
       "      <td>2530.173864</td>\n",
       "      <td>988.262008</td>\n",
       "      <td>3847.730030</td>\n",
       "      <td>2530.173864</td>\n",
       "      <td>2530.173864</td>\n",
       "      <td>-54.078621</td>\n",
       "      <td>-54.078621</td>\n",
       "      <td>-54.078621</td>\n",
       "      <td>-54.078621</td>\n",
       "      <td>-54.078621</td>\n",
       "      <td>-54.078621</td>\n",
       "      <td>0.0</td>\n",
       "      <td>0.0</td>\n",
       "      <td>0.0</td>\n",
       "      <td>2476.095243</td>\n",
       "    </tr>\n",
       "  </tbody>\n",
       "</table>\n",
       "</div>"
      ],
      "text/plain": [
       "          ds        trend   yhat_lower   yhat_upper  trend_lower  trend_upper  \\\n",
       "0 2000-01-01  -413.436750 -1932.954816   973.119133  -413.436750  -413.436750   \n",
       "1 2001-01-01   323.976997 -1599.786257  1087.679359   323.976997   323.976997   \n",
       "2 2002-01-01  1059.375953  -696.018465  2009.789896  1059.375953  1059.375953   \n",
       "3 2003-01-01  1794.774908   162.720990  2945.688225  1794.774908  1794.774908   \n",
       "4 2004-01-01  2530.173864   988.262008  3847.730030  2530.173864  2530.173864   \n",
       "\n",
       "   additive_terms  additive_terms_lower  additive_terms_upper      yearly  \\\n",
       "0      -54.078621            -54.078621            -54.078621  -54.078621   \n",
       "1     -558.930535           -558.930535           -558.930535 -558.930535   \n",
       "2     -382.626501           -382.626501           -382.626501 -382.626501   \n",
       "3     -214.274067           -214.274067           -214.274067 -214.274067   \n",
       "4      -54.078621            -54.078621            -54.078621  -54.078621   \n",
       "\n",
       "   yearly_lower  yearly_upper  multiplicative_terms  \\\n",
       "0    -54.078621    -54.078621                   0.0   \n",
       "1   -558.930535   -558.930535                   0.0   \n",
       "2   -382.626501   -382.626501                   0.0   \n",
       "3   -214.274067   -214.274067                   0.0   \n",
       "4    -54.078621    -54.078621                   0.0   \n",
       "\n",
       "   multiplicative_terms_lower  multiplicative_terms_upper         yhat  \n",
       "0                         0.0                         0.0  -467.515371  \n",
       "1                         0.0                         0.0  -234.953537  \n",
       "2                         0.0                         0.0   676.749452  \n",
       "3                         0.0                         0.0  1580.500842  \n",
       "4                         0.0                         0.0  2476.095243  "
      ]
     },
     "execution_count": 573,
     "metadata": {},
     "output_type": "execute_result"
    }
   ],
   "source": [
    "forecast2.head()"
   ]
  },
  {
   "cell_type": "code",
   "execution_count": 574,
   "id": "10a16dd3",
   "metadata": {},
   "outputs": [],
   "source": [
    "from statsmodels.tools.eval_measures import rmse"
   ]
  },
  {
   "cell_type": "code",
   "execution_count": 575,
   "id": "ce57208b",
   "metadata": {},
   "outputs": [
    {
     "data": {
      "text/html": [
       "<div>\n",
       "<style scoped>\n",
       "    .dataframe tbody tr th:only-of-type {\n",
       "        vertical-align: middle;\n",
       "    }\n",
       "\n",
       "    .dataframe tbody tr th {\n",
       "        vertical-align: top;\n",
       "    }\n",
       "\n",
       "    .dataframe thead th {\n",
       "        text-align: right;\n",
       "    }\n",
       "</style>\n",
       "<table border=\"1\" class=\"dataframe\">\n",
       "  <thead>\n",
       "    <tr style=\"text-align: right;\">\n",
       "      <th></th>\n",
       "      <th>ds</th>\n",
       "      <th>y</th>\n",
       "      <th>win</th>\n",
       "      <th>spr</th>\n",
       "      <th>sum</th>\n",
       "      <th>aut</th>\n",
       "      <th>ann</th>\n",
       "    </tr>\n",
       "  </thead>\n",
       "  <tbody>\n",
       "    <tr>\n",
       "      <th>8</th>\n",
       "      <td>2008</td>\n",
       "      <td>4481.0</td>\n",
       "      <td>577.1</td>\n",
       "      <td>289.2</td>\n",
       "      <td>370.3</td>\n",
       "      <td>488.6</td>\n",
       "      <td>1717.8</td>\n",
       "    </tr>\n",
       "    <tr>\n",
       "      <th>9</th>\n",
       "      <td>2009</td>\n",
       "      <td>3133.0</td>\n",
       "      <td>383.4</td>\n",
       "      <td>349.5</td>\n",
       "      <td>425.7</td>\n",
       "      <td>554.2</td>\n",
       "      <td>1678.7</td>\n",
       "    </tr>\n",
       "    <tr>\n",
       "      <th>10</th>\n",
       "      <td>2010</td>\n",
       "      <td>4894.0</td>\n",
       "      <td>275.3</td>\n",
       "      <td>236.2</td>\n",
       "      <td>306.6</td>\n",
       "      <td>465.4</td>\n",
       "      <td>1244.2</td>\n",
       "    </tr>\n",
       "    <tr>\n",
       "      <th>11</th>\n",
       "      <td>2011</td>\n",
       "      <td>4937.0</td>\n",
       "      <td>362.3</td>\n",
       "      <td>369.9</td>\n",
       "      <td>360.9</td>\n",
       "      <td>569.4</td>\n",
       "      <td>1862.7</td>\n",
       "    </tr>\n",
       "    <tr>\n",
       "      <th>12</th>\n",
       "      <td>2012</td>\n",
       "      <td>5483.0</td>\n",
       "      <td>549.5</td>\n",
       "      <td>254.6</td>\n",
       "      <td>386.4</td>\n",
       "      <td>455.6</td>\n",
       "      <td>1596.2</td>\n",
       "    </tr>\n",
       "  </tbody>\n",
       "</table>\n",
       "</div>"
      ],
      "text/plain": [
       "      ds       y    win    spr    sum    aut     ann\n",
       "8   2008  4481.0  577.1  289.2  370.3  488.6  1717.8\n",
       "9   2009  3133.0  383.4  349.5  425.7  554.2  1678.7\n",
       "10  2010  4894.0  275.3  236.2  306.6  465.4  1244.2\n",
       "11  2011  4937.0  362.3  369.9  360.9  569.4  1862.7\n",
       "12  2012  5483.0  549.5  254.6  386.4  455.6  1596.2"
      ]
     },
     "execution_count": 575,
     "metadata": {},
     "output_type": "execute_result"
    }
   ],
   "source": [
    "test.head()"
   ]
  },
  {
   "cell_type": "code",
   "execution_count": 576,
   "id": "32f4dd03",
   "metadata": {},
   "outputs": [],
   "source": [
    "import plotly.graph_objects as go\n",
    "from plotly.subplots import make_subplots\n",
    "from matplotlib import pyplot"
   ]
  },
  {
   "cell_type": "code",
   "execution_count": 577,
   "id": "6694e91e",
   "metadata": {},
   "outputs": [],
   "source": [
    "y_pred = forecast2[-nobs:]['yhat']\n",
    "y_true = test['y']\n"
   ]
  },
  {
   "cell_type": "code",
   "execution_count": 578,
   "id": "47e52895",
   "metadata": {},
   "outputs": [
    {
     "data": {
      "image/png": "[encoded data removed]",
      "text/plain": [
       "<Figure size 432x288 with 1 Axes>"
      ]
     },
     "metadata": {
      "needs_background": "light"
     },
     "output_type": "display_data"
    }
   ],
   "source": [
    "pyplot.plot(y_true, label='Actual')\n",
    "pyplot.plot(y_pred, label='Predicted')\n",
    "pyplot.legend()\n",
    "pyplot.show()"
   ]
  },
  {
   "cell_type": "code",
   "execution_count": 579,
   "id": "8779ff4f",
   "metadata": {},
   "outputs": [
    {
     "data": {
      "text/plain": [
       "8     5419.705858\n",
       "9     5652.267692\n",
       "10    6563.970682\n",
       "11    7467.722072\n",
       "12    8363.316473\n",
       "Name: yhat, dtype: float64"
      ]
     },
     "execution_count": 579,
     "metadata": {},
     "output_type": "execute_result"
    }
   ],
   "source": [
    "y_pred.head()"
   ]
  },
  {
   "cell_type": "code",
   "execution_count": 580,
   "id": "6f20704f",
   "metadata": {},
   "outputs": [
    {
     "data": {
      "text/plain": [
       "8     4481.0\n",
       "9     3133.0\n",
       "10    4894.0\n",
       "11    4937.0\n",
       "12    5483.0\n",
       "Name: y, dtype: float64"
      ]
     },
     "execution_count": 580,
     "metadata": {},
     "output_type": "execute_result"
    }
   ],
   "source": [
    "y_true.head()"
   ]
  },
  {
   "cell_type": "code",
   "execution_count": 581,
   "id": "ce4eaa7a",
   "metadata": {},
   "outputs": [
    {
     "data": {
      "text/plain": [
       "3295.8423115090477"
      ]
     },
     "execution_count": 581,
     "metadata": {},
     "output_type": "execute_result"
    }
   ],
   "source": [
    "rmse(y_pred, y_true)"
   ]
  },
  {
   "cell_type": "code",
   "execution_count": 582,
   "id": "c5a07f7d",
   "metadata": {},
   "outputs": [],
   "source": [
    "from sklearn.metrics import mean_squared_error"
   ]
  },
  {
   "cell_type": "code",
   "execution_count": 583,
   "id": "2a30cb2f",
   "metadata": {},
   "outputs": [
    {
     "data": {
      "text/plain": [
       "10862576.542333301"
      ]
     },
     "execution_count": 583,
     "metadata": {},
     "output_type": "execute_result"
    }
   ],
   "source": [
    "mean_squared_error(y_true, y_pred, squared=True)\n",
    "\n"
   ]
  },
  {
   "cell_type": "code",
   "execution_count": 584,
   "id": "f9d0e13a",
   "metadata": {},
   "outputs": [],
   "source": [
    "from sklearn.metrics import mean_absolute_percentage_error"
   ]
  },
  {
   "cell_type": "code",
   "execution_count": 585,
   "id": "15d5c615",
   "metadata": {},
   "outputs": [
    {
     "data": {
      "text/plain": [
       "0.5548898944272611"
      ]
     },
     "execution_count": 585,
     "metadata": {},
     "output_type": "execute_result"
    }
   ],
   "source": [
    "mean_absolute_percentage_error(y_true, y_pred)"
   ]
  },
  {
   "cell_type": "code",
   "execution_count": 586,
   "id": "936ca13a",
   "metadata": {},
   "outputs": [
    {
     "data": {
      "text/html": [
       "<div>\n",
       "<style scoped>\n",
       "    .dataframe tbody tr th:only-of-type {\n",
       "        vertical-align: middle;\n",
       "    }\n",
       "\n",
       "    .dataframe tbody tr th {\n",
       "        vertical-align: top;\n",
       "    }\n",
       "\n",
       "    .dataframe thead th {\n",
       "        text-align: right;\n",
       "    }\n",
       "</style>\n",
       "<table border=\"1\" class=\"dataframe\">\n",
       "  <thead>\n",
       "    <tr style=\"text-align: right;\">\n",
       "      <th></th>\n",
       "      <th>species</th>\n",
       "      <th>stateProvince</th>\n",
       "      <th>occurrenceStatus</th>\n",
       "      <th>individualCount</th>\n",
       "      <th>publishingOrgKey</th>\n",
       "      <th>decimalLatitude</th>\n",
       "      <th>decimalLongitude</th>\n",
       "      <th>coordinateUncertaintyInMeters</th>\n",
       "      <th>eventDate</th>\n",
       "      <th>day</th>\n",
       "      <th>month</th>\n",
       "      <th>year</th>\n",
       "      <th>year_parsed</th>\n",
       "    </tr>\n",
       "  </thead>\n",
       "  <tbody>\n",
       "    <tr>\n",
       "      <th>1</th>\n",
       "      <td>Sciurus vulgaris</td>\n",
       "      <td>Scotland</td>\n",
       "      <td>PRESENT</td>\n",
       "      <td>1.0</td>\n",
       "      <td>d98506d8-5ab1-4a26-9ef1-766bdb54304f</td>\n",
       "      <td>55.186290</td>\n",
       "      <td>-3.045949</td>\n",
       "      <td>707.1</td>\n",
       "      <td>07/05/2014 00:00</td>\n",
       "      <td>7</td>\n",
       "      <td>5</td>\n",
       "      <td>2014</td>\n",
       "      <td>2014</td>\n",
       "    </tr>\n",
       "    <tr>\n",
       "      <th>3</th>\n",
       "      <td>Sciurus vulgaris</td>\n",
       "      <td>Scotland</td>\n",
       "      <td>PRESENT</td>\n",
       "      <td>1.0</td>\n",
       "      <td>d98506d8-5ab1-4a26-9ef1-766bdb54304f</td>\n",
       "      <td>56.781948</td>\n",
       "      <td>-3.864949</td>\n",
       "      <td>70.7</td>\n",
       "      <td>19/11/2013 00:00</td>\n",
       "      <td>19</td>\n",
       "      <td>11</td>\n",
       "      <td>2013</td>\n",
       "      <td>2013</td>\n",
       "    </tr>\n",
       "    <tr>\n",
       "      <th>5</th>\n",
       "      <td>Sciurus vulgaris</td>\n",
       "      <td>Scotland</td>\n",
       "      <td>PRESENT</td>\n",
       "      <td>1.0</td>\n",
       "      <td>d98506d8-5ab1-4a26-9ef1-766bdb54304f</td>\n",
       "      <td>55.055820</td>\n",
       "      <td>-4.983296</td>\n",
       "      <td>70.7</td>\n",
       "      <td>04/10/2008 00:00</td>\n",
       "      <td>4</td>\n",
       "      <td>10</td>\n",
       "      <td>2008</td>\n",
       "      <td>2008</td>\n",
       "    </tr>\n",
       "    <tr>\n",
       "      <th>12</th>\n",
       "      <td>Sciurus vulgaris</td>\n",
       "      <td>Scotland</td>\n",
       "      <td>PRESENT</td>\n",
       "      <td>1.0</td>\n",
       "      <td>d98506d8-5ab1-4a26-9ef1-766bdb54304f</td>\n",
       "      <td>57.414643</td>\n",
       "      <td>-2.213893</td>\n",
       "      <td>70.7</td>\n",
       "      <td>20/05/2009 00:00</td>\n",
       "      <td>20</td>\n",
       "      <td>5</td>\n",
       "      <td>2009</td>\n",
       "      <td>2009</td>\n",
       "    </tr>\n",
       "    <tr>\n",
       "      <th>15</th>\n",
       "      <td>Sciurus vulgaris</td>\n",
       "      <td>Scotland</td>\n",
       "      <td>PRESENT</td>\n",
       "      <td>1.0</td>\n",
       "      <td>d98506d8-5ab1-4a26-9ef1-766bdb54304f</td>\n",
       "      <td>54.879633</td>\n",
       "      <td>-3.732397</td>\n",
       "      <td>70.7</td>\n",
       "      <td>01/12/1999 00:00</td>\n",
       "      <td>1</td>\n",
       "      <td>12</td>\n",
       "      <td>1999</td>\n",
       "      <td>1999</td>\n",
       "    </tr>\n",
       "  </tbody>\n",
       "</table>\n",
       "</div>"
      ],
      "text/plain": [
       "             species stateProvince occurrenceStatus  individualCount  \\\n",
       "1   Sciurus vulgaris      Scotland          PRESENT              1.0   \n",
       "3   Sciurus vulgaris      Scotland          PRESENT              1.0   \n",
       "5   Sciurus vulgaris      Scotland          PRESENT              1.0   \n",
       "12  Sciurus vulgaris      Scotland          PRESENT              1.0   \n",
       "15  Sciurus vulgaris      Scotland          PRESENT              1.0   \n",
       "\n",
       "                        publishingOrgKey  decimalLatitude  decimalLongitude  \\\n",
       "1   d98506d8-5ab1-4a26-9ef1-766bdb54304f        55.186290         -3.045949   \n",
       "3   d98506d8-5ab1-4a26-9ef1-766bdb54304f        56.781948         -3.864949   \n",
       "5   d98506d8-5ab1-4a26-9ef1-766bdb54304f        55.055820         -4.983296   \n",
       "12  d98506d8-5ab1-4a26-9ef1-766bdb54304f        57.414643         -2.213893   \n",
       "15  d98506d8-5ab1-4a26-9ef1-766bdb54304f        54.879633         -3.732397   \n",
       "\n",
       "    coordinateUncertaintyInMeters         eventDate  day  month  year  \\\n",
       "1                           707.1  07/05/2014 00:00    7      5  2014   \n",
       "3                            70.7  19/11/2013 00:00   19     11  2013   \n",
       "5                            70.7  04/10/2008 00:00    4     10  2008   \n",
       "12                           70.7  20/05/2009 00:00   20      5  2009   \n",
       "15                           70.7  01/12/1999 00:00    1     12  1999   \n",
       "\n",
       "   year_parsed  \n",
       "1         2014  \n",
       "3         2013  \n",
       "5         2008  \n",
       "12        2009  \n",
       "15        1999  "
      ]
     },
     "execution_count": 586,
     "metadata": {},
     "output_type": "execute_result"
    }
   ],
   "source": [
    "rsquir.head()"
   ]
  },
  {
   "cell_type": "code",
   "execution_count": 587,
   "id": "e81c78db",
   "metadata": {},
   "outputs": [],
   "source": [
    "red00s = rsquir[(rsquir['year'] >= 2000) & (rsquir['year'] < 2010)]\n",
    "red10s = rsquir[(rsquir['year'] >= 2010) & (rsquir['year'] < 2020)]"
   ]
  },
  {
   "cell_type": "code",
   "execution_count": 588,
   "id": "4cb05daf",
   "metadata": {},
   "outputs": [],
   "source": [
    "redpivot00s = red00s.pivot_table(values = 'individualCount', index = 'month', aggfunc=[np.sum])\n",
    "redpivot10s = red10s.pivot_table(values = 'individualCount', index = 'month', aggfunc=[np.sum])"
   ]
  },
  {
   "cell_type": "code",
   "execution_count": 589,
   "id": "932bb5c2",
   "metadata": {},
   "outputs": [],
   "source": [
    "redcount00 = redpivot00s.reset_index()\n",
    "redcount10 = redpivot10s.reset_index()"
   ]
  },
  {
   "cell_type": "code",
   "execution_count": 591,
   "id": "2b122cde",
   "metadata": {},
   "outputs": [
    {
     "data": {
      "application/vnd.plotly.v1+json": {
       "config": {
        "plotlyServerURL": "https://plot.ly"
       },
       "data": [
        {
         "mode": "lines+markers",
         "name": "1970s",
         "type": "scatter",
         "x": [
          "Jan",
          "Feb",
          "Mar",
          "Apr",
          "May",
          "Jun",
          "Jul",
          "Aug",
          "Sept",
          "Oct",
          "Nov",
          "Dec"
         ],
         "xaxis": "x",
         "y": [
          0,
          0,
          0,
          10,
          2,
          39,
          74,
          54,
          60,
          0,
          0,
          0
         ],
         "yaxis": "y"
        },
        {
         "mode": "lines+markers",
         "name": "1980s",
         "type": "scatter",
         "x": [
          "Jan",
          "Feb",
          "Mar",
          "Apr",
          "May",
          "Jun",
          "Jul",
          "Aug",
          "Sept",
          "Oct",
          "Nov",
          "Dec"
         ],
         "xaxis": "x2",
         "y": [
          11,
          6,
          31,
          40,
          65,
          83,
          132,
          30,
          2,
          5,
          54,
          38
         ],
         "yaxis": "y2"
        },
        {
         "mode": "lines+markers",
         "name": "1990s",
         "type": "scatter",
         "x": [
          "Jan",
          "Feb",
          "Mar",
          "Apr",
          "May",
          "Jun",
          "Jul",
          "Aug",
          "Sept",
          "Oct",
          "Nov",
          "Dec"
         ],
         "xaxis": "x3",
         "y": [
          0,
          37,
          136,
          114,
          211,
          144,
          65,
          49,
          9,
          6,
          4,
          24
         ],
         "yaxis": "y3"
        },
        {
         "mode": "lines+markers",
         "name": "2000s",
         "type": "scatter",
         "x": [
          "Jan",
          "Feb",
          "Mar",
          "Apr",
          "May",
          "Jun",
          "Jul",
          "Aug",
          "Sept",
          "Oct",
          "Nov",
          "Dec"
         ],
         "xaxis": "x4",
         "y": [
          0,
          43,
          45,
          125,
          98,
          64,
          33,
          56,
          47,
          17,
          1,
          1
         ],
         "yaxis": "y4"
        },
        {
         "mode": "lines+markers",
         "name": "2010s",
         "type": "scatter",
         "x": [
          "Jan",
          "Feb",
          "Mar",
          "Apr",
          "May",
          "Jun",
          "Jul",
          "Aug",
          "Sept",
          "Oct",
          "Nov",
          "Dec"
         ],
         "xaxis": "x5",
         "y": [
          11,
          76,
          21,
          194,
          170,
          144,
          141,
          44,
          34,
          56,
          19,
          26
         ],
         "yaxis": "y5"
        }
       ],
       "layout": {
        "template": {
         "data": {
          "bar": [
           {
            "error_x": {
             "color": "#2a3f5f"
            },
            "error_y": {
             "color": "#2a3f5f"
            },
            "marker": {
             "line": {
              "color": "#E5ECF6",
              "width": 0.5
             },
             "pattern": {
              "fillmode": "overlay",
              "size": 10,
              "solidity": 0.2
             }
            },
            "type": "bar"
           }
          ],
          "barpolar": [
           {
            "marker": {
             "line": {
              "color": "#E5ECF6",
              "width": 0.5
             },
             "pattern": {
              "fillmode": "overlay",
              "size": 10,
              "solidity": 0.2
             }
            },
            "type": "barpolar"
           }
          ],
          "carpet": [
           {
            "aaxis": {
             "endlinecolor": "#2a3f5f",
             "gridcolor": "white",
             "linecolor": "white",
             "minorgridcolor": "white",
             "startlinecolor": "#2a3f5f"
            },
            "baxis": {
             "endlinecolor": "#2a3f5f",
             "gridcolor": "white",
             "linecolor": "white",
             "minorgridcolor": "white",
             "startlinecolor": "#2a3f5f"
            },
            "type": "carpet"
           }
          ],
          "choropleth": [
           {
            "colorbar": {
             "outlinewidth": 0,
             "ticks": ""
            },
            "type": "choropleth"
           }
          ],
          "contour": [
           {
            "colorbar": {
             "outlinewidth": 0,
             "ticks": ""
            },
            "colorscale": [
             [
              0,
              "#0d0887"
             ],
             [
              0.1111111111111111,
              "#46039f"
             ],
             [
              0.2222222222222222,
              "#7201a8"
             ],
             [
              0.3333333333333333,
              "#9c179e"
             ],
             [
              0.4444444444444444,
              "#bd3786"
             ],
             [
              0.5555555555555556,
              "#d8576b"
             ],
             [
              0.6666666666666666,
              "#ed7953"
             ],
             [
              0.7777777777777778,
              "#fb9f3a"
             ],
             [
              0.8888888888888888,
              "#fdca26"
             ],
             [
              1,
              "#f0f921"
             ]
            ],
            "type": "contour"
           }
          ],
          "contourcarpet": [
           {
            "colorbar": {
             "outlinewidth": 0,
             "ticks": ""
            },
            "type": "contourcarpet"
           }
          ],
          "heatmap": [
           {
            "colorbar": {
             "outlinewidth": 0,
             "ticks": ""
            },
            "colorscale": [
             [
              0,
              "#0d0887"
             ],
             [
              0.1111111111111111,
              "#46039f"
             ],
             [
              0.2222222222222222,
              "#7201a8"
             ],
             [
              0.3333333333333333,
              "#9c179e"
             ],
             [
              0.4444444444444444,
              "#bd3786"
             ],
             [
              0.5555555555555556,
              "#d8576b"
             ],
             [
              0.6666666666666666,
              "#ed7953"
             ],
             [
              0.7777777777777778,
              "#fb9f3a"
             ],
             [
              0.8888888888888888,
              "#fdca26"
             ],
             [
              1,
              "#f0f921"
             ]
            ],
            "type": "heatmap"
           }
          ],
          "heatmapgl": [
           {
            "colorbar": {
             "outlinewidth": 0,
             "ticks": ""
            },
            "colorscale": [
             [
              0,
              "#0d0887"
             ],
             [
              0.1111111111111111,
              "#46039f"
             ],
             [
              0.2222222222222222,
              "#7201a8"
             ],
             [
              0.3333333333333333,
              "#9c179e"
             ],
             [
              0.4444444444444444,
              "#bd3786"
             ],
             [
              0.5555555555555556,
              "#d8576b"
             ],
             [
              0.6666666666666666,
              "#ed7953"
             ],
             [
              0.7777777777777778,
              "#fb9f3a"
             ],
             [
              0.8888888888888888,
              "#fdca26"
             ],
             [
              1,
              "#f0f921"
             ]
            ],
            "type": "heatmapgl"
           }
          ],
          "histogram": [
           {
            "marker": {
             "pattern": {
              "fillmode": "overlay",
              "size": 10,
              "solidity": 0.2
             }
            },
            "type": "histogram"
           }
          ],
          "histogram2d": [
           {
            "colorbar": {
             "outlinewidth": 0,
             "ticks": ""
            },
            "colorscale": [
             [
              0,
              "#0d0887"
             ],
             [
              0.1111111111111111,
              "#46039f"
             ],
             [
              0.2222222222222222,
              "#7201a8"
             ],
             [
              0.3333333333333333,
              "#9c179e"
             ],
             [
              0.4444444444444444,
              "#bd3786"
             ],
             [
              0.5555555555555556,
              "#d8576b"
             ],
             [
              0.6666666666666666,
              "#ed7953"
             ],
             [
              0.7777777777777778,
              "#fb9f3a"
             ],
             [
              0.8888888888888888,
              "#fdca26"
             ],
             [
              1,
              "#f0f921"
             ]
            ],
            "type": "histogram2d"
           }
          ],
          "histogram2dcontour": [
           {
            "colorbar": {
             "outlinewidth": 0,
             "ticks": ""
            },
            "colorscale": [
             [
              0,
              "#0d0887"
             ],
             [
              0.1111111111111111,
              "#46039f"
             ],
             [
              0.2222222222222222,
              "#7201a8"
             ],
             [
              0.3333333333333333,
              "#9c179e"
             ],
             [
              0.4444444444444444,
              "#bd3786"
             ],
             [
              0.5555555555555556,
              "#d8576b"
             ],
             [
              0.6666666666666666,
              "#ed7953"
             ],
             [
              0.7777777777777778,
              "#fb9f3a"
             ],
             [
              0.8888888888888888,
              "#fdca26"
             ],
             [
              1,
              "#f0f921"
             ]
            ],
            "type": "histogram2dcontour"
           }
          ],
          "mesh3d": [
           {
            "colorbar": {
             "outlinewidth": 0,
             "ticks": ""
            },
            "type": "mesh3d"
           }
          ],
          "parcoords": [
           {
            "line": {
             "colorbar": {
              "outlinewidth": 0,
              "ticks": ""
             }
            },
            "type": "parcoords"
           }
          ],
          "pie": [
           {
            "automargin": true,
            "type": "pie"
           }
          ],
          "scatter": [
           {
            "fillpattern": {
             "fillmode": "overlay",
             "size": 10,
             "solidity": 0.2
            },
            "type": "scatter"
           }
          ],
          "scatter3d": [
           {
            "line": {
             "colorbar": {
              "outlinewidth": 0,
              "ticks": ""
             }
            },
            "marker": {
             "colorbar": {
              "outlinewidth": 0,
              "ticks": ""
             }
            },
            "type": "scatter3d"
           }
          ],
          "scattercarpet": [
           {
            "marker": {
             "colorbar": {
              "outlinewidth": 0,
              "ticks": ""
             }
            },
            "type": "scattercarpet"
           }
          ],
          "scattergeo": [
           {
            "marker": {
             "colorbar": {
              "outlinewidth": 0,
              "ticks": ""
             }
            },
            "type": "scattergeo"
           }
          ],
          "scattergl": [
           {
            "marker": {
             "colorbar": {
              "outlinewidth": 0,
              "ticks": ""
             }
            },
            "type": "scattergl"
           }
          ],
          "scattermapbox": [
           {
            "marker": {
             "colorbar": {
              "outlinewidth": 0,
              "ticks": ""
             }
            },
            "type": "scattermapbox"
           }
          ],
          "scatterpolar": [
           {
            "marker": {
             "colorbar": {
              "outlinewidth": 0,
              "ticks": ""
             }
            },
            "type": "scatterpolar"
           }
          ],
          "scatterpolargl": [
           {
            "marker": {
             "colorbar": {
              "outlinewidth": 0,
              "ticks": ""
             }
            },
            "type": "scatterpolargl"
           }
          ],
          "scatterternary": [
           {
            "marker": {
             "colorbar": {
              "outlinewidth": 0,
              "ticks": ""
             }
            },
            "type": "scatterternary"
           }
          ],
          "surface": [
           {
            "colorbar": {
             "outlinewidth": 0,
             "ticks": ""
            },
            "colorscale": [
             [
              0,
              "#0d0887"
             ],
             [
              0.1111111111111111,
              "#46039f"
             ],
             [
              0.2222222222222222,
              "#7201a8"
             ],
             [
              0.3333333333333333,
              "#9c179e"
             ],
             [
              0.4444444444444444,
              "#bd3786"
             ],
             [
              0.5555555555555556,
              "#d8576b"
             ],
             [
              0.6666666666666666,
              "#ed7953"
             ],
             [
              0.7777777777777778,
              "#fb9f3a"
             ],
             [
              0.8888888888888888,
              "#fdca26"
             ],
             [
              1,
              "#f0f921"
             ]
            ],
            "type": "surface"
           }
          ],
          "table": [
           {
            "cells": {
             "fill": {
              "color": "#EBF0F8"
             },
             "line": {
              "color": "white"
             }
            },
            "header": {
             "fill": {
              "color": "#C8D4E3"
             },
             "line": {
              "color": "white"
             }
            },
            "type": "table"
           }
          ]
         },
         "layout": {
          "annotationdefaults": {
           "arrowcolor": "#2a3f5f",
           "arrowhead": 0,
           "arrowwidth": 1
          },
          "autotypenumbers": "strict",
          "coloraxis": {
           "colorbar": {
            "outlinewidth": 0,
            "ticks": ""
           }
          },
          "colorscale": {
           "diverging": [
            [
             0,
             "#8e0152"
            ],
            [
             0.1,
             "#c51b7d"
            ],
            [
             0.2,
             "#de77ae"
            ],
            [
             0.3,
             "#f1b6da"
            ],
            [
             0.4,
             "#fde0ef"
            ],
            [
             0.5,
             "#f7f7f7"
            ],
            [
             0.6,
             "#e6f5d0"
            ],
            [
             0.7,
             "#b8e186"
            ],
            [
             0.8,
             "#7fbc41"
            ],
            [
             0.9,
             "#4d9221"
            ],
            [
             1,
             "#276419"
            ]
           ],
           "sequential": [
            [
             0,
             "#0d0887"
            ],
            [
             0.1111111111111111,
             "#46039f"
            ],
            [
             0.2222222222222222,
             "#7201a8"
            ],
            [
             0.3333333333333333,
             "#9c179e"
            ],
            [
             0.4444444444444444,
             "#bd3786"
            ],
            [
             0.5555555555555556,
             "#d8576b"
            ],
            [
             0.6666666666666666,
             "#ed7953"
            ],
            [
             0.7777777777777778,
             "#fb9f3a"
            ],
            [
             0.8888888888888888,
             "#fdca26"
            ],
            [
             1,
             "#f0f921"
            ]
           ],
           "sequentialminus": [
            [
             0,
             "#0d0887"
            ],
            [
             0.1111111111111111,
             "#46039f"
            ],
            [
             0.2222222222222222,
             "#7201a8"
            ],
            [
             0.3333333333333333,
             "#9c179e"
            ],
            [
             0.4444444444444444,
             "#bd3786"
            ],
            [
             0.5555555555555556,
             "#d8576b"
            ],
            [
             0.6666666666666666,
             "#ed7953"
            ],
            [
             0.7777777777777778,
             "#fb9f3a"
            ],
            [
             0.8888888888888888,
             "#fdca26"
            ],
            [
             1,
             "#f0f921"
            ]
           ]
          },
          "colorway": [
           "#636efa",
           "#EF553B",
           "#00cc96",
           "#ab63fa",
           "#FFA15A",
           "#19d3f3",
           "#FF6692",
           "#B6E880",
           "#FF97FF",
           "#FECB52"
          ],
          "font": {
           "color": "#2a3f5f"
          },
          "geo": {
           "bgcolor": "white",
           "lakecolor": "white",
           "landcolor": "#E5ECF6",
           "showlakes": true,
           "showland": true,
           "subunitcolor": "white"
          },
          "hoverlabel": {
           "align": "left"
          },
          "hovermode": "closest",
          "mapbox": {
           "style": "light"
          },
          "paper_bgcolor": "white",
          "plot_bgcolor": "#E5ECF6",
          "polar": {
           "angularaxis": {
            "gridcolor": "white",
            "linecolor": "white",
            "ticks": ""
           },
           "bgcolor": "#E5ECF6",
           "radialaxis": {
            "gridcolor": "white",
            "linecolor": "white",
            "ticks": ""
           }
          },
          "scene": {
           "xaxis": {
            "backgroundcolor": "#E5ECF6",
            "gridcolor": "white",
            "gridwidth": 2,
            "linecolor": "white",
            "showbackground": true,
            "ticks": "",
            "zerolinecolor": "white"
           },
           "yaxis": {
            "backgroundcolor": "#E5ECF6",
            "gridcolor": "white",
            "gridwidth": 2,
            "linecolor": "white",
            "showbackground": true,
            "ticks": "",
            "zerolinecolor": "white"
           },
           "zaxis": {
            "backgroundcolor": "#E5ECF6",
            "gridcolor": "white",
            "gridwidth": 2,
            "linecolor": "white",
            "showbackground": true,
            "ticks": "",
            "zerolinecolor": "white"
           }
          },
          "shapedefaults": {
           "line": {
            "color": "#2a3f5f"
           }
          },
          "ternary": {
           "aaxis": {
            "gridcolor": "white",
            "linecolor": "white",
            "ticks": ""
           },
           "baxis": {
            "gridcolor": "white",
            "linecolor": "white",
            "ticks": ""
           },
           "bgcolor": "#E5ECF6",
           "caxis": {
            "gridcolor": "white",
            "linecolor": "white",
            "ticks": ""
           }
          },
          "title": {
           "x": 0.05
          },
          "xaxis": {
           "automargin": true,
           "gridcolor": "white",
           "linecolor": "white",
           "ticks": "",
           "title": {
            "standoff": 15
           },
           "zerolinecolor": "white",
           "zerolinewidth": 2
          },
          "yaxis": {
           "automargin": true,
           "gridcolor": "white",
           "linecolor": "white",
           "ticks": "",
           "title": {
            "standoff": 15
           },
           "zerolinecolor": "white",
           "zerolinewidth": 2
          }
         }
        },
        "title": {
         "text": "Red Squirrel Observations by Month of Year, Split by Decade"
        },
        "xaxis": {
         "anchor": "y",
         "domain": [
          0,
          1
         ],
         "matches": "x5",
         "showticklabels": false,
         "tickangle": 90,
         "tickfont": {
          "size": 14
         },
         "title": {
          "font": {
           "size": 20
          },
          "standoff": 25
         }
        },
        "xaxis2": {
         "anchor": "y2",
         "domain": [
          0,
          1
         ],
         "matches": "x5",
         "showticklabels": false,
         "tickangle": 90,
         "title": {
          "font": {
           "size": 20
          },
          "standoff": 25
         }
        },
        "xaxis3": {
         "anchor": "y3",
         "domain": [
          0,
          1
         ],
         "matches": "x5",
         "showticklabels": false,
         "tickangle": 90,
         "title": {
          "font": {
           "size": 20
          },
          "standoff": 25
         }
        },
        "xaxis4": {
         "anchor": "y4",
         "domain": [
          0,
          1
         ],
         "matches": "x5",
         "showticklabels": false,
         "tickangle": 90,
         "title": {
          "font": {
           "size": 20
          },
          "standoff": 25
         }
        },
        "xaxis5": {
         "anchor": "y5",
         "domain": [
          0,
          1
         ],
         "tickangle": 90,
         "title": {
          "font": {
           "size": 20
          },
          "standoff": 25
         }
        },
        "yaxis": {
         "anchor": "x",
         "domain": [
          0.8400000000000001,
          1
         ],
         "range": [
          0,
          250
         ],
         "tickfont": {
          "size": 14
         },
         "title": {
          "font": {
           "size": 16
          }
         }
        },
        "yaxis2": {
         "anchor": "x2",
         "domain": [
          0.63,
          0.79
         ],
         "range": [
          0,
          250
         ]
        },
        "yaxis3": {
         "anchor": "x3",
         "domain": [
          0.42000000000000004,
          0.5800000000000001
         ],
         "range": [
          0,
          250
         ]
        },
        "yaxis4": {
         "anchor": "x4",
         "domain": [
          0.21000000000000002,
          0.37
         ],
         "range": [
          0,
          250
         ]
        },
        "yaxis5": {
         "anchor": "x5",
         "domain": [
          0,
          0.16
         ],
         "range": [
          0,
          250
         ]
        }
       }
      },
      "text/html": [
       "<div>                            <div id=\"7e26ab94-f595-4298-9e14-8e5e5c7db016\" class=\"plotly-graph-div\" style=\"height:525px; width:100%;\"></div>            <script type=\"text/javascript\">                require([\"plotly\"], function(Plotly) {                    window.PLOTLYENV=window.PLOTLYENV || {};                                    if (document.getElementById(\"7e26ab94-f595-4298-9e14-8e5e5c7db016\")) {                    Plotly.newPlot(                        \"7e26ab94-f595-4298-9e14-8e5e5c7db016\",                        [{\"mode\":\"lines+markers\",\"name\":\"1970s\",\"x\":[\"Jan\",\"Feb\",\"Mar\",\"Apr\",\"May\",\"Jun\",\"Jul\",\"Aug\",\"Sept\",\"Oct\",\"Nov\",\"Dec\"],\"y\":[0,0,0,10,2,39,74,54,60,0,0,0],\"type\":\"scatter\",\"xaxis\":\"x\",\"yaxis\":\"y\"},{\"mode\":\"lines+markers\",\"name\":\"1980s\",\"x\":[\"Jan\",\"Feb\",\"Mar\",\"Apr\",\"May\",\"Jun\",\"Jul\",\"Aug\",\"Sept\",\"Oct\",\"Nov\",\"Dec\"],\"y\":[11,6,31,40,65,83,132,30,2,5,54,38],\"type\":\"scatter\",\"xaxis\":\"x2\",\"yaxis\":\"y2\"},{\"mode\":\"lines+markers\",\"name\":\"1990s\",\"x\":[\"Jan\",\"Feb\",\"Mar\",\"Apr\",\"May\",\"Jun\",\"Jul\",\"Aug\",\"Sept\",\"Oct\",\"Nov\",\"Dec\"],\"y\":[0,37,136,114,211,144,65,49,9,6,4,24],\"type\":\"scatter\",\"xaxis\":\"x3\",\"yaxis\":\"y3\"},{\"mode\":\"lines+markers\",\"name\":\"2000s\",\"x\":[\"Jan\",\"Feb\",\"Mar\",\"Apr\",\"May\",\"Jun\",\"Jul\",\"Aug\",\"Sept\",\"Oct\",\"Nov\",\"Dec\"],\"y\":[0,43,45,125,98,64,33,56,47,17,1,1],\"type\":\"scatter\",\"xaxis\":\"x4\",\"yaxis\":\"y4\"},{\"mode\":\"lines+markers\",\"name\":\"2010s\",\"x\":[\"Jan\",\"Feb\",\"Mar\",\"Apr\",\"May\",\"Jun\",\"Jul\",\"Aug\",\"Sept\",\"Oct\",\"Nov\",\"Dec\"],\"y\":[11,76,21,194,170,144,141,44,34,56,19,26],\"type\":\"scatter\",\"xaxis\":\"x5\",\"yaxis\":\"y5\"}],                        {\"template\":{\"data\":{\"histogram2dcontour\":[{\"type\":\"histogram2dcontour\",\"colorbar\":{\"outlinewidth\":0,\"ticks\":\"\"},\"colorscale\":[[0.0,\"#0d0887\"],[0.1111111111111111,\"#46039f\"],[0.2222222222222222,\"#7201a8\"],[0.3333333333333333,\"#9c179e\"],[0.4444444444444444,\"#bd3786\"],[0.5555555555555556,\"#d8576b\"],[0.6666666666666666,\"#ed7953\"],[0.7777777777777778,\"#fb9f3a\"],[0.8888888888888888,\"#fdca26\"],[1.0,\"#f0f921\"]]}],\"choropleth\":[{\"type\":\"choropleth\",\"colorbar\":{\"outlinewidth\":0,\"ticks\":\"\"}}],\"histogram2d\":[{\"type\":\"histogram2d\",\"colorbar\":{\"outlinewidth\":0,\"ticks\":\"\"},\"colorscale\":[[0.0,\"#0d0887\"],[0.1111111111111111,\"#46039f\"],[0.2222222222222222,\"#7201a8\"],[0.3333333333333333,\"#9c179e\"],[0.4444444444444444,\"#bd3786\"],[0.5555555555555556,\"#d8576b\"],[0.6666666666666666,\"#ed7953\"],[0.7777777777777778,\"#fb9f3a\"],[0.8888888888888888,\"#fdca26\"],[1.0,\"#f0f921\"]]}],\"heatmap\":[{\"type\":\"heatmap\",\"colorbar\":{\"outlinewidth\":0,\"ticks\":\"\"},\"colorscale\":[[0.0,\"#0d0887\"],[0.1111111111111111,\"#46039f\"],[0.2222222222222222,\"#7201a8\"],[0.3333333333333333,\"#9c179e\"],[0.4444444444444444,\"#bd3786\"],[0.5555555555555556,\"#d8576b\"],[0.6666666666666666,\"#ed7953\"],[0.7777777777777778,\"#fb9f3a\"],[0.8888888888888888,\"#fdca26\"],[1.0,\"#f0f921\"]]}],\"heatmapgl\":[{\"type\":\"heatmapgl\",\"colorbar\":{\"outlinewidth\":0,\"ticks\":\"\"},\"colorscale\":[[0.0,\"#0d0887\"],[0.1111111111111111,\"#46039f\"],[0.2222222222222222,\"#7201a8\"],[0.3333333333333333,\"#9c179e\"],[0.4444444444444444,\"#bd3786\"],[0.5555555555555556,\"#d8576b\"],[0.6666666666666666,\"#ed7953\"],[0.7777777777777778,\"#fb9f3a\"],[0.8888888888888888,\"#fdca26\"],[1.0,\"#f0f921\"]]}],\"contourcarpet\":[{\"type\":\"contourcarpet\",\"colorbar\":{\"outlinewidth\":0,\"ticks\":\"\"}}],\"contour\":[{\"type\":\"contour\",\"colorbar\":{\"outlinewidth\":0,\"ticks\":\"\"},\"colorscale\":[[0.0,\"#0d0887\"],[0.1111111111111111,\"#46039f\"],[0.2222222222222222,\"#7201a8\"],[0.3333333333333333,\"#9c179e\"],[0.4444444444444444,\"#bd3786\"],[0.5555555555555556,\"#d8576b\"],[0.6666666666666666,\"#ed7953\"],[0.7777777777777778,\"#fb9f3a\"],[0.8888888888888888,\"#fdca26\"],[1.0,\"#f0f921\"]]}],\"surface\":[{\"type\":\"surface\",\"colorbar\":{\"outlinewidth\":0,\"ticks\":\"\"},\"colorscale\":[[0.0,\"#0d0887\"],[0.1111111111111111,\"#46039f\"],[0.2222222222222222,\"#7201a8\"],[0.3333333333333333,\"#9c179e\"],[0.4444444444444444,\"#bd3786\"],[0.5555555555555556,\"#d8576b\"],[0.6666666666666666,\"#ed7953\"],[0.7777777777777778,\"#fb9f3a\"],[0.8888888888888888,\"#fdca26\"],[1.0,\"#f0f921\"]]}],\"mesh3d\":[{\"type\":\"mesh3d\",\"colorbar\":{\"outlinewidth\":0,\"ticks\":\"\"}}],\"scatter\":[{\"fillpattern\":{\"fillmode\":\"overlay\",\"size\":10,\"solidity\":0.2},\"type\":\"scatter\"}],\"parcoords\":[{\"type\":\"parcoords\",\"line\":{\"colorbar\":{\"outlinewidth\":0,\"ticks\":\"\"}}}],\"scatterpolargl\":[{\"type\":\"scatterpolargl\",\"marker\":{\"colorbar\":{\"outlinewidth\":0,\"ticks\":\"\"}}}],\"bar\":[{\"error_x\":{\"color\":\"#2a3f5f\"},\"error_y\":{\"color\":\"#2a3f5f\"},\"marker\":{\"line\":{\"color\":\"#E5ECF6\",\"width\":0.5},\"pattern\":{\"fillmode\":\"overlay\",\"size\":10,\"solidity\":0.2}},\"type\":\"bar\"}],\"scattergeo\":[{\"type\":\"scattergeo\",\"marker\":{\"colorbar\":{\"outlinewidth\":0,\"ticks\":\"\"}}}],\"scatterpolar\":[{\"type\":\"scatterpolar\",\"marker\":{\"colorbar\":{\"outlinewidth\":0,\"ticks\":\"\"}}}],\"histogram\":[{\"marker\":{\"pattern\":{\"fillmode\":\"overlay\",\"size\":10,\"solidity\":0.2}},\"type\":\"histogram\"}],\"scattergl\":[{\"type\":\"scattergl\",\"marker\":{\"colorbar\":{\"outlinewidth\":0,\"ticks\":\"\"}}}],\"scatter3d\":[{\"type\":\"scatter3d\",\"line\":{\"colorbar\":{\"outlinewidth\":0,\"ticks\":\"\"}},\"marker\":{\"colorbar\":{\"outlinewidth\":0,\"ticks\":\"\"}}}],\"scattermapbox\":[{\"type\":\"scattermapbox\",\"marker\":{\"colorbar\":{\"outlinewidth\":0,\"ticks\":\"\"}}}],\"scatterternary\":[{\"type\":\"scatterternary\",\"marker\":{\"colorbar\":{\"outlinewidth\":0,\"ticks\":\"\"}}}],\"scattercarpet\":[{\"type\":\"scattercarpet\",\"marker\":{\"colorbar\":{\"outlinewidth\":0,\"ticks\":\"\"}}}],\"carpet\":[{\"aaxis\":{\"endlinecolor\":\"#2a3f5f\",\"gridcolor\":\"white\",\"linecolor\":\"white\",\"minorgridcolor\":\"white\",\"startlinecolor\":\"#2a3f5f\"},\"baxis\":{\"endlinecolor\":\"#2a3f5f\",\"gridcolor\":\"white\",\"linecolor\":\"white\",\"minorgridcolor\":\"white\",\"startlinecolor\":\"#2a3f5f\"},\"type\":\"carpet\"}],\"table\":[{\"cells\":{\"fill\":{\"color\":\"#EBF0F8\"},\"line\":{\"color\":\"white\"}},\"header\":{\"fill\":{\"color\":\"#C8D4E3\"},\"line\":{\"color\":\"white\"}},\"type\":\"table\"}],\"barpolar\":[{\"marker\":{\"line\":{\"color\":\"#E5ECF6\",\"width\":0.5},\"pattern\":{\"fillmode\":\"overlay\",\"size\":10,\"solidity\":0.2}},\"type\":\"barpolar\"}],\"pie\":[{\"automargin\":true,\"type\":\"pie\"}]},\"layout\":{\"autotypenumbers\":\"strict\",\"colorway\":[\"#636efa\",\"#EF553B\",\"#00cc96\",\"#ab63fa\",\"#FFA15A\",\"#19d3f3\",\"#FF6692\",\"#B6E880\",\"#FF97FF\",\"#FECB52\"],\"font\":{\"color\":\"#2a3f5f\"},\"hovermode\":\"closest\",\"hoverlabel\":{\"align\":\"left\"},\"paper_bgcolor\":\"white\",\"plot_bgcolor\":\"#E5ECF6\",\"polar\":{\"bgcolor\":\"#E5ECF6\",\"angularaxis\":{\"gridcolor\":\"white\",\"linecolor\":\"white\",\"ticks\":\"\"},\"radialaxis\":{\"gridcolor\":\"white\",\"linecolor\":\"white\",\"ticks\":\"\"}},\"ternary\":{\"bgcolor\":\"#E5ECF6\",\"aaxis\":{\"gridcolor\":\"white\",\"linecolor\":\"white\",\"ticks\":\"\"},\"baxis\":{\"gridcolor\":\"white\",\"linecolor\":\"white\",\"ticks\":\"\"},\"caxis\":{\"gridcolor\":\"white\",\"linecolor\":\"white\",\"ticks\":\"\"}},\"coloraxis\":{\"colorbar\":{\"outlinewidth\":0,\"ticks\":\"\"}},\"colorscale\":{\"sequential\":[[0.0,\"#0d0887\"],[0.1111111111111111,\"#46039f\"],[0.2222222222222222,\"#7201a8\"],[0.3333333333333333,\"#9c179e\"],[0.4444444444444444,\"#bd3786\"],[0.5555555555555556,\"#d8576b\"],[0.6666666666666666,\"#ed7953\"],[0.7777777777777778,\"#fb9f3a\"],[0.8888888888888888,\"#fdca26\"],[1.0,\"#f0f921\"]],\"sequentialminus\":[[0.0,\"#0d0887\"],[0.1111111111111111,\"#46039f\"],[0.2222222222222222,\"#7201a8\"],[0.3333333333333333,\"#9c179e\"],[0.4444444444444444,\"#bd3786\"],[0.5555555555555556,\"#d8576b\"],[0.6666666666666666,\"#ed7953\"],[0.7777777777777778,\"#fb9f3a\"],[0.8888888888888888,\"#fdca26\"],[1.0,\"#f0f921\"]],\"diverging\":[[0,\"#8e0152\"],[0.1,\"#c51b7d\"],[0.2,\"#de77ae\"],[0.3,\"#f1b6da\"],[0.4,\"#fde0ef\"],[0.5,\"#f7f7f7\"],[0.6,\"#e6f5d0\"],[0.7,\"#b8e186\"],[0.8,\"#7fbc41\"],[0.9,\"#4d9221\"],[1,\"#276419\"]]},\"xaxis\":{\"gridcolor\":\"white\",\"linecolor\":\"white\",\"ticks\":\"\",\"title\":{\"standoff\":15},\"zerolinecolor\":\"white\",\"automargin\":true,\"zerolinewidth\":2},\"yaxis\":{\"gridcolor\":\"white\",\"linecolor\":\"white\",\"ticks\":\"\",\"title\":{\"standoff\":15},\"zerolinecolor\":\"white\",\"automargin\":true,\"zerolinewidth\":2},\"scene\":{\"xaxis\":{\"backgroundcolor\":\"#E5ECF6\",\"gridcolor\":\"white\",\"linecolor\":\"white\",\"showbackground\":true,\"ticks\":\"\",\"zerolinecolor\":\"white\",\"gridwidth\":2},\"yaxis\":{\"backgroundcolor\":\"#E5ECF6\",\"gridcolor\":\"white\",\"linecolor\":\"white\",\"showbackground\":true,\"ticks\":\"\",\"zerolinecolor\":\"white\",\"gridwidth\":2},\"zaxis\":{\"backgroundcolor\":\"#E5ECF6\",\"gridcolor\":\"white\",\"linecolor\":\"white\",\"showbackground\":true,\"ticks\":\"\",\"zerolinecolor\":\"white\",\"gridwidth\":2}},\"shapedefaults\":{\"line\":{\"color\":\"#2a3f5f\"}},\"annotationdefaults\":{\"arrowcolor\":\"#2a3f5f\",\"arrowhead\":0,\"arrowwidth\":1},\"geo\":{\"bgcolor\":\"white\",\"landcolor\":\"#E5ECF6\",\"subunitcolor\":\"white\",\"showland\":true,\"showlakes\":true,\"lakecolor\":\"white\"},\"title\":{\"x\":0.05},\"mapbox\":{\"style\":\"light\"}}},\"xaxis\":{\"anchor\":\"y\",\"domain\":[0.0,1.0],\"matches\":\"x5\",\"showticklabels\":false,\"title\":{\"font\":{\"size\":20},\"standoff\":25},\"tickangle\":90,\"tickfont\":{\"size\":14}},\"yaxis\":{\"anchor\":\"x\",\"domain\":[0.8400000000000001,1.0],\"title\":{\"font\":{\"size\":16}},\"tickfont\":{\"size\":14},\"range\":[0,250]},\"xaxis2\":{\"anchor\":\"y2\",\"domain\":[0.0,1.0],\"matches\":\"x5\",\"showticklabels\":false,\"title\":{\"font\":{\"size\":20},\"standoff\":25},\"tickangle\":90},\"yaxis2\":{\"anchor\":\"x2\",\"domain\":[0.63,0.79],\"range\":[0,250]},\"xaxis3\":{\"anchor\":\"y3\",\"domain\":[0.0,1.0],\"matches\":\"x5\",\"showticklabels\":false,\"title\":{\"font\":{\"size\":20},\"standoff\":25},\"tickangle\":90},\"yaxis3\":{\"anchor\":\"x3\",\"domain\":[0.42000000000000004,0.5800000000000001],\"range\":[0,250]},\"xaxis4\":{\"anchor\":\"y4\",\"domain\":[0.0,1.0],\"matches\":\"x5\",\"showticklabels\":false,\"title\":{\"font\":{\"size\":20},\"standoff\":25},\"tickangle\":90},\"yaxis4\":{\"anchor\":\"x4\",\"domain\":[0.21000000000000002,0.37],\"range\":[0,250]},\"xaxis5\":{\"anchor\":\"y5\",\"domain\":[0.0,1.0],\"title\":{\"font\":{\"size\":20},\"standoff\":25},\"tickangle\":90},\"yaxis5\":{\"anchor\":\"x5\",\"domain\":[0.0,0.16],\"range\":[0,250]},\"title\":{\"text\":\"Red Squirrel Observations by Month of Year, Split by Decade\"}},                        {\"responsive\": true}                    ).then(function(){\n",
       "                            \n",
       "var gd = document.getElementById('7e26ab94-f595-4298-9e14-8e5e5c7db016');\n",
       "var x = new MutationObserver(function (mutations, observer) {{\n",
       "        var display = window.getComputedStyle(gd).display;\n",
       "        if (!display || display === 'none') {{\n",
       "            console.log([gd, 'removed!']);\n",
       "            Plotly.purge(gd);\n",
       "            observer.disconnect();\n",
       "        }}\n",
       "}});\n",
       "\n",
       "// Listen for the removal of the full notebook cells\n",
       "var notebookContainer = gd.closest('#notebook-container');\n",
       "if (notebookContainer) {{\n",
       "    x.observe(notebookContainer, {childList: true});\n",
       "}}\n",
       "\n",
       "// Listen for the clearing of the current output cell\n",
       "var outputEl = gd.closest('.output');\n",
       "if (outputEl) {{\n",
       "    x.observe(outputEl, {childList: true});\n",
       "}}\n",
       "\n",
       "                        })                };                });            </script>        </div>"
      ]
     },
     "metadata": {},
     "output_type": "display_data"
    }
   ],
   "source": [
    "months = ['Jan', 'Feb', 'Mar', 'Apr', 'May', 'Jun', 'Jul', 'Aug', 'Sept', 'Oct', 'Nov', 'Dec']\n",
    "\n",
    "fig = make_subplots(rows = 5, \n",
    "                    cols = 1, \n",
    "                    shared_xaxes=True,\n",
    "                    vertical_spacing=0.05,\n",
    "                    )\n",
    "\n",
    "fig.append_trace(go.Scatter(\n",
    "    mode = \"lines+markers\",\n",
    "    x = months,\n",
    "    y = [0, 0, 0, 10, 2, 39, 74, 54, 60, 0, 0, 0],\n",
    "    name = \"1970s\"\n",
    "), row = 1, col = 1,\n",
    "                )\n",
    "\n",
    "fig.append_trace(go.Scatter(\n",
    "    mode = \"lines+markers\",\n",
    "    x = months,\n",
    "    y = [11, 6, 31, 40, 65, 83, 132, 30, 2, 5, 54, 38],\n",
    "    name = '1980s'\n",
    "), row = 2, col = 1)\n",
    "\n",
    "fig.append_trace(go.Scatter(\n",
    "    mode = \"lines+markers\",\n",
    "    x = months,\n",
    "    y = [0, 37, 136, 114, 211, 144, 65, 49, 9, 6, 4, 24],\n",
    "    name = '1990s'\n",
    "), row = 3, col = 1)\n",
    "\n",
    "fig.append_trace(go.Scatter(\n",
    "    mode = \"lines+markers\",\n",
    "    x = months,\n",
    "    y = [0, 43, 45, 125, 98, 64, 33, 56, 47, 17, 1, 1],\n",
    "    name = '2000s'\n",
    "), row = 4, col = 1)\n",
    "\n",
    "fig.append_trace(go.Scatter(\n",
    "    mode = \"lines+markers\",\n",
    "    x = months,\n",
    "    y = [11, 76, 21, 194, 170, 144, 141, 44, 34, 56, 19, 26],\n",
    "    name = '2010s'\n",
    "), row = 5, col = 1)\n",
    "\n",
    "fig.update_xaxes(\n",
    "        tickangle = 90,\n",
    "        #title_text = \"Month\",\n",
    "        title_font = {\"size\": 20},\n",
    "        title_standoff = 25,\n",
    "        )\n",
    "\n",
    "fig.update_layout(\n",
    "    title='Red Squirrel Observations by Month of Year, Split by Decade',\n",
    "    xaxis_tickfont_size=14,\n",
    "    yaxis=dict(\n",
    "        #title='Number of Observations',\n",
    "        titlefont_size=16,\n",
    "        tickfont_size=14,\n",
    "    ),\n",
    "\n",
    ")\n",
    "\n",
    "fig.update_yaxes(\n",
    "    range = [0, 250])\n",
    "\n",
    "fig.show()"
   ]
  },
  {
   "cell_type": "code",
   "execution_count": 602,
   "id": "99d86425",
   "metadata": {},
   "outputs": [
    {
     "data": {
      "text/plain": [
       "ds      object\n",
       "y      float64\n",
       "win     object\n",
       "spr    float64\n",
       "sum    float64\n",
       "aut    float64\n",
       "ann    float64\n",
       "dtype: object"
      ]
     },
     "execution_count": 602,
     "metadata": {},
     "output_type": "execute_result"
    }
   ],
   "source": [
    "test.dtypes"
   ]
  },
  {
   "cell_type": "code",
   "execution_count": 648,
   "id": "6af71ad4",
   "metadata": {},
   "outputs": [
    {
     "data": {
      "text/html": [
       "<div>\n",
       "<style scoped>\n",
       "    .dataframe tbody tr th:only-of-type {\n",
       "        vertical-align: middle;\n",
       "    }\n",
       "\n",
       "    .dataframe tbody tr th {\n",
       "        vertical-align: top;\n",
       "    }\n",
       "\n",
       "    .dataframe thead th {\n",
       "        text-align: right;\n",
       "    }\n",
       "</style>\n",
       "<table border=\"1\" class=\"dataframe\">\n",
       "  <thead>\n",
       "    <tr style=\"text-align: right;\">\n",
       "      <th></th>\n",
       "      <th>ds</th>\n",
       "      <th>y</th>\n",
       "      <th>win</th>\n",
       "      <th>spr</th>\n",
       "      <th>sum</th>\n",
       "      <th>aut</th>\n",
       "      <th>ann</th>\n",
       "    </tr>\n",
       "  </thead>\n",
       "  <tbody>\n",
       "    <tr>\n",
       "      <th>8</th>\n",
       "      <td>2008</td>\n",
       "      <td>4481.0</td>\n",
       "      <td>577.1</td>\n",
       "      <td>289.2</td>\n",
       "      <td>370.3</td>\n",
       "      <td>488.6</td>\n",
       "      <td>1717.8</td>\n",
       "    </tr>\n",
       "    <tr>\n",
       "      <th>9</th>\n",
       "      <td>2009</td>\n",
       "      <td>3133.0</td>\n",
       "      <td>383.4</td>\n",
       "      <td>349.5</td>\n",
       "      <td>425.7</td>\n",
       "      <td>554.2</td>\n",
       "      <td>1678.7</td>\n",
       "    </tr>\n",
       "    <tr>\n",
       "      <th>10</th>\n",
       "      <td>2010</td>\n",
       "      <td>4894.0</td>\n",
       "      <td>275.3</td>\n",
       "      <td>236.2</td>\n",
       "      <td>306.6</td>\n",
       "      <td>465.4</td>\n",
       "      <td>1244.2</td>\n",
       "    </tr>\n",
       "    <tr>\n",
       "      <th>11</th>\n",
       "      <td>2011</td>\n",
       "      <td>4937.0</td>\n",
       "      <td>362.3</td>\n",
       "      <td>369.9</td>\n",
       "      <td>360.9</td>\n",
       "      <td>569.4</td>\n",
       "      <td>1862.7</td>\n",
       "    </tr>\n",
       "    <tr>\n",
       "      <th>12</th>\n",
       "      <td>2012</td>\n",
       "      <td>5483.0</td>\n",
       "      <td>549.5</td>\n",
       "      <td>254.6</td>\n",
       "      <td>386.4</td>\n",
       "      <td>455.6</td>\n",
       "      <td>1596.2</td>\n",
       "    </tr>\n",
       "  </tbody>\n",
       "</table>\n",
       "</div>"
      ],
      "text/plain": [
       "      ds       y    win    spr    sum    aut     ann\n",
       "8   2008  4481.0  577.1  289.2  370.3  488.6  1717.8\n",
       "9   2009  3133.0  383.4  349.5  425.7  554.2  1678.7\n",
       "10  2010  4894.0  275.3  236.2  306.6  465.4  1244.2\n",
       "11  2011  4937.0  362.3  369.9  360.9  569.4  1862.7\n",
       "12  2012  5483.0  549.5  254.6  386.4  455.6  1596.2"
      ]
     },
     "execution_count": 648,
     "metadata": {},
     "output_type": "execute_result"
    }
   ],
   "source": [
    "test.head()"
   ]
  },
  {
   "cell_type": "code",
   "execution_count": 703,
   "id": "f3d2ed8c",
   "metadata": {},
   "outputs": [
    {
     "data": {
      "text/html": [
       "<div>\n",
       "<style scoped>\n",
       "    .dataframe tbody tr th:only-of-type {\n",
       "        vertical-align: middle;\n",
       "    }\n",
       "\n",
       "    .dataframe tbody tr th {\n",
       "        vertical-align: top;\n",
       "    }\n",
       "\n",
       "    .dataframe thead th {\n",
       "        text-align: right;\n",
       "    }\n",
       "</style>\n",
       "<table border=\"1\" class=\"dataframe\">\n",
       "  <thead>\n",
       "    <tr style=\"text-align: right;\">\n",
       "      <th></th>\n",
       "      <th>ds</th>\n",
       "      <th>y</th>\n",
       "      <th>win</th>\n",
       "      <th>spr</th>\n",
       "      <th>sum</th>\n",
       "      <th>aut</th>\n",
       "      <th>ann</th>\n",
       "    </tr>\n",
       "  </thead>\n",
       "  <tbody>\n",
       "    <tr>\n",
       "      <th>15</th>\n",
       "      <td>2015</td>\n",
       "      <td>6652.0</td>\n",
       "      <td>590.6</td>\n",
       "      <td>400.5</td>\n",
       "      <td>359.8</td>\n",
       "      <td>382.1</td>\n",
       "      <td>1840.1</td>\n",
       "    </tr>\n",
       "    <tr>\n",
       "      <th>16</th>\n",
       "      <td>2016</td>\n",
       "      <td>5975.0</td>\n",
       "      <td>739.3</td>\n",
       "      <td>261.3</td>\n",
       "      <td>345.1</td>\n",
       "      <td>321.2</td>\n",
       "      <td>1488.4</td>\n",
       "    </tr>\n",
       "    <tr>\n",
       "      <th>17</th>\n",
       "      <td>2017</td>\n",
       "      <td>7302.0</td>\n",
       "      <td>387.5</td>\n",
       "      <td>243.7</td>\n",
       "      <td>409.4</td>\n",
       "      <td>482.3</td>\n",
       "      <td>1522.9</td>\n",
       "    </tr>\n",
       "    <tr>\n",
       "      <th>18</th>\n",
       "      <td>2018</td>\n",
       "      <td>10862.0</td>\n",
       "      <td>426.2</td>\n",
       "      <td>232.5</td>\n",
       "      <td>252.2</td>\n",
       "      <td>498.7</td>\n",
       "      <td>1395.4</td>\n",
       "    </tr>\n",
       "    <tr>\n",
       "      <th>19</th>\n",
       "      <td>2019</td>\n",
       "      <td>11680.0</td>\n",
       "      <td>342.3</td>\n",
       "      <td>336.0</td>\n",
       "      <td>439.4</td>\n",
       "      <td>382.6</td>\n",
       "      <td>1558.9</td>\n",
       "    </tr>\n",
       "  </tbody>\n",
       "</table>\n",
       "</div>"
      ],
      "text/plain": [
       "      ds        y    win    spr    sum    aut     ann\n",
       "15  2015   6652.0  590.6  400.5  359.8  382.1  1840.1\n",
       "16  2016   5975.0  739.3  261.3  345.1  321.2  1488.4\n",
       "17  2017   7302.0  387.5  243.7  409.4  482.3  1522.9\n",
       "18  2018  10862.0  426.2  232.5  252.2  498.7  1395.4\n",
       "19  2019  11680.0  342.3  336.0  439.4  382.6  1558.9"
      ]
     },
     "execution_count": 703,
     "metadata": {},
     "output_type": "execute_result"
    }
   ],
   "source": [
    "test.tail()"
   ]
  },
  {
   "cell_type": "code",
   "execution_count": 649,
   "id": "eda6e753",
   "metadata": {},
   "outputs": [
    {
     "data": {
      "text/plain": [
       "ds     0\n",
       "y      0\n",
       "win    0\n",
       "spr    0\n",
       "sum    0\n",
       "aut    0\n",
       "ann    0\n",
       "dtype: int64"
      ]
     },
     "execution_count": 649,
     "metadata": {},
     "output_type": "execute_result"
    }
   ],
   "source": [
    "test.isna().sum()"
   ]
  },
  {
   "cell_type": "code",
   "execution_count": 687,
   "id": "6f888622",
   "metadata": {},
   "outputs": [
    {
     "name": "stderr",
     "output_type": "stream",
     "text": [
      "INFO:fbprophet:Disabling weekly seasonality. Run prophet with weekly_seasonality=True to override this.\n",
      "INFO:fbprophet:Disabling daily seasonality. Run prophet with daily_seasonality=True to override this.\n",
      "/opt/homebrew/lib/python3.9/site-packages/fbprophet/forecaster.py:891: FutureWarning:\n",
      "\n",
      "The frame.append method is deprecated and will be removed from pandas in a future version. Use pandas.concat instead.\n",
      "\n",
      "INFO:fbprophet:n_changepoints greater than number of observations. Using 8.\n"
     ]
    },
    {
     "name": "stdout",
     "output_type": "stream",
     "text": [
      "\n",
      "Initial log joint probability = -67.7835\n",
      "Iteration  1. Log joint probability =    8.59909. Improved by 76.3826.\n",
      "Iteration  2. Log joint probability =     15.308. Improved by 6.70893.\n",
      "Iteration  3. Log joint probability =    17.3883. Improved by 2.08027.\n",
      "Iteration  4. Log joint probability =    19.7788. Improved by 2.39049.\n",
      "Iteration  5. Log joint probability =    20.5471. Improved by 0.768299.\n",
      "Iteration  6. Log joint probability =    20.5495. Improved by 0.00239462.\n",
      "Iteration  7. Log joint probability =    20.6395. Improved by 0.0900177.\n",
      "Iteration  8. Log joint probability =    20.8432. Improved by 0.203687.\n",
      "Iteration  9. Log joint probability =    20.8605. Improved by 0.0173299.\n",
      "Iteration 10. Log joint probability =    20.9078. Improved by 0.0473042.\n",
      "Iteration 11. Log joint probability =    20.9155. Improved by 0.00771483.\n",
      "Iteration 12. Log joint probability =    20.9166. Improved by 0.00108309.\n",
      "Iteration 13. Log joint probability =    20.9258. Improved by 0.00923586.\n",
      "Iteration 14. Log joint probability =     20.928. Improved by 0.0021422.\n",
      "Iteration 15. Log joint probability =    20.9314. Improved by 0.00337417.\n",
      "Iteration 16. Log joint probability =    20.9342. Improved by 0.00280155.\n",
      "Iteration 17. Log joint probability =    20.9362. Improved by 0.00200212.\n",
      "Iteration 18. Log joint probability =    20.9362. Improved by 8.42683e-05.\n",
      "Iteration 19. Log joint probability =    20.9367. Improved by 0.000508324.\n",
      "Iteration 20. Log joint probability =     20.937. Improved by 0.000226286.\n",
      "Iteration 21. Log joint probability =    20.9376. Improved by 0.000654215.\n",
      "Iteration 22. Log joint probability =    20.9379. Improved by 0.000305024.\n",
      "Iteration 23. Log joint probability =     20.938. Improved by 2.4523e-05.\n",
      "Iteration 24. Log joint probability =    20.9381. Improved by 0.000175453.\n",
      "Iteration 25. Log joint probability =    20.9382. Improved by 4.43525e-05.\n",
      "Iteration 26. Log joint probability =    20.9382. Improved by 4.20089e-05.\n",
      "Iteration 27. Log joint probability =    20.9383. Improved by 5.83324e-05.\n",
      "Iteration 28. Log joint probability =    20.9383. Improved by 4.61776e-05.\n",
      "Iteration 29. Log joint probability =    20.9384. Improved by 4.56288e-05.\n",
      "Iteration 30. Log joint probability =    20.9384. Improved by 1.52124e-05.\n",
      "Iteration 31. Log joint probability =    20.9384. Improved by 2.15781e-05.\n",
      "Iteration 32. Log joint probability =    20.9384. Improved by 4.72027e-06.\n",
      "Iteration 33. Log joint probability =    20.9384. Improved by 5.84564e-06.\n",
      "Iteration 34. Log joint probability =    20.9384. Improved by 1.98409e-07.\n",
      "Iteration 35. Log joint probability =    20.9384. Improved by 4.17042e-06.\n",
      "Iteration 36. Log joint probability =    20.9384. Improved by 2.4198e-06.\n",
      "Iteration 37. Log joint probability =    20.9384. Improved by 3.03792e-06.\n",
      "Iteration 38. Log joint probability =    20.9384. Improved by 1.79298e-06.\n",
      "Iteration 39. Log joint probability =    20.9384. Improved by 1.28694e-06.\n",
      "Iteration 40. Log joint probability =    20.9384. Improved by 2.37038e-06.\n",
      "Iteration 41. Log joint probability =    20.9384. Improved by 3.80862e-07.\n",
      "Iteration 42. Log joint probability =    20.9384. Improved by 4.38472e-07.\n",
      "Iteration 43. Log joint probability =    20.9384. Improved by 2.88433e-07.\n",
      "Iteration 44. Log joint probability =    20.9384. Improved by 1.50515e-07.\n",
      "Iteration 45. Log joint probability =    20.9384. Improved by 2.43994e-07.\n",
      "Iteration 46. Log joint probability =    20.9384. Improved by 1.79451e-07.\n",
      "Iteration 47. Log joint probability =    20.9384. Improved by 1.70942e-07.\n",
      "Iteration 48. Log joint probability =    20.9384. Improved by 1.47516e-08.\n",
      "Iteration 49. Log joint probability =    20.9384. Improved by 8.42612e-08.\n",
      "Iteration 50. Log joint probability =    20.9384. Improved by 2.16586e-08.\n",
      "Iteration 51. Log joint probability =    20.9384. Improved by 1.86488e-08.\n",
      "Iteration 52. Log joint probability =    20.9384. Improved by 2.09313e-08.\n",
      "Iteration 53. Log joint probability =    20.9384. Improved by 9.69587e-09.\n"
     ]
    },
    {
     "data": {
      "text/plain": [
       "<fbprophet.forecaster.Prophet at 0x280284190>"
      ]
     },
     "execution_count": 687,
     "metadata": {},
     "output_type": "execute_result"
    }
   ],
   "source": [
    "model = Prophet()\n",
    "model.add_regressor('ann')\n",
    "model.fit(test)"
   ]
  },
  {
   "cell_type": "code",
   "execution_count": 788,
   "id": "ebd86205",
   "metadata": {},
   "outputs": [],
   "source": [
    "future = model.make_future_dataframe(periods=20, freq='YS')"
   ]
  },
  {
   "cell_type": "code",
   "execution_count": 789,
   "id": "a9486920",
   "metadata": {},
   "outputs": [],
   "source": [
    "future_dates = pd.date_range(start='2000', periods=20, freq='YS')"
   ]
  },
  {
   "cell_type": "code",
   "execution_count": 790,
   "id": "52caaa81",
   "metadata": {},
   "outputs": [],
   "source": [
    "future = pd.DataFrame({'ds': future_dates})"
   ]
  },
  {
   "cell_type": "code",
   "execution_count": 791,
   "id": "f34cb89d",
   "metadata": {},
   "outputs": [
    {
     "data": {
      "text/html": [
       "<div>\n",
       "<style scoped>\n",
       "    .dataframe tbody tr th:only-of-type {\n",
       "        vertical-align: middle;\n",
       "    }\n",
       "\n",
       "    .dataframe tbody tr th {\n",
       "        vertical-align: top;\n",
       "    }\n",
       "\n",
       "    .dataframe thead th {\n",
       "        text-align: right;\n",
       "    }\n",
       "</style>\n",
       "<table border=\"1\" class=\"dataframe\">\n",
       "  <thead>\n",
       "    <tr style=\"text-align: right;\">\n",
       "      <th></th>\n",
       "      <th>ds</th>\n",
       "    </tr>\n",
       "  </thead>\n",
       "  <tbody>\n",
       "    <tr>\n",
       "      <th>15</th>\n",
       "      <td>2015-01-01</td>\n",
       "    </tr>\n",
       "    <tr>\n",
       "      <th>16</th>\n",
       "      <td>2016-01-01</td>\n",
       "    </tr>\n",
       "    <tr>\n",
       "      <th>17</th>\n",
       "      <td>2017-01-01</td>\n",
       "    </tr>\n",
       "    <tr>\n",
       "      <th>18</th>\n",
       "      <td>2018-01-01</td>\n",
       "    </tr>\n",
       "    <tr>\n",
       "      <th>19</th>\n",
       "      <td>2019-01-01</td>\n",
       "    </tr>\n",
       "  </tbody>\n",
       "</table>\n",
       "</div>"
      ],
      "text/plain": [
       "           ds\n",
       "15 2015-01-01\n",
       "16 2016-01-01\n",
       "17 2017-01-01\n",
       "18 2018-01-01\n",
       "19 2019-01-01"
      ]
     },
     "execution_count": 791,
     "metadata": {},
     "output_type": "execute_result"
    }
   ],
   "source": [
    "future.tail()"
   ]
  },
  {
   "cell_type": "code",
   "execution_count": 792,
   "id": "e7aec0ac",
   "metadata": {},
   "outputs": [],
   "source": [
    "future['ann'] = test['ann']"
   ]
  },
  {
   "cell_type": "code",
   "execution_count": 793,
   "id": "e7634866",
   "metadata": {},
   "outputs": [],
   "source": [
    "future['ds'] = future['ds'].dt.strftime('%Y-%m')"
   ]
  },
  {
   "cell_type": "code",
   "execution_count": 794,
   "id": "972cff3d",
   "metadata": {},
   "outputs": [
    {
     "data": {
      "text/html": [
       "<div>\n",
       "<style scoped>\n",
       "    .dataframe tbody tr th:only-of-type {\n",
       "        vertical-align: middle;\n",
       "    }\n",
       "\n",
       "    .dataframe tbody tr th {\n",
       "        vertical-align: top;\n",
       "    }\n",
       "\n",
       "    .dataframe thead th {\n",
       "        text-align: right;\n",
       "    }\n",
       "</style>\n",
       "<table border=\"1\" class=\"dataframe\">\n",
       "  <thead>\n",
       "    <tr style=\"text-align: right;\">\n",
       "      <th></th>\n",
       "      <th>ds</th>\n",
       "      <th>ann</th>\n",
       "    </tr>\n",
       "  </thead>\n",
       "  <tbody>\n",
       "    <tr>\n",
       "      <th>0</th>\n",
       "      <td>2000-01</td>\n",
       "      <td>NaN</td>\n",
       "    </tr>\n",
       "    <tr>\n",
       "      <th>1</th>\n",
       "      <td>2001-01</td>\n",
       "      <td>NaN</td>\n",
       "    </tr>\n",
       "    <tr>\n",
       "      <th>2</th>\n",
       "      <td>2002-01</td>\n",
       "      <td>NaN</td>\n",
       "    </tr>\n",
       "    <tr>\n",
       "      <th>3</th>\n",
       "      <td>2003-01</td>\n",
       "      <td>NaN</td>\n",
       "    </tr>\n",
       "    <tr>\n",
       "      <th>4</th>\n",
       "      <td>2004-01</td>\n",
       "      <td>NaN</td>\n",
       "    </tr>\n",
       "  </tbody>\n",
       "</table>\n",
       "</div>"
      ],
      "text/plain": [
       "        ds  ann\n",
       "0  2000-01  NaN\n",
       "1  2001-01  NaN\n",
       "2  2002-01  NaN\n",
       "3  2003-01  NaN\n",
       "4  2004-01  NaN"
      ]
     },
     "execution_count": 794,
     "metadata": {},
     "output_type": "execute_result"
    }
   ],
   "source": [
    "future.head()"
   ]
  },
  {
   "cell_type": "code",
   "execution_count": 796,
   "id": "ffddb1ec",
   "metadata": {},
   "outputs": [
    {
     "data": {
      "text/html": [
       "<div>\n",
       "<style scoped>\n",
       "    .dataframe tbody tr th:only-of-type {\n",
       "        vertical-align: middle;\n",
       "    }\n",
       "\n",
       "    .dataframe tbody tr th {\n",
       "        vertical-align: top;\n",
       "    }\n",
       "\n",
       "    .dataframe thead th {\n",
       "        text-align: right;\n",
       "    }\n",
       "</style>\n",
       "<table border=\"1\" class=\"dataframe\">\n",
       "  <thead>\n",
       "    <tr style=\"text-align: right;\">\n",
       "      <th></th>\n",
       "      <th>ds</th>\n",
       "      <th>ann</th>\n",
       "    </tr>\n",
       "  </thead>\n",
       "  <tbody>\n",
       "    <tr>\n",
       "      <th>0</th>\n",
       "      <td>2000-01</td>\n",
       "      <td>1840.1</td>\n",
       "    </tr>\n",
       "    <tr>\n",
       "      <th>1</th>\n",
       "      <td>2001-01</td>\n",
       "      <td>1488.4</td>\n",
       "    </tr>\n",
       "    <tr>\n",
       "      <th>2</th>\n",
       "      <td>2002-01</td>\n",
       "      <td>1522.9</td>\n",
       "    </tr>\n",
       "    <tr>\n",
       "      <th>3</th>\n",
       "      <td>2003-01</td>\n",
       "      <td>1395.4</td>\n",
       "    </tr>\n",
       "    <tr>\n",
       "      <th>4</th>\n",
       "      <td>2004-01</td>\n",
       "      <td>NaN</td>\n",
       "    </tr>\n",
       "  </tbody>\n",
       "</table>\n",
       "</div>"
      ],
      "text/plain": [
       "        ds     ann\n",
       "0  2000-01  1840.1\n",
       "1  2001-01  1488.4\n",
       "2  2002-01  1522.9\n",
       "3  2003-01  1395.4\n",
       "4  2004-01     NaN"
      ]
     },
     "execution_count": 796,
     "metadata": {},
     "output_type": "execute_result"
    }
   ],
   "source": [
    "future.head()"
   ]
  },
  {
   "cell_type": "code",
   "execution_count": 797,
   "id": "b1015e9d",
   "metadata": {},
   "outputs": [
    {
     "data": {
      "text/plain": [
       "ds     0\n",
       "ann    4\n",
       "dtype: int64"
      ]
     },
     "execution_count": 797,
     "metadata": {},
     "output_type": "execute_result"
    }
   ],
   "source": [
    "future.isna().sum()"
   ]
  },
  {
   "cell_type": "code",
   "execution_count": 798,
   "id": "651393bd",
   "metadata": {},
   "outputs": [
    {
     "ename": "ValueError",
     "evalue": "Found NaN in column 'ann'",
     "output_type": "error",
     "traceback": [
      "\u001b[0;31m---------------------------------------------------------------------------\u001b[0m",
      "\u001b[0;31mValueError\u001b[0m                                Traceback (most recent call last)",
      "Input \u001b[0;32mIn [798]\u001b[0m, in \u001b[0;36m<cell line: 1>\u001b[0;34m()\u001b[0m\n\u001b[0;32m----> 1\u001b[0m forecast \u001b[38;5;241m=\u001b[39m \u001b[43mmodel\u001b[49m\u001b[38;5;241;43m.\u001b[39;49m\u001b[43mpredict\u001b[49m\u001b[43m(\u001b[49m\u001b[43mfuture\u001b[49m\u001b[43m)\u001b[49m\n",
      "File \u001b[0;32m/opt/homebrew/lib/python3.9/site-packages/fbprophet/forecaster.py:1199\u001b[0m, in \u001b[0;36mProphet.predict\u001b[0;34m(self, df)\u001b[0m\n\u001b[1;32m   1197\u001b[0m     \u001b[38;5;28;01mif\u001b[39;00m df\u001b[38;5;241m.\u001b[39mshape[\u001b[38;5;241m0\u001b[39m] \u001b[38;5;241m==\u001b[39m \u001b[38;5;241m0\u001b[39m:\n\u001b[1;32m   1198\u001b[0m         \u001b[38;5;28;01mraise\u001b[39;00m \u001b[38;5;167;01mValueError\u001b[39;00m(\u001b[38;5;124m'\u001b[39m\u001b[38;5;124mDataframe has no rows.\u001b[39m\u001b[38;5;124m'\u001b[39m)\n\u001b[0;32m-> 1199\u001b[0m     df \u001b[38;5;241m=\u001b[39m \u001b[38;5;28;43mself\u001b[39;49m\u001b[38;5;241;43m.\u001b[39;49m\u001b[43msetup_dataframe\u001b[49m\u001b[43m(\u001b[49m\u001b[43mdf\u001b[49m\u001b[38;5;241;43m.\u001b[39;49m\u001b[43mcopy\u001b[49m\u001b[43m(\u001b[49m\u001b[43m)\u001b[49m\u001b[43m)\u001b[49m\n\u001b[1;32m   1201\u001b[0m df[\u001b[38;5;124m'\u001b[39m\u001b[38;5;124mtrend\u001b[39m\u001b[38;5;124m'\u001b[39m] \u001b[38;5;241m=\u001b[39m \u001b[38;5;28mself\u001b[39m\u001b[38;5;241m.\u001b[39mpredict_trend(df)\n\u001b[1;32m   1202\u001b[0m seasonal_components \u001b[38;5;241m=\u001b[39m \u001b[38;5;28mself\u001b[39m\u001b[38;5;241m.\u001b[39mpredict_seasonal_components(df)\n",
      "File \u001b[0;32m/opt/homebrew/lib/python3.9/site-packages/fbprophet/forecaster.py:278\u001b[0m, in \u001b[0;36mProphet.setup_dataframe\u001b[0;34m(self, df, initialize_scales)\u001b[0m\n\u001b[1;32m    276\u001b[0m     df[name] \u001b[38;5;241m=\u001b[39m pd\u001b[38;5;241m.\u001b[39mto_numeric(df[name])\n\u001b[1;32m    277\u001b[0m     \u001b[38;5;28;01mif\u001b[39;00m df[name]\u001b[38;5;241m.\u001b[39misnull()\u001b[38;5;241m.\u001b[39many():\n\u001b[0;32m--> 278\u001b[0m         \u001b[38;5;28;01mraise\u001b[39;00m \u001b[38;5;167;01mValueError\u001b[39;00m(\n\u001b[1;32m    279\u001b[0m             \u001b[38;5;124m'\u001b[39m\u001b[38;5;124mFound NaN in column \u001b[39m\u001b[38;5;132;01m{name!r}\u001b[39;00m\u001b[38;5;124m'\u001b[39m\u001b[38;5;241m.\u001b[39mformat(name\u001b[38;5;241m=\u001b[39mname)\n\u001b[1;32m    280\u001b[0m         )\n\u001b[1;32m    281\u001b[0m \u001b[38;5;28;01mfor\u001b[39;00m props \u001b[38;5;129;01min\u001b[39;00m \u001b[38;5;28mself\u001b[39m\u001b[38;5;241m.\u001b[39mseasonalities\u001b[38;5;241m.\u001b[39mvalues():\n\u001b[1;32m    282\u001b[0m     condition_name \u001b[38;5;241m=\u001b[39m props[\u001b[38;5;124m'\u001b[39m\u001b[38;5;124mcondition_name\u001b[39m\u001b[38;5;124m'\u001b[39m]\n",
      "\u001b[0;31mValueError\u001b[0m: Found NaN in column 'ann'"
     ]
    }
   ],
   "source": [
    "forecast = model.predict(future)"
   ]
  },
  {
   "cell_type": "code",
   "execution_count": 829,
   "id": "c47ed68e",
   "metadata": {},
   "outputs": [
    {
     "data": {
      "image/png": "[encoded data removed]",
      "text/plain": [
       "<Figure size 720x432 with 1 Axes>"
      ]
     },
     "metadata": {},
     "output_type": "display_data"
    }
   ],
   "source": [
    "fig1 = m.plot(forecast)"
   ]
  },
  {
   "cell_type": "code",
   "execution_count": 830,
   "id": "2349d906",
   "metadata": {},
   "outputs": [
    {
     "data": {
      "image/png": "[encoded data removed]",
      "text/plain": [
       "<Figure size 720x432 with 1 Axes>"
      ]
     },
     "metadata": {},
     "output_type": "display_data"
    }
   ],
   "source": [
    "model.plot(forecast, uncertainty=True)\n",
    "pyplot.show()"
   ]
  },
  {
   "cell_type": "code",
   "execution_count": 801,
   "id": "d56004c3",
   "metadata": {},
   "outputs": [
    {
     "name": "stderr",
     "output_type": "stream",
     "text": [
      "/opt/homebrew/lib/python3.9/site-packages/fbprophet/forecaster.py:891: FutureWarning:\n",
      "\n",
      "The frame.append method is deprecated and will be removed from pandas in a future version. Use pandas.concat instead.\n",
      "\n"
     ]
    },
    {
     "data": {
      "image/png": "[encoded data removed]",
      "text/plain": [
       "<Figure size 648x648 with 3 Axes>"
      ]
     },
     "execution_count": 801,
     "metadata": {},
     "output_type": "execute_result"
    },
    {
     "data": {
      "image/png": "[encoded data removed]",
      "text/plain": [
       "<Figure size 648x648 with 3 Axes>"
      ]
     },
     "metadata": {},
     "output_type": "display_data"
    }
   ],
   "source": [
    "model.plot_components(forecast)"
   ]
  },
  {
   "cell_type": "code",
   "execution_count": 802,
   "id": "e9d34ca4",
   "metadata": {},
   "outputs": [
    {
     "data": {
      "text/plain": [
       "(4, 22)"
      ]
     },
     "execution_count": 802,
     "metadata": {},
     "output_type": "execute_result"
    }
   ],
   "source": [
    "forecast.shape"
   ]
  },
  {
   "cell_type": "code",
   "execution_count": 803,
   "id": "8b292b00",
   "metadata": {},
   "outputs": [
    {
     "data": {
      "text/html": [
       "<div>\n",
       "<style scoped>\n",
       "    .dataframe tbody tr th:only-of-type {\n",
       "        vertical-align: middle;\n",
       "    }\n",
       "\n",
       "    .dataframe tbody tr th {\n",
       "        vertical-align: top;\n",
       "    }\n",
       "\n",
       "    .dataframe thead th {\n",
       "        text-align: right;\n",
       "    }\n",
       "</style>\n",
       "<table border=\"1\" class=\"dataframe\">\n",
       "  <thead>\n",
       "    <tr style=\"text-align: right;\">\n",
       "      <th></th>\n",
       "      <th>ds</th>\n",
       "      <th>trend</th>\n",
       "      <th>yhat_lower</th>\n",
       "      <th>yhat_upper</th>\n",
       "      <th>trend_lower</th>\n",
       "      <th>trend_upper</th>\n",
       "      <th>additive_terms</th>\n",
       "      <th>additive_terms_lower</th>\n",
       "      <th>additive_terms_upper</th>\n",
       "      <th>ann</th>\n",
       "      <th>...</th>\n",
       "      <th>extra_regressors_additive</th>\n",
       "      <th>extra_regressors_additive_lower</th>\n",
       "      <th>extra_regressors_additive_upper</th>\n",
       "      <th>yearly</th>\n",
       "      <th>yearly_lower</th>\n",
       "      <th>yearly_upper</th>\n",
       "      <th>multiplicative_terms</th>\n",
       "      <th>multiplicative_terms_lower</th>\n",
       "      <th>multiplicative_terms_upper</th>\n",
       "      <th>yhat</th>\n",
       "    </tr>\n",
       "  </thead>\n",
       "  <tbody>\n",
       "    <tr>\n",
       "      <th>0</th>\n",
       "      <td>2015-01-01</td>\n",
       "      <td>-302.245935</td>\n",
       "      <td>5400.320279</td>\n",
       "      <td>8508.536978</td>\n",
       "      <td>-302.245935</td>\n",
       "      <td>-302.245935</td>\n",
       "      <td>7205.977811</td>\n",
       "      <td>7205.977811</td>\n",
       "      <td>7205.977811</td>\n",
       "      <td>-455.242684</td>\n",
       "      <td>...</td>\n",
       "      <td>-455.242684</td>\n",
       "      <td>-455.242684</td>\n",
       "      <td>-455.242684</td>\n",
       "      <td>7661.220495</td>\n",
       "      <td>7661.220495</td>\n",
       "      <td>7661.220495</td>\n",
       "      <td>0.0</td>\n",
       "      <td>0.0</td>\n",
       "      <td>0.0</td>\n",
       "      <td>6903.731876</td>\n",
       "    </tr>\n",
       "    <tr>\n",
       "      <th>1</th>\n",
       "      <td>2016-01-01</td>\n",
       "      <td>291.895827</td>\n",
       "      <td>6926.110574</td>\n",
       "      <td>9910.268364</td>\n",
       "      <td>291.895827</td>\n",
       "      <td>291.895827</td>\n",
       "      <td>8154.622664</td>\n",
       "      <td>8154.622664</td>\n",
       "      <td>8154.622664</td>\n",
       "      <td>189.880620</td>\n",
       "      <td>...</td>\n",
       "      <td>189.880620</td>\n",
       "      <td>189.880620</td>\n",
       "      <td>189.880620</td>\n",
       "      <td>7964.742044</td>\n",
       "      <td>7964.742044</td>\n",
       "      <td>7964.742044</td>\n",
       "      <td>0.0</td>\n",
       "      <td>0.0</td>\n",
       "      <td>0.0</td>\n",
       "      <td>8446.518491</td>\n",
       "    </tr>\n",
       "    <tr>\n",
       "      <th>2</th>\n",
       "      <td>2017-01-01</td>\n",
       "      <td>887.665375</td>\n",
       "      <td>6256.225703</td>\n",
       "      <td>9418.933159</td>\n",
       "      <td>887.665375</td>\n",
       "      <td>887.665375</td>\n",
       "      <td>6882.882977</td>\n",
       "      <td>6882.882977</td>\n",
       "      <td>6882.882977</td>\n",
       "      <td>126.597270</td>\n",
       "      <td>...</td>\n",
       "      <td>126.597270</td>\n",
       "      <td>126.597270</td>\n",
       "      <td>126.597270</td>\n",
       "      <td>6756.285707</td>\n",
       "      <td>6756.285707</td>\n",
       "      <td>6756.285707</td>\n",
       "      <td>0.0</td>\n",
       "      <td>0.0</td>\n",
       "      <td>0.0</td>\n",
       "      <td>7770.548353</td>\n",
       "    </tr>\n",
       "    <tr>\n",
       "      <th>3</th>\n",
       "      <td>2018-01-01</td>\n",
       "      <td>1481.807138</td>\n",
       "      <td>7608.589170</td>\n",
       "      <td>10671.830097</td>\n",
       "      <td>1481.807138</td>\n",
       "      <td>1481.807138</td>\n",
       "      <td>7618.707491</td>\n",
       "      <td>7618.707491</td>\n",
       "      <td>7618.707491</td>\n",
       "      <td>360.470518</td>\n",
       "      <td>...</td>\n",
       "      <td>360.470518</td>\n",
       "      <td>360.470518</td>\n",
       "      <td>360.470518</td>\n",
       "      <td>7258.236973</td>\n",
       "      <td>7258.236973</td>\n",
       "      <td>7258.236973</td>\n",
       "      <td>0.0</td>\n",
       "      <td>0.0</td>\n",
       "      <td>0.0</td>\n",
       "      <td>9100.514629</td>\n",
       "    </tr>\n",
       "  </tbody>\n",
       "</table>\n",
       "<p>4 rows × 22 columns</p>\n",
       "</div>"
      ],
      "text/plain": [
       "          ds        trend   yhat_lower    yhat_upper  trend_lower  \\\n",
       "0 2015-01-01  -302.245935  5400.320279   8508.536978  -302.245935   \n",
       "1 2016-01-01   291.895827  6926.110574   9910.268364   291.895827   \n",
       "2 2017-01-01   887.665375  6256.225703   9418.933159   887.665375   \n",
       "3 2018-01-01  1481.807138  7608.589170  10671.830097  1481.807138   \n",
       "\n",
       "   trend_upper  additive_terms  additive_terms_lower  additive_terms_upper  \\\n",
       "0  -302.245935     7205.977811           7205.977811           7205.977811   \n",
       "1   291.895827     8154.622664           8154.622664           8154.622664   \n",
       "2   887.665375     6882.882977           6882.882977           6882.882977   \n",
       "3  1481.807138     7618.707491           7618.707491           7618.707491   \n",
       "\n",
       "          ann  ...  extra_regressors_additive  \\\n",
       "0 -455.242684  ...                -455.242684   \n",
       "1  189.880620  ...                 189.880620   \n",
       "2  126.597270  ...                 126.597270   \n",
       "3  360.470518  ...                 360.470518   \n",
       "\n",
       "   extra_regressors_additive_lower  extra_regressors_additive_upper  \\\n",
       "0                      -455.242684                      -455.242684   \n",
       "1                       189.880620                       189.880620   \n",
       "2                       126.597270                       126.597270   \n",
       "3                       360.470518                       360.470518   \n",
       "\n",
       "        yearly  yearly_lower  yearly_upper  multiplicative_terms  \\\n",
       "0  7661.220495   7661.220495   7661.220495                   0.0   \n",
       "1  7964.742044   7964.742044   7964.742044                   0.0   \n",
       "2  6756.285707   6756.285707   6756.285707                   0.0   \n",
       "3  7258.236973   7258.236973   7258.236973                   0.0   \n",
       "\n",
       "   multiplicative_terms_lower  multiplicative_terms_upper         yhat  \n",
       "0                         0.0                         0.0  6903.731876  \n",
       "1                         0.0                         0.0  8446.518491  \n",
       "2                         0.0                         0.0  7770.548353  \n",
       "3                         0.0                         0.0  9100.514629  \n",
       "\n",
       "[4 rows x 22 columns]"
      ]
     },
     "execution_count": 803,
     "metadata": {},
     "output_type": "execute_result"
    }
   ],
   "source": [
    "forecast.head()"
   ]
  },
  {
   "cell_type": "code",
   "execution_count": 846,
   "id": "15cb0e50",
   "metadata": {},
   "outputs": [],
   "source": [
    "y_pred = forecast['yhat']\n",
    "y_true = test['y']"
   ]
  },
  {
   "cell_type": "code",
   "execution_count": 847,
   "id": "515977bc",
   "metadata": {},
   "outputs": [
    {
     "data": {
      "text/plain": [
       "(4,)"
      ]
     },
     "execution_count": 847,
     "metadata": {},
     "output_type": "execute_result"
    }
   ],
   "source": [
    "forecast['yhat'].shape"
   ]
  },
  {
   "cell_type": "code",
   "execution_count": 848,
   "id": "6b116888",
   "metadata": {},
   "outputs": [
    {
     "data": {
      "text/plain": [
       "(12,)"
      ]
     },
     "execution_count": 848,
     "metadata": {},
     "output_type": "execute_result"
    }
   ],
   "source": [
    "test['y'].shape"
   ]
  },
  {
   "cell_type": "code",
   "execution_count": 849,
   "id": "ac172a62",
   "metadata": {},
   "outputs": [
    {
     "data": {
      "image/png": "[encoded data removed]",
      "text/plain": [
       "<Figure size 432x288 with 1 Axes>"
      ]
     },
     "metadata": {
      "needs_background": "light"
     },
     "output_type": "display_data"
    }
   ],
   "source": [
    "pyplot.plot(y_true, label='Actual')\n",
    "pyplot.plot(y_pred, label='Predicted')\n",
    "pyplot.legend()\n",
    "pyplot.show()\n"
   ]
  },
  {
   "cell_type": "code",
   "execution_count": 804,
   "id": "c995523a",
   "metadata": {},
   "outputs": [
    {
     "data": {
      "text/html": [
       "<div>\n",
       "<style scoped>\n",
       "    .dataframe tbody tr th:only-of-type {\n",
       "        vertical-align: middle;\n",
       "    }\n",
       "\n",
       "    .dataframe tbody tr th {\n",
       "        vertical-align: top;\n",
       "    }\n",
       "\n",
       "    .dataframe thead th {\n",
       "        text-align: right;\n",
       "    }\n",
       "</style>\n",
       "<table border=\"1\" class=\"dataframe\">\n",
       "  <thead>\n",
       "    <tr style=\"text-align: right;\">\n",
       "      <th></th>\n",
       "      <th>ds</th>\n",
       "      <th>y</th>\n",
       "      <th>win</th>\n",
       "      <th>spr</th>\n",
       "      <th>sum</th>\n",
       "      <th>aut</th>\n",
       "      <th>ann</th>\n",
       "    </tr>\n",
       "  </thead>\n",
       "  <tbody>\n",
       "    <tr>\n",
       "      <th>15</th>\n",
       "      <td>2015</td>\n",
       "      <td>6652.0</td>\n",
       "      <td>590.6</td>\n",
       "      <td>400.5</td>\n",
       "      <td>359.8</td>\n",
       "      <td>382.1</td>\n",
       "      <td>1840.1</td>\n",
       "    </tr>\n",
       "    <tr>\n",
       "      <th>16</th>\n",
       "      <td>2016</td>\n",
       "      <td>5975.0</td>\n",
       "      <td>739.3</td>\n",
       "      <td>261.3</td>\n",
       "      <td>345.1</td>\n",
       "      <td>321.2</td>\n",
       "      <td>1488.4</td>\n",
       "    </tr>\n",
       "    <tr>\n",
       "      <th>17</th>\n",
       "      <td>2017</td>\n",
       "      <td>7302.0</td>\n",
       "      <td>387.5</td>\n",
       "      <td>243.7</td>\n",
       "      <td>409.4</td>\n",
       "      <td>482.3</td>\n",
       "      <td>1522.9</td>\n",
       "    </tr>\n",
       "    <tr>\n",
       "      <th>18</th>\n",
       "      <td>2018</td>\n",
       "      <td>10862.0</td>\n",
       "      <td>426.2</td>\n",
       "      <td>232.5</td>\n",
       "      <td>252.2</td>\n",
       "      <td>498.7</td>\n",
       "      <td>1395.4</td>\n",
       "    </tr>\n",
       "    <tr>\n",
       "      <th>19</th>\n",
       "      <td>2019</td>\n",
       "      <td>11680.0</td>\n",
       "      <td>342.3</td>\n",
       "      <td>336.0</td>\n",
       "      <td>439.4</td>\n",
       "      <td>382.6</td>\n",
       "      <td>1558.9</td>\n",
       "    </tr>\n",
       "  </tbody>\n",
       "</table>\n",
       "</div>"
      ],
      "text/plain": [
       "      ds        y    win    spr    sum    aut     ann\n",
       "15  2015   6652.0  590.6  400.5  359.8  382.1  1840.1\n",
       "16  2016   5975.0  739.3  261.3  345.1  321.2  1488.4\n",
       "17  2017   7302.0  387.5  243.7  409.4  482.3  1522.9\n",
       "18  2018  10862.0  426.2  232.5  252.2  498.7  1395.4\n",
       "19  2019  11680.0  342.3  336.0  439.4  382.6  1558.9"
      ]
     },
     "execution_count": 804,
     "metadata": {},
     "output_type": "execute_result"
    }
   ],
   "source": [
    "test.tail()"
   ]
  },
  {
   "cell_type": "code",
   "execution_count": 831,
   "id": "472dcfd1",
   "metadata": {},
   "outputs": [
    {
     "data": {
      "text/html": [
       "<div>\n",
       "<style scoped>\n",
       "    .dataframe tbody tr th:only-of-type {\n",
       "        vertical-align: middle;\n",
       "    }\n",
       "\n",
       "    .dataframe tbody tr th {\n",
       "        vertical-align: top;\n",
       "    }\n",
       "\n",
       "    .dataframe thead th {\n",
       "        text-align: right;\n",
       "    }\n",
       "</style>\n",
       "<table border=\"1\" class=\"dataframe\">\n",
       "  <thead>\n",
       "    <tr style=\"text-align: right;\">\n",
       "      <th></th>\n",
       "      <th>ds</th>\n",
       "      <th>trend</th>\n",
       "      <th>yhat_lower</th>\n",
       "      <th>yhat_upper</th>\n",
       "      <th>trend_lower</th>\n",
       "      <th>trend_upper</th>\n",
       "      <th>additive_terms</th>\n",
       "      <th>additive_terms_lower</th>\n",
       "      <th>additive_terms_upper</th>\n",
       "      <th>ann</th>\n",
       "      <th>...</th>\n",
       "      <th>extra_regressors_additive</th>\n",
       "      <th>extra_regressors_additive_lower</th>\n",
       "      <th>extra_regressors_additive_upper</th>\n",
       "      <th>yearly</th>\n",
       "      <th>yearly_lower</th>\n",
       "      <th>yearly_upper</th>\n",
       "      <th>multiplicative_terms</th>\n",
       "      <th>multiplicative_terms_lower</th>\n",
       "      <th>multiplicative_terms_upper</th>\n",
       "      <th>yhat</th>\n",
       "    </tr>\n",
       "  </thead>\n",
       "  <tbody>\n",
       "    <tr>\n",
       "      <th>0</th>\n",
       "      <td>2015-01-01</td>\n",
       "      <td>-302.245935</td>\n",
       "      <td>5400.320279</td>\n",
       "      <td>8508.536978</td>\n",
       "      <td>-302.245935</td>\n",
       "      <td>-302.245935</td>\n",
       "      <td>7205.977811</td>\n",
       "      <td>7205.977811</td>\n",
       "      <td>7205.977811</td>\n",
       "      <td>-455.242684</td>\n",
       "      <td>...</td>\n",
       "      <td>-455.242684</td>\n",
       "      <td>-455.242684</td>\n",
       "      <td>-455.242684</td>\n",
       "      <td>7661.220495</td>\n",
       "      <td>7661.220495</td>\n",
       "      <td>7661.220495</td>\n",
       "      <td>0.0</td>\n",
       "      <td>0.0</td>\n",
       "      <td>0.0</td>\n",
       "      <td>6903.731876</td>\n",
       "    </tr>\n",
       "    <tr>\n",
       "      <th>1</th>\n",
       "      <td>2016-01-01</td>\n",
       "      <td>291.895827</td>\n",
       "      <td>6926.110574</td>\n",
       "      <td>9910.268364</td>\n",
       "      <td>291.895827</td>\n",
       "      <td>291.895827</td>\n",
       "      <td>8154.622664</td>\n",
       "      <td>8154.622664</td>\n",
       "      <td>8154.622664</td>\n",
       "      <td>189.880620</td>\n",
       "      <td>...</td>\n",
       "      <td>189.880620</td>\n",
       "      <td>189.880620</td>\n",
       "      <td>189.880620</td>\n",
       "      <td>7964.742044</td>\n",
       "      <td>7964.742044</td>\n",
       "      <td>7964.742044</td>\n",
       "      <td>0.0</td>\n",
       "      <td>0.0</td>\n",
       "      <td>0.0</td>\n",
       "      <td>8446.518491</td>\n",
       "    </tr>\n",
       "    <tr>\n",
       "      <th>2</th>\n",
       "      <td>2017-01-01</td>\n",
       "      <td>887.665375</td>\n",
       "      <td>6256.225703</td>\n",
       "      <td>9418.933159</td>\n",
       "      <td>887.665375</td>\n",
       "      <td>887.665375</td>\n",
       "      <td>6882.882977</td>\n",
       "      <td>6882.882977</td>\n",
       "      <td>6882.882977</td>\n",
       "      <td>126.597270</td>\n",
       "      <td>...</td>\n",
       "      <td>126.597270</td>\n",
       "      <td>126.597270</td>\n",
       "      <td>126.597270</td>\n",
       "      <td>6756.285707</td>\n",
       "      <td>6756.285707</td>\n",
       "      <td>6756.285707</td>\n",
       "      <td>0.0</td>\n",
       "      <td>0.0</td>\n",
       "      <td>0.0</td>\n",
       "      <td>7770.548353</td>\n",
       "    </tr>\n",
       "    <tr>\n",
       "      <th>3</th>\n",
       "      <td>2018-01-01</td>\n",
       "      <td>1481.807138</td>\n",
       "      <td>7608.589170</td>\n",
       "      <td>10671.830097</td>\n",
       "      <td>1481.807138</td>\n",
       "      <td>1481.807138</td>\n",
       "      <td>7618.707491</td>\n",
       "      <td>7618.707491</td>\n",
       "      <td>7618.707491</td>\n",
       "      <td>360.470518</td>\n",
       "      <td>...</td>\n",
       "      <td>360.470518</td>\n",
       "      <td>360.470518</td>\n",
       "      <td>360.470518</td>\n",
       "      <td>7258.236973</td>\n",
       "      <td>7258.236973</td>\n",
       "      <td>7258.236973</td>\n",
       "      <td>0.0</td>\n",
       "      <td>0.0</td>\n",
       "      <td>0.0</td>\n",
       "      <td>9100.514629</td>\n",
       "    </tr>\n",
       "  </tbody>\n",
       "</table>\n",
       "<p>4 rows × 22 columns</p>\n",
       "</div>"
      ],
      "text/plain": [
       "          ds        trend   yhat_lower    yhat_upper  trend_lower  \\\n",
       "0 2015-01-01  -302.245935  5400.320279   8508.536978  -302.245935   \n",
       "1 2016-01-01   291.895827  6926.110574   9910.268364   291.895827   \n",
       "2 2017-01-01   887.665375  6256.225703   9418.933159   887.665375   \n",
       "3 2018-01-01  1481.807138  7608.589170  10671.830097  1481.807138   \n",
       "\n",
       "   trend_upper  additive_terms  additive_terms_lower  additive_terms_upper  \\\n",
       "0  -302.245935     7205.977811           7205.977811           7205.977811   \n",
       "1   291.895827     8154.622664           8154.622664           8154.622664   \n",
       "2   887.665375     6882.882977           6882.882977           6882.882977   \n",
       "3  1481.807138     7618.707491           7618.707491           7618.707491   \n",
       "\n",
       "          ann  ...  extra_regressors_additive  \\\n",
       "0 -455.242684  ...                -455.242684   \n",
       "1  189.880620  ...                 189.880620   \n",
       "2  126.597270  ...                 126.597270   \n",
       "3  360.470518  ...                 360.470518   \n",
       "\n",
       "   extra_regressors_additive_lower  extra_regressors_additive_upper  \\\n",
       "0                      -455.242684                      -455.242684   \n",
       "1                       189.880620                       189.880620   \n",
       "2                       126.597270                       126.597270   \n",
       "3                       360.470518                       360.470518   \n",
       "\n",
       "        yearly  yearly_lower  yearly_upper  multiplicative_terms  \\\n",
       "0  7661.220495   7661.220495   7661.220495                   0.0   \n",
       "1  7964.742044   7964.742044   7964.742044                   0.0   \n",
       "2  6756.285707   6756.285707   6756.285707                   0.0   \n",
       "3  7258.236973   7258.236973   7258.236973                   0.0   \n",
       "\n",
       "   multiplicative_terms_lower  multiplicative_terms_upper         yhat  \n",
       "0                         0.0                         0.0  6903.731876  \n",
       "1                         0.0                         0.0  8446.518491  \n",
       "2                         0.0                         0.0  7770.548353  \n",
       "3                         0.0                         0.0  9100.514629  \n",
       "\n",
       "[4 rows x 22 columns]"
      ]
     },
     "execution_count": 831,
     "metadata": {},
     "output_type": "execute_result"
    }
   ],
   "source": [
    "forecast.head()"
   ]
  },
  {
   "cell_type": "code",
   "execution_count": 805,
   "id": "e01456c6",
   "metadata": {},
   "outputs": [],
   "source": [
    "y_pred = forecast['yhat']\n",
    "y_true = test[-4:]['y']"
   ]
  },
  {
   "cell_type": "code",
   "execution_count": 806,
   "id": "a8e4215c",
   "metadata": {},
   "outputs": [
    {
     "data": {
      "text/plain": [
       "0    6903.731876\n",
       "1    8446.518491\n",
       "2    7770.548353\n",
       "3    9100.514629\n",
       "Name: yhat, dtype: float64"
      ]
     },
     "execution_count": 806,
     "metadata": {},
     "output_type": "execute_result"
    }
   ],
   "source": [
    "y_pred.head()"
   ]
  },
  {
   "cell_type": "code",
   "execution_count": 807,
   "id": "f35e947b",
   "metadata": {},
   "outputs": [
    {
     "data": {
      "text/plain": [
       "16     5975.0\n",
       "17     7302.0\n",
       "18    10862.0\n",
       "19    11680.0\n",
       "Name: y, dtype: float64"
      ]
     },
     "execution_count": 807,
     "metadata": {},
     "output_type": "execute_result"
    }
   ],
   "source": [
    "y_true.head()"
   ]
  },
  {
   "cell_type": "code",
   "execution_count": 808,
   "id": "e1b7f6f5",
   "metadata": {},
   "outputs": [
    {
     "data": {
      "text/plain": [
       "2143.786576355476"
      ]
     },
     "execution_count": 808,
     "metadata": {},
     "output_type": "execute_result"
    }
   ],
   "source": [
    "rmse(y_pred, y_true)"
   ]
  },
  {
   "cell_type": "code",
   "execution_count": 809,
   "id": "533bc07b",
   "metadata": {},
   "outputs": [],
   "source": [
    "from sklearn.metrics import mean_absolute_percentage_error"
   ]
  },
  {
   "cell_type": "code",
   "execution_count": 810,
   "id": "174749a2",
   "metadata": {},
   "outputs": [
    {
     "data": {
      "text/plain": [
       "0.20440867526068635"
      ]
     },
     "execution_count": 810,
     "metadata": {},
     "output_type": "execute_result"
    }
   ],
   "source": [
    "mean_absolute_percentage_error(y_true, y_pred)"
   ]
  },
  {
   "cell_type": "code",
   "execution_count": 828,
   "id": "29625f27",
   "metadata": {},
   "outputs": [
    {
     "data": {
      "text/plain": [
       "[<matplotlib.lines.Line2D at 0x2830dc160>]"
      ]
     },
     "execution_count": 828,
     "metadata": {},
     "output_type": "execute_result"
    },
    {
     "data": {
      "image/png": "[encoded data removed]",
      "text/plain": [
       "<Figure size 432x288 with 1 Axes>"
      ]
     },
     "metadata": {
      "needs_background": "light"
     },
     "output_type": "display_data"
    }
   ],
   "source": [
    "pyplot.plot(y_true, label='Actual')\n",
    "pyplot.plot(y_pred, label='Predicted')\n",
    "\n",
    "\n"
   ]
  },
  {
   "cell_type": "code",
   "execution_count": 826,
   "id": "fa649a4e",
   "metadata": {},
   "outputs": [
    {
     "data": {
      "text/plain": [
       "11680.0"
      ]
     },
     "execution_count": 826,
     "metadata": {},
     "output_type": "execute_result"
    }
   ],
   "source": [
    "y_true.max()"
   ]
  },
  {
   "cell_type": "code",
   "execution_count": 816,
   "id": "7c9b9aa2",
   "metadata": {},
   "outputs": [
    {
     "data": {
      "text/plain": [
       "9100.514629170375"
      ]
     },
     "execution_count": 816,
     "metadata": {},
     "output_type": "execute_result"
    }
   ],
   "source": [
    "y_pred.max()"
   ]
  },
  {
   "cell_type": "code",
   "execution_count": 821,
   "id": "02188d0b",
   "metadata": {},
   "outputs": [
    {
     "data": {
      "text/plain": [
       "5975.0"
      ]
     },
     "execution_count": 821,
     "metadata": {},
     "output_type": "execute_result"
    }
   ],
   "source": [
    "y_true.min()"
   ]
  },
  {
   "cell_type": "code",
   "execution_count": null,
   "id": "57f68bba",
   "metadata": {},
   "outputs": [],
   "source": []
  }
 ],
 "metadata": {
  "kernelspec": {
   "display_name": "Python 3 (ipykernel)",
   "language": "python",
   "name": "python3"
  },
  "language_info": {
   "codemirror_mode": {
    "name": "ipython",
    "version": 3
   },
   "file_extension": ".py",
   "mimetype": "text/x-python",
   "name": "python",
   "nbconvert_exporter": "python",
   "pygments_lexer": "ipython3",
   "version": "3.9.15"
  }
 },
 "nbformat": 4,
 "nbformat_minor": 5
}
